{
  "cells": [
    {
      "cell_type": "markdown",
      "metadata": {
        "id": "view-in-github",
        "colab_type": "text"
      },
      "source": [
        "<a href=\"https://colab.research.google.com/github/Jake-Baum/ml-mono/blob/main/image_classification.ipynb\" target=\"_parent\"><img src=\"https://colab.research.google.com/assets/colab-badge.svg\" alt=\"Open In Colab\"/></a>"
      ]
    },
    {
      "cell_type": "code",
      "execution_count": null,
      "metadata": {
        "id": "XpVHDndAqoIK"
      },
      "outputs": [],
      "source": [
        "#@title Imports { display-mode: \"both\" }\n",
        "\n",
        "import tensorflow as tf\n",
        "import matplotlib.pyplot as plt\n",
        "import pandas as pd\n",
        "\n",
        "import time"
      ]
    },
    {
      "cell_type": "code",
      "execution_count": null,
      "metadata": {
        "colab": {
          "base_uri": "https://localhost:8080/"
        },
        "id": "YAxAk3i0q_VV",
        "outputId": "a365ff62-a595-468c-f94b-a3f35bbcf649"
      },
      "outputs": [
        {
          "output_type": "stream",
          "name": "stdout",
          "text": [
            "Downloading data from https://www.cs.toronto.edu/~kriz/cifar-10-python.tar.gz\n",
            "170498071/170498071 [==============================] - 3s 0us/step\n"
          ]
        }
      ],
      "source": [
        "#@title Load dataset\n",
        "\n",
        "(x_train, y_train), (x_test, y_test) = tf.keras.datasets.cifar10.load_data()\n",
        "\n",
        "label_names = ['airplane', 'automobile', 'bird', 'cat', 'deer', 'dog', 'frog', 'horse', 'ship', 'truck']"
      ]
    },
    {
      "cell_type": "code",
      "execution_count": null,
      "metadata": {
        "colab": {
          "base_uri": "https://localhost:8080/",
          "height": 284
        },
        "id": "gSAu8eUyrOrB",
        "outputId": "56e725e5-fbd1-478c-ca55-7ba69501cf21"
      },
      "outputs": [
        {
          "data": {
            "text/plain": [
              "32"
            ]
          },
          "execution_count": 27,
          "metadata": {},
          "output_type": "execute_result"
        },
        {
          "data": {
            "image/png": "[encoded data removed]",
            "text/plain": [
              "<Figure size 432x288 with 1 Axes>"
            ]
          },
          "metadata": {},
          "output_type": "display_data"
        }
      ],
      "source": [
        "#@title Visualise data\n",
        "\n",
        "\n",
        "plt.imshow(x_train[0])\n",
        "label_names[y_train[0][0]]"
      ]
    },
    {
      "cell_type": "code",
      "execution_count": null,
      "metadata": {
        "id": "qEnE9bEAsr_U"
      },
      "outputs": [],
      "source": [
        "#@title Normalise data\n",
        "\n",
        "x_train_normalized = x_train / 255.0\n",
        "x_test_normalized = x_test / 255.0"
      ]
    },
    {
      "cell_type": "code",
      "execution_count": null,
      "metadata": {
        "colab": {
          "base_uri": "https://localhost:8080/"
        },
        "id": "361gVCCwugxX",
        "outputId": "a9db9449-8f89-4108-c648-4c472a0191cb"
      },
      "outputs": [
        {
          "output_type": "stream",
          "name": "stdout",
          "text": [
            "plot_curve defined\n"
          ]
        }
      ],
      "source": [
        "#@title Define plotting function for classification metrics\n",
        "\n",
        "def plot_curve(epochs, hist, metrics):\n",
        "  plt.figure()\n",
        "  plt.xlabel(\"Epoch\")\n",
        "  plt.ylabel(\"Value\")\n",
        "\n",
        "  for metric in metrics:\n",
        "    x = hist[metric]\n",
        "    plt.plot(epochs[1:], x[1:], label=metric)\n",
        "  \n",
        "  plt.legend()\n",
        "\n",
        "print(\"plot_curve defined\")"
      ]
    },
    {
      "cell_type": "code",
      "execution_count": null,
      "metadata": {
        "id": "8L3d4NLjvA7V"
      },
      "outputs": [],
      "source": [
        "#@title Define function for creating a model\n",
        "\n",
        "def create_model(learning_rate):\n",
        "  model = tf.keras.models.Sequential()\n",
        "\n",
        "  #Flatten image array to 1D\n",
        "  model.add(tf.keras.layers.Flatten(input_shape=(len(x_train[0]), len(x_train[0][0]), len(x_train[0][0][0]))))\n",
        "  print('First layer contains', len(x_train[0]) * len(x_train[0][0]) * len(x_train[0][0][0]), 'nodes')\n",
        "\n",
        "  model.add(tf.keras.layers.Dense(units=500, activation='relu'))\n",
        "\n",
        "  model.add(tf.keras.layers.Dropout(0.2))\n",
        "\n",
        "  model.add(tf.keras.layers.Dense(units=200, activation='relu'))\n",
        "\n",
        "  model.add(tf.keras.layers.Dropout(0.2))\n",
        "\n",
        "  model.add(tf.keras.layers.Dense(units=100, activation='relu'))\n",
        "\n",
        "  model.add(tf.keras.layers.Dropout(0.2))\n",
        "\n",
        "  model.add(tf.keras.layers.Dense(units=50, activation='relu'))\n",
        "\n",
        "  #Ouput layer\n",
        "  model.add(tf.keras.layers.Dense(units=len(label_names), activation='softmax'))\n",
        "\n",
        "  model.compile(optimizer=tf.keras.optimizers.Adam(learning_rate=learning_rate),\n",
        "                loss=\"sparse_categorical_crossentropy\",\n",
        "                metrics=['accuracy'])\n",
        "  \n",
        "  return model"
      ]
    },
    {
      "cell_type": "code",
      "execution_count": null,
      "metadata": {
        "id": "vWWu6n7cwOw1"
      },
      "outputs": [],
      "source": [
        "#@title Define function for training a model\n",
        "\n",
        "def train_model(model, train_features, train_label, epochs, batch_size=None, validation_split=0.2):\n",
        "  history = model.fit(x=train_features, y=train_label, batch_size=batch_size, epochs=epochs, shuffle=True, validation_split=validation_split)\n",
        "\n",
        "  epochs = history.epoch\n",
        "  hist = pd.DataFrame(history.history)\n",
        "\n",
        "  return epochs, hist"
      ]
    },
    {
      "cell_type": "code",
      "execution_count": null,
      "metadata": {
        "colab": {
          "base_uri": "https://localhost:8080/",
          "height": 1000
        },
        "id": "oBX-q8JywyKq",
        "outputId": "717de37f-aa9f-4a1f-edf8-4fa1282d8a13"
      },
      "outputs": [
        {
          "output_type": "stream",
          "name": "stdout",
          "text": [
            "First layer contains 3072 nodes\n",
            "Epoch 1/100\n",
            "8/8 [==============================] - 57s 7s/step - loss: 2.2820 - accuracy: 0.1550 - val_loss: 2.3320 - val_accuracy: 0.1248\n",
            "Epoch 2/100\n",
            "8/8 [==============================] - 55s 7s/step - loss: 2.2200 - accuracy: 0.1738 - val_loss: 2.1764 - val_accuracy: 0.1892\n",
            "Epoch 3/100\n",
            "8/8 [==============================] - 54s 7s/step - loss: 2.0924 - accuracy: 0.2359 - val_loss: 1.9486 - val_accuracy: 0.2819\n",
            "Epoch 4/100\n",
            "8/8 [==============================] - 54s 7s/step - loss: 1.9333 - accuracy: 0.2808 - val_loss: 1.8419 - val_accuracy: 0.3135\n",
            "Epoch 5/100\n",
            "8/8 [==============================] - 54s 7s/step - loss: 1.8429 - accuracy: 0.3161 - val_loss: 1.7728 - val_accuracy: 0.3475\n",
            "Epoch 6/100\n",
            "8/8 [==============================] - 56s 7s/step - loss: 1.7634 - accuracy: 0.3453 - val_loss: 1.6781 - val_accuracy: 0.3798\n",
            "Epoch 7/100\n",
            "8/8 [==============================] - 54s 7s/step - loss: 1.6811 - accuracy: 0.3730 - val_loss: 1.6222 - val_accuracy: 0.3970\n",
            "Epoch 8/100\n",
            "8/8 [==============================] - 55s 7s/step - loss: 1.6420 - accuracy: 0.3908 - val_loss: 1.5855 - val_accuracy: 0.4107\n",
            "Epoch 9/100\n",
            "8/8 [==============================] - 57s 7s/step - loss: 1.5699 - accuracy: 0.4239 - val_loss: 1.4869 - val_accuracy: 0.4590\n",
            "Epoch 10/100\n",
            "8/8 [==============================] - 56s 7s/step - loss: 1.5061 - accuracy: 0.4438 - val_loss: 1.4760 - val_accuracy: 0.4609\n",
            "Epoch 11/100\n",
            "8/8 [==============================] - 55s 7s/step - loss: 1.5433 - accuracy: 0.4344 - val_loss: 1.4791 - val_accuracy: 0.4603\n",
            "Epoch 12/100\n",
            "8/8 [==============================] - 55s 7s/step - loss: 1.4718 - accuracy: 0.4615 - val_loss: 1.4046 - val_accuracy: 0.4856\n",
            "Epoch 13/100\n",
            "8/8 [==============================] - 55s 7s/step - loss: 1.4228 - accuracy: 0.4782 - val_loss: 1.3496 - val_accuracy: 0.5109\n",
            "Epoch 14/100\n",
            "8/8 [==============================] - 56s 7s/step - loss: 1.3814 - accuracy: 0.4949 - val_loss: 1.3290 - val_accuracy: 0.5230\n",
            "Epoch 15/100\n",
            "8/8 [==============================] - 55s 7s/step - loss: 1.3579 - accuracy: 0.5067 - val_loss: 1.3144 - val_accuracy: 0.5320\n",
            "Epoch 16/100\n",
            "8/8 [==============================] - 55s 7s/step - loss: 1.3507 - accuracy: 0.5100 - val_loss: 1.2762 - val_accuracy: 0.5425\n",
            "Epoch 17/100\n",
            "8/8 [==============================] - 55s 7s/step - loss: 1.3045 - accuracy: 0.5277 - val_loss: 1.2909 - val_accuracy: 0.5347\n",
            "Epoch 18/100\n",
            "8/8 [==============================] - 56s 7s/step - loss: 1.2787 - accuracy: 0.5377 - val_loss: 1.2289 - val_accuracy: 0.5598\n",
            "Epoch 19/100\n",
            "8/8 [==============================] - 55s 7s/step - loss: 1.2519 - accuracy: 0.5489 - val_loss: 1.2005 - val_accuracy: 0.5725\n",
            "Epoch 20/100\n",
            "8/8 [==============================] - 58s 7s/step - loss: 1.2227 - accuracy: 0.5586 - val_loss: 1.1589 - val_accuracy: 0.5899\n",
            "Epoch 21/100\n",
            "8/8 [==============================] - 55s 7s/step - loss: 1.2211 - accuracy: 0.5616 - val_loss: 1.2330 - val_accuracy: 0.5646\n",
            "Epoch 22/100\n",
            "8/8 [==============================] - 56s 7s/step - loss: 1.2456 - accuracy: 0.5560 - val_loss: 1.1656 - val_accuracy: 0.5911\n",
            "Epoch 23/100\n",
            "8/8 [==============================] - 56s 7s/step - loss: 1.2007 - accuracy: 0.5739 - val_loss: 1.1609 - val_accuracy: 0.5858\n",
            "Epoch 24/100\n",
            "8/8 [==============================] - 54s 7s/step - loss: 1.1669 - accuracy: 0.5853 - val_loss: 1.1217 - val_accuracy: 0.6050\n",
            "Epoch 25/100\n",
            "8/8 [==============================] - 55s 7s/step - loss: 1.1428 - accuracy: 0.5915 - val_loss: 1.1167 - val_accuracy: 0.6020\n",
            "Epoch 26/100\n",
            "8/8 [==============================] - 55s 7s/step - loss: 1.1770 - accuracy: 0.5807 - val_loss: 1.1187 - val_accuracy: 0.6127\n",
            "Epoch 27/100\n",
            "8/8 [==============================] - 56s 7s/step - loss: 1.1464 - accuracy: 0.5898 - val_loss: 1.1019 - val_accuracy: 0.6155\n",
            "Epoch 28/100\n",
            "8/8 [==============================] - 55s 7s/step - loss: 1.1113 - accuracy: 0.6025 - val_loss: 1.0634 - val_accuracy: 0.6269\n",
            "Epoch 29/100\n",
            "8/8 [==============================] - 55s 7s/step - loss: 1.0744 - accuracy: 0.6168 - val_loss: 1.0474 - val_accuracy: 0.6332\n",
            "Epoch 30/100\n",
            "8/8 [==============================] - 56s 7s/step - loss: 1.0672 - accuracy: 0.6213 - val_loss: 1.0284 - val_accuracy: 0.6396\n",
            "Epoch 31/100\n",
            "8/8 [==============================] - 61s 7s/step - loss: 1.0788 - accuracy: 0.6153 - val_loss: 1.0722 - val_accuracy: 0.6221\n",
            "Epoch 32/100\n",
            "8/8 [==============================] - 55s 7s/step - loss: 1.0629 - accuracy: 0.6213 - val_loss: 1.0218 - val_accuracy: 0.6429\n",
            "Epoch 33/100\n",
            "8/8 [==============================] - 56s 7s/step - loss: 1.0271 - accuracy: 0.6326 - val_loss: 1.0024 - val_accuracy: 0.6484\n",
            "Epoch 34/100\n",
            "8/8 [==============================] - 56s 7s/step - loss: 1.0138 - accuracy: 0.6411 - val_loss: 0.9932 - val_accuracy: 0.6538\n",
            "Epoch 35/100\n",
            "8/8 [==============================] - 57s 7s/step - loss: 0.9966 - accuracy: 0.6472 - val_loss: 1.0185 - val_accuracy: 0.6338\n",
            "Epoch 36/100\n",
            "8/8 [==============================] - 55s 7s/step - loss: 1.0687 - accuracy: 0.6217 - val_loss: 1.0496 - val_accuracy: 0.6304\n",
            "Epoch 37/100\n",
            "8/8 [==============================] - 55s 7s/step - loss: 1.0289 - accuracy: 0.6347 - val_loss: 0.9978 - val_accuracy: 0.6454\n",
            "Epoch 38/100\n",
            "8/8 [==============================] - 55s 7s/step - loss: 0.9926 - accuracy: 0.6481 - val_loss: 0.9658 - val_accuracy: 0.6633\n",
            "Epoch 39/100\n",
            "8/8 [==============================] - 57s 7s/step - loss: 0.9903 - accuracy: 0.6507 - val_loss: 0.9615 - val_accuracy: 0.6615\n",
            "Epoch 40/100\n",
            "8/8 [==============================] - 56s 7s/step - loss: 0.9842 - accuracy: 0.6522 - val_loss: 0.9593 - val_accuracy: 0.6655\n",
            "Epoch 41/100\n",
            "8/8 [==============================] - 56s 7s/step - loss: 0.9572 - accuracy: 0.6636 - val_loss: 0.9452 - val_accuracy: 0.6728\n",
            "Epoch 42/100\n",
            "8/8 [==============================] - 55s 7s/step - loss: 0.9406 - accuracy: 0.6666 - val_loss: 0.9751 - val_accuracy: 0.6595\n",
            "Epoch 43/100\n",
            "8/8 [==============================] - 57s 7s/step - loss: 0.9502 - accuracy: 0.6614 - val_loss: 0.9300 - val_accuracy: 0.6796\n",
            "Epoch 44/100\n",
            "8/8 [==============================] - 55s 7s/step - loss: 0.9210 - accuracy: 0.6749 - val_loss: 0.9120 - val_accuracy: 0.6805\n",
            "Epoch 45/100\n",
            "8/8 [==============================] - 55s 7s/step - loss: 0.8994 - accuracy: 0.6809 - val_loss: 0.9038 - val_accuracy: 0.6881\n",
            "Epoch 46/100\n",
            "8/8 [==============================] - 56s 7s/step - loss: 0.9206 - accuracy: 0.6745 - val_loss: 0.9121 - val_accuracy: 0.6870\n",
            "Epoch 47/100\n",
            "8/8 [==============================] - 57s 7s/step - loss: 0.8916 - accuracy: 0.6865 - val_loss: 0.8913 - val_accuracy: 0.6904\n",
            "Epoch 48/100\n",
            "8/8 [==============================] - 56s 7s/step - loss: 0.8644 - accuracy: 0.6961 - val_loss: 0.8996 - val_accuracy: 0.6878\n",
            "Epoch 49/100\n",
            "8/8 [==============================] - 55s 7s/step - loss: 0.8675 - accuracy: 0.6941 - val_loss: 0.8927 - val_accuracy: 0.6901\n",
            "Epoch 50/100\n",
            "8/8 [==============================] - 57s 7s/step - loss: 0.8556 - accuracy: 0.6981 - val_loss: 0.9381 - val_accuracy: 0.6774\n",
            "Epoch 51/100\n",
            "8/8 [==============================] - 55s 7s/step - loss: 0.8776 - accuracy: 0.6888 - val_loss: 0.8834 - val_accuracy: 0.6923\n",
            "Epoch 52/100\n",
            "8/8 [==============================] - 55s 7s/step - loss: 0.8388 - accuracy: 0.7064 - val_loss: 0.8631 - val_accuracy: 0.7022\n",
            "Epoch 53/100\n",
            "8/8 [==============================] - 55s 7s/step - loss: 0.8283 - accuracy: 0.7065 - val_loss: 0.8812 - val_accuracy: 0.6922\n",
            "Epoch 54/100\n",
            "8/8 [==============================] - 57s 7s/step - loss: 0.8381 - accuracy: 0.7026 - val_loss: 0.8711 - val_accuracy: 0.6974\n",
            "Epoch 55/100\n",
            "8/8 [==============================] - 55s 7s/step - loss: 0.8135 - accuracy: 0.7124 - val_loss: 0.8778 - val_accuracy: 0.6964\n",
            "Epoch 56/100\n",
            "8/8 [==============================] - 55s 7s/step - loss: 0.8227 - accuracy: 0.7085 - val_loss: 0.8451 - val_accuracy: 0.7073\n",
            "Epoch 57/100\n",
            "8/8 [==============================] - 55s 7s/step - loss: 0.7985 - accuracy: 0.7181 - val_loss: 0.8480 - val_accuracy: 0.7047\n",
            "Epoch 58/100\n",
            "8/8 [==============================] - 56s 7s/step - loss: 0.7947 - accuracy: 0.7178 - val_loss: 0.8745 - val_accuracy: 0.6970\n",
            "Epoch 59/100\n",
            "8/8 [==============================] - 55s 7s/step - loss: 0.8065 - accuracy: 0.7174 - val_loss: 0.8679 - val_accuracy: 0.7003\n",
            "Epoch 60/100\n",
            "8/8 [==============================] - 55s 7s/step - loss: 0.7924 - accuracy: 0.7189 - val_loss: 0.8340 - val_accuracy: 0.7105\n",
            "Epoch 61/100\n",
            "8/8 [==============================] - 56s 7s/step - loss: 0.7675 - accuracy: 0.7277 - val_loss: 0.8415 - val_accuracy: 0.7122\n",
            "Epoch 62/100\n",
            "8/8 [==============================] - 57s 7s/step - loss: 0.7594 - accuracy: 0.7286 - val_loss: 0.8340 - val_accuracy: 0.7125\n",
            "Epoch 63/100\n",
            "8/8 [==============================] - 56s 7s/step - loss: 0.7661 - accuracy: 0.7312 - val_loss: 0.8646 - val_accuracy: 0.6992\n",
            "Epoch 64/100\n",
            "8/8 [==============================] - 56s 7s/step - loss: 0.7672 - accuracy: 0.7296 - val_loss: 0.8169 - val_accuracy: 0.7200\n",
            "Epoch 65/100\n",
            "8/8 [==============================] - 55s 7s/step - loss: 0.7427 - accuracy: 0.7367 - val_loss: 0.8275 - val_accuracy: 0.7156\n",
            "Epoch 66/100\n",
            "8/8 [==============================] - 57s 7s/step - loss: 0.7318 - accuracy: 0.7434 - val_loss: 0.8190 - val_accuracy: 0.7166\n",
            "Epoch 67/100\n",
            "8/8 [==============================] - 56s 7s/step - loss: 0.7401 - accuracy: 0.7350 - val_loss: 0.8187 - val_accuracy: 0.7171\n",
            "Epoch 68/100\n",
            "8/8 [==============================] - 55s 7s/step - loss: 0.7380 - accuracy: 0.7381 - val_loss: 0.8112 - val_accuracy: 0.7234\n",
            "Epoch 69/100\n",
            "8/8 [==============================] - 56s 7s/step - loss: 0.7213 - accuracy: 0.7448 - val_loss: 0.8298 - val_accuracy: 0.7182\n",
            "Epoch 70/100\n",
            "8/8 [==============================] - 57s 7s/step - loss: 0.7188 - accuracy: 0.7464 - val_loss: 0.8197 - val_accuracy: 0.7201\n",
            "Epoch 71/100\n",
            "8/8 [==============================] - 56s 7s/step - loss: 0.7097 - accuracy: 0.7476 - val_loss: 0.8219 - val_accuracy: 0.7153\n",
            "Epoch 72/100\n",
            "8/8 [==============================] - 55s 7s/step - loss: 0.7179 - accuracy: 0.7474 - val_loss: 0.8362 - val_accuracy: 0.7166\n",
            "Epoch 73/100\n",
            "8/8 [==============================] - 55s 7s/step - loss: 0.7111 - accuracy: 0.7451 - val_loss: 0.8096 - val_accuracy: 0.7243\n",
            "Epoch 74/100\n",
            "8/8 [==============================] - 57s 7s/step - loss: 0.7010 - accuracy: 0.7508 - val_loss: 0.8111 - val_accuracy: 0.7227\n",
            "Epoch 75/100\n",
            "8/8 [==============================] - 55s 7s/step - loss: 0.7095 - accuracy: 0.7497 - val_loss: 0.8093 - val_accuracy: 0.7194\n",
            "Epoch 76/100\n",
            "8/8 [==============================] - 55s 7s/step - loss: 0.6880 - accuracy: 0.7581 - val_loss: 0.8230 - val_accuracy: 0.7184\n",
            "Epoch 77/100\n",
            "8/8 [==============================] - 55s 7s/step - loss: 0.6866 - accuracy: 0.7559 - val_loss: 0.7874 - val_accuracy: 0.7296\n",
            "Epoch 78/100\n",
            "8/8 [==============================] - 57s 7s/step - loss: 0.6661 - accuracy: 0.7620 - val_loss: 0.8260 - val_accuracy: 0.7174\n",
            "Epoch 79/100\n",
            "8/8 [==============================] - 55s 7s/step - loss: 0.6647 - accuracy: 0.7625 - val_loss: 0.7745 - val_accuracy: 0.7373\n",
            "Epoch 80/100\n",
            "8/8 [==============================] - 55s 7s/step - loss: 0.6627 - accuracy: 0.7668 - val_loss: 0.7894 - val_accuracy: 0.7285\n",
            "Epoch 81/100\n",
            "8/8 [==============================] - 55s 7s/step - loss: 0.6797 - accuracy: 0.7590 - val_loss: 0.8103 - val_accuracy: 0.7251\n",
            "Epoch 82/100\n",
            "8/8 [==============================] - 57s 7s/step - loss: 0.6571 - accuracy: 0.7667 - val_loss: 0.7840 - val_accuracy: 0.7324\n",
            "Epoch 83/100\n",
            "8/8 [==============================] - 55s 7s/step - loss: 0.6407 - accuracy: 0.7732 - val_loss: 0.7840 - val_accuracy: 0.7306\n",
            "Epoch 84/100\n",
            "8/8 [==============================] - 55s 7s/step - loss: 0.6326 - accuracy: 0.7759 - val_loss: 0.7963 - val_accuracy: 0.7263\n",
            "Epoch 85/100\n",
            "8/8 [==============================] - 55s 7s/step - loss: 0.6515 - accuracy: 0.7694 - val_loss: 0.8014 - val_accuracy: 0.7270\n",
            "Epoch 86/100\n",
            "8/8 [==============================] - 57s 7s/step - loss: 0.6323 - accuracy: 0.7740 - val_loss: 0.7699 - val_accuracy: 0.7373\n",
            "Epoch 87/100\n",
            "8/8 [==============================] - 55s 7s/step - loss: 0.6094 - accuracy: 0.7825 - val_loss: 0.7734 - val_accuracy: 0.7342\n",
            "Epoch 88/100\n",
            "8/8 [==============================] - 55s 7s/step - loss: 0.6036 - accuracy: 0.7853 - val_loss: 0.7749 - val_accuracy: 0.7334\n",
            "Epoch 89/100\n",
            "8/8 [==============================] - 55s 7s/step - loss: 0.6060 - accuracy: 0.7846 - val_loss: 0.7977 - val_accuracy: 0.7317\n",
            "Epoch 90/100\n",
            "8/8 [==============================] - 57s 7s/step - loss: 0.6338 - accuracy: 0.7750 - val_loss: 0.8215 - val_accuracy: 0.7224\n",
            "Epoch 91/100\n",
            "8/8 [==============================] - 55s 7s/step - loss: 0.6206 - accuracy: 0.7810 - val_loss: 0.7845 - val_accuracy: 0.7319\n",
            "Epoch 92/100\n",
            "8/8 [==============================] - 56s 7s/step - loss: 0.6100 - accuracy: 0.7823 - val_loss: 0.7644 - val_accuracy: 0.7398\n",
            "Epoch 93/100\n",
            "8/8 [==============================] - 56s 7s/step - loss: 0.5789 - accuracy: 0.7934 - val_loss: 0.7589 - val_accuracy: 0.7418\n",
            "Epoch 94/100\n",
            "8/8 [==============================] - 57s 7s/step - loss: 0.5854 - accuracy: 0.7944 - val_loss: 0.7767 - val_accuracy: 0.7360\n",
            "Epoch 95/100\n",
            "8/8 [==============================] - 56s 7s/step - loss: 0.5737 - accuracy: 0.7960 - val_loss: 0.7567 - val_accuracy: 0.7459\n",
            "Epoch 96/100\n",
            "8/8 [==============================] - 56s 7s/step - loss: 0.5817 - accuracy: 0.7932 - val_loss: 0.7818 - val_accuracy: 0.7349\n",
            "Epoch 97/100\n",
            "8/8 [==============================] - 55s 7s/step - loss: 0.5927 - accuracy: 0.7890 - val_loss: 0.7700 - val_accuracy: 0.7388\n",
            "Epoch 98/100\n",
            "8/8 [==============================] - 57s 7s/step - loss: 0.5659 - accuracy: 0.7987 - val_loss: 0.7694 - val_accuracy: 0.7367\n",
            "Epoch 99/100\n",
            "8/8 [==============================] - 56s 7s/step - loss: 0.5514 - accuracy: 0.8044 - val_loss: 0.7589 - val_accuracy: 0.7412\n",
            "Epoch 100/100\n",
            "8/8 [==============================] - 56s 7s/step - loss: 0.5495 - accuracy: 0.8062 - val_loss: 0.7520 - val_accuracy: 0.7443\n",
            "Time to train model: 5572.245389461517\n",
            "2/2 [==============================] - 3s 2s/step - loss: 0.7626 - accuracy: 0.7368\n"
          ]
        },
        {
          "output_type": "execute_result",
          "data": {
            "text/plain": [
              "[0.762614369392395, 0.7368000149726868]"
            ]
          },
          "metadata": {},
          "execution_count": 10
        },
        {
          "output_type": "display_data",
          "data": {
            "text/plain": [
              "<Figure size 432x288 with 1 Axes>"
            ],
            "image/png": "[encoded data removed]"
          },
          "metadata": {
            "needs_background": "light"
          }
        }
      ],
      "source": [
        "#@title Train model\n",
        "\n",
        "learning_rate = 0.002\n",
        "epochs = 100\n",
        "batch_size = 5000\n",
        "validation_split = 0.2\n",
        "\n",
        "#model = create_model(learning_rate)\n",
        "model = create_convolutional_model(learning_rate)\n",
        "\n",
        "start_time = time.time()\n",
        "epochs, hist = train_model(model, x_train_normalized, y_train, epochs, batch_size, validation_split)\n",
        "print('Time to train model:', time.time() - start_time)\n",
        "\n",
        "metrics=['loss', 'accuracy', 'val_loss', 'val_accuracy']\n",
        "plot_curve(epochs, hist, metrics)\n",
        "\n",
        "model.evaluate(x=x_test_normalized, y=y_test, batch_size=batch_size)"
      ]
    },
    {
      "cell_type": "markdown",
      "metadata": {
        "id": "nw3Qm2hUzhQP"
      },
      "source": [
        "| Structure | Learning rate | Batch size | Epochs | Validation split | Validation loss | Validation accuracy | Test loss | Test accuracy | Training Time | Comments |\n",
        "|-----------|---------------|------------|--------|------------------|---------------|-------------------|-----------|---------------|---------------|----------|\n",
        "| Dense(500), Dropout(0.5), Dense(200) | 0.001 | 1000 | 20 | 0.2 | 1.6159 | 0.4355 | 1.5922 | 0.4455 | 143 |\n",
        "| Dense(500), Dropout(0.5), Dense(200) | 0.01  | 500  | 20 | 0.2 | 2.1169 | 0.1664 | 2.1124 | 0.1636 | 154 |\n",
        "| Dense(500), Dropout(0.5), Dense(200) | 0.001  | 5000  | 20 | 0.2 | 1.6821 | 0.4066 | 1.6544 | 0.4117 | 143 |\n",
        "| Dense(500), Dropout(0.5), Dense(200) | 0.001  | 500  | 20 | 0.2 | 1.6510 | 0.4280 | 1.6316 | 0.4379 | 202 |\n",
        "| Dense(300), Dropout(0.5), Dense(200) | 0.001 | 1000 | 20 | 0.2 | 1.6397 | 0.4279 | 1.6173 | 0.4343 | 143 |\n",
        "| Dense(300), Dropout(0.5), Dense(100) | 0.001 | 1000 | 20 | 0.2 | 1.6077 | 0.4313 | 1.5863 | 0.4353 | 94 |\n",
        "| Dense(100), Dropout(0.5), Dense(50) | 0.001 | 1000 | 20 | 0.2 | 1.9132 | 0.3341 | 1.9008 | 0.3323 | 83 |\n",
        "| Dense(100), Dropout(0.5), Dense(50) | 0.001 | 1000 | 50 | 0.2 | 1.9421 | 0.3155 | 1.9322 | 0.3218 | 143 |\n",
        "| Dense(100), Dropout(0.5), Dense(50), Dropout(0.3) | 0.001 | 1000 | 20 | 0.2 | 1.9637 | 0.3011 | 1.9567 | 0.3041 | 83 |\n",
        "| Dense(500), Dropout(0.5), Dense(200), Dropout(0.3) | 0.001 | 1000 | 20 | 0.2 | 1.7098 | 0.4127 | 1.6919 | 0.4227 |\n",
        "| Dense(500), Dropout(0.7), Dense(200) | 0.001 | 1000 | 20 | 0.2 | 1.9395 | 0.3207 | 1.9271 | 0.3327 | 143 |\n",
        "| Dense(500), Dropout(0.2), Dense(200) | 0.001 | 1000 | 20 | 0.2 | 1.4591 | 0.4828 | 1.4328 | 0.4889 | 135 |\n",
        "| Dense(500), Dropout(0.2), Dense(200), Dense(200) | 0.001 | 1000 | 20 | 0.2 | 1.4653 | 0.4775 | 1.4257 | 0.4897 | 143 |\n",
        "| Dense(500), Dropout(0.2), Dense(200), Dense(100) | 0.001 | 1000 | 20 | 0.2 | 1.4549 | 0.4886 | 1.4255 | 0.4986 | 143 |\n",
        "| Dense(500), Dropout(0.2), Dense(200), Dropout(0.1) Dense(100) | 0.001 | 1000 | 20 | 0.2 | 1.4572 | 0.4873 | 1.4268 | 0.4964 | 203 |\n",
        "| Dense(500), Dense(200), Dense(100) | 0.001 | 1000 | 20 | 0.2 | 1.4462 | 0.4955 | 1.4200 | 0.4985 | 143 |\n",
        "| Dense(500), Dense(200), Dense(100), Dense(50) | 0.001 | 1000 | 20 | 0.2 | 1.4654 | 0.4819 | 1.4353 | 0.4923 |\n",
        "| Dense(500), Dense(200), Dense(100), Dense(50) | 0.001 | 1000 | 50 | 0.2 | 1.4533 | 0.5169 | 1.4506 | 0.5166 |\n",
        "| Dense(500), Dense(200), Dense(100), Dense(50) | 0.001 | 1000 | 100 | 0.2 | 2.0430 | 0.5047 | 2.0269 | 0.5100 | 668 | Massive overfitting (traninig acc. 83%)|\n",
        "| Dense(500), Dropout(0.5), Dense(200), Dropout(0.5), Dense(100), Dropout(0.5), Dense(50) | 0.001 | 1000 | 100 | 0.2 | 1.8931 | 0.3168 | 1.8796 | 0.3247 | | Way too much regularisation |\n",
        "| Dense(500), Dropout(0.1), Dense(200), Dropout(0.1), Dense(100), Dropout(0.1), Dense(50) | 0.001 | 1000 | 100 | 0.2 | 1.4206 | 0.5299 | 1.4032 | 0.5378 | 743 | Still a bit of overfitting (training acc. 68%) |\n",
        "| Dense(500), Dropout(0.2), Dense(200), Dropout(0.2), Dense(100), Dropout(0.2), Dense(50) | 0.001 | 1000 | 100 | 0.2 | 1.3798 | 0.5190 | 1.3576 | 0.5210 | 744 | Less overfitting, perhaps a bit (training acc. 57%) |\n",
        "| Dense(500), Dropout(0.2), Dense(200), Dropout(0.2), Dense(100), Dropout(0.2), Dense(50) | 0.001 | 1000 | 300 | 0.2 | 1.4578 | 0.5177 | 1.4563 | 0.5224 | 2123 | More overfitting (training acc. 65%).  More epochs hasn't helped much |\n",
        "| Conv(16, 3), MP(2), Conv(32, 3), MP(2), Conv(64, 3), MP(2), Flatten, Dense(512) | 0.001 | 1000 | 20 | 0.2 | 1.1048 | 0.6200 | 1.1056 | 0.6125 | 624 | First attempt at convolutional network.  Doesn't look like it has converged |\n",
        "| Conv(16, 3), MP(2), Conv(32, 3), MP(2), Conv(64, 3), MP(2), Flatten, Dense(512) | 0.001 | 1000 | 50 | 0.2 | 1.0049 | 0.6623 | 1.0013 | 0.6610 | 1457 | Closer to converging, although could probably go farther.  slight overfitting (Test acc. 75%) |\n",
        "| Conv(16, 3), MP(2), Conv(32, 3), MP(2), Conv(64, 3), MP(2), Flatten, Dense(512), Dropout(0.5) | 0.001 | 1000 | 50 | 0.2 | 0.9329 | 0.6780 | 0.9345 | 0.6812 | 1523 | Dropout has decreased overfitting, still not converging |\n",
        "|Added dropout layers between convolutional layers.  Much less overfitting but not converged after 50 epochs.  Accuracy: 68% |\n",
        "| Only Dropout last (biggest) convolutional layer.  Increased acurracy to 73%, although quite a lot of overfitting. |\n",
        "| Increasing Dropout (0.2 -> 0.4) reduced overfitting but acc still 73%.  Looks like it hasn't converged yet though |\n",
        "| Increasing epochs to 100, and tweaking some hyperparms has yields an accuracy of 73.68% |\n",
        "\n",
        "\n",
        "\n",
        "Best test accuracy - 53.8% \n",
        "Not bad for simple network without convolutions.  \n",
        "Lin, Memisevic and Konda manage to get 70% using 'linear bottleneck layers and unsuperpervised pre-training using autoencoders without hidden unit biases'.\n",
        "They also manage to achieve 78% accuracy by 'adding deformations to the training data'.\n",
        "\n",
        "\n",
        "\n",
        "\n"
      ]
    },
    {
      "cell_type": "code",
      "execution_count": null,
      "metadata": {
        "colab": {
          "base_uri": "https://localhost:8080/"
        },
        "id": "gJlzSk3pFk7J",
        "outputId": "97e3ec30-a578-4734-f538-88e3e87303fd"
      },
      "outputs": [
        {
          "data": {
            "text/plain": [
              "100"
            ]
          },
          "execution_count": 98,
          "metadata": {},
          "output_type": "execute_result"
        }
      ],
      "source": [
        "metrics=['loss', 'accuracy', 'val_loss', 'val_accuracy']\n",
        "#plot_curve(epochs, hist, metrics)\n",
        "epochs"
      ]
    },
    {
      "cell_type": "code",
      "execution_count": null,
      "metadata": {
        "id": "34e5f6EaxWIF"
      },
      "outputs": [],
      "source": [
        "#@title Define method for creating a convolutional model\n",
        "\n",
        "def create_convolutional_model(learning_rate):\n",
        "  model = tf.keras.models.Sequential([\n",
        "    tf.keras.layers.Input(shape=(len(x_train[0]), len(x_train[0][0]), len(x_train[0][0][0]))),\n",
        "\n",
        "    tf.keras.layers.Conv2D(32, 3, activation='relu'),\n",
        "    tf.keras.layers.MaxPooling2D(2),\n",
        "\n",
        "    tf.keras.layers.Conv2D(64, 3, activation='relu'),\n",
        "    tf.keras.layers.MaxPooling2D(2),\n",
        "\n",
        "    tf.keras.layers.Conv2D(128, 3, activation='relu'),\n",
        "    tf.keras.layers.MaxPooling2D(2),\n",
        "    tf.keras.layers.Dropout(0.4),\n",
        "\n",
        "    #Create one dimension tensor so we can add fully connected layers after\n",
        "    tf.keras.layers.Flatten(),\n",
        "\n",
        "    tf.keras.layers.Dense(512, activation='relu'),\n",
        "    tf.keras.layers.Dropout(0.1),\n",
        "\n",
        "    tf.keras.layers.Dense(256, activation='relu'),\n",
        "    tf.keras.layers.Dropout(0.1),\n",
        "\n",
        "    #Ouput layer\n",
        "    tf.keras.layers.Dense(units=len(label_names), activation='softmax')\n",
        "  ])\n",
        "\n",
        "  print('First layer contains', len(x_train[0]) * len(x_train[0][0]) * len(x_train[0][0][0]), 'nodes')\n",
        "\n",
        "  model.compile(optimizer=tf.keras.optimizers.Adam(learning_rate=learning_rate),\n",
        "                loss=\"sparse_categorical_crossentropy\",\n",
        "                metrics=['accuracy'])\n",
        "  \n",
        "  return model"
      ]
    }
  ],
  "metadata": {
    "colab": {
      "provenance": [],
      "authorship_tag": "ABX9TyOYo2IXTgzktRdRTY4ty6Zy",
      "include_colab_link": true
    },
    "kernelspec": {
      "display_name": "Python 3",
      "name": "python3"
    },
    "language_info": {
      "name": "python"
    }
  },
  "nbformat": 4,
  "nbformat_minor": 0
}