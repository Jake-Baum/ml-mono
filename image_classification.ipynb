{
  "cells": [
    {
      "cell_type": "markdown",
      "metadata": {
        "id": "view-in-github",
        "colab_type": "text"
      },
      "source": [
        "<a href=\"https://colab.research.google.com/github/Jake-Baum/ml-mono/blob/main/image_classification.ipynb\" target=\"_parent\"><img src=\"https://colab.research.google.com/assets/colab-badge.svg\" alt=\"Open In Colab\"/></a>"
      ]
    },
    {
      "cell_type": "code",
      "execution_count": 1,
      "metadata": {
        "id": "XpVHDndAqoIK"
      },
      "outputs": [],
      "source": [
        "#@title Imports { display-mode: \"both\" }\n",
        "\n",
        "import tensorflow as tf\n",
        "import matplotlib.pyplot as plt\n",
        "import pandas as pd\n",
        "\n",
        "import time"
      ]
    },
    {
      "cell_type": "code",
      "execution_count": 2,
      "metadata": {
        "colab": {
          "base_uri": "https://localhost:8080/"
        },
        "id": "YAxAk3i0q_VV",
        "outputId": "1aea6cef-a321-48e3-adca-7a7fe99d4d48"
      },
      "outputs": [
        {
          "output_type": "stream",
          "name": "stdout",
          "text": [
            "Downloading data from https://www.cs.toronto.edu/~kriz/cifar-10-python.tar.gz\n",
            "170498071/170498071 [==============================] - 2s 0us/step\n"
          ]
        }
      ],
      "source": [
        "#@title Load dataset\n",
        "\n",
        "(x_train, y_train), (x_test, y_test) = tf.keras.datasets.cifar10.load_data()\n",
        "\n",
        "label_names = ['airplane', 'automobile', 'bird', 'cat', 'deer', 'dog', 'frog', 'horse', 'ship', 'truck']"
      ]
    },
    {
      "cell_type": "code",
      "execution_count": 3,
      "metadata": {
        "colab": {
          "base_uri": "https://localhost:8080/",
          "height": 284
        },
        "id": "gSAu8eUyrOrB",
        "outputId": "fa11dc63-590e-499a-a34a-1a645e5a27ca"
      },
      "outputs": [
        {
          "output_type": "execute_result",
          "data": {
            "text/plain": [
              "'frog'"
            ],
            "application/vnd.google.colaboratory.intrinsic+json": {
              "type": "string"
            }
          },
          "metadata": {},
          "execution_count": 3
        },
        {
          "output_type": "display_data",
          "data": {
            "text/plain": [
              "<Figure size 432x288 with 1 Axes>"
            ],
            "image/png": "[encoded data removed]"
          },
          "metadata": {
            "needs_background": "light"
          }
        }
      ],
      "source": [
        "#@title Visualise data\n",
        "\n",
        "\n",
        "plt.imshow(x_train[0])\n",
        "label_names[y_train[0][0]]"
      ]
    },
    {
      "cell_type": "code",
      "execution_count": 4,
      "metadata": {
        "id": "qEnE9bEAsr_U"
      },
      "outputs": [],
      "source": [
        "#@title Normalise data\n",
        "\n",
        "x_train_normalized = x_train / 255.0\n",
        "x_test_normalized = x_test / 255.0"
      ]
    },
    {
      "cell_type": "code",
      "execution_count": 5,
      "metadata": {
        "colab": {
          "base_uri": "https://localhost:8080/"
        },
        "id": "361gVCCwugxX",
        "outputId": "000deff1-ef44-4549-eff1-d3da151fb62c"
      },
      "outputs": [
        {
          "output_type": "stream",
          "name": "stdout",
          "text": [
            "plot_curve defined\n"
          ]
        }
      ],
      "source": [
        "#@title Define plotting function for classification metrics\n",
        "\n",
        "def plot_curve(epochs, hist, metrics):\n",
        "  plt.figure()\n",
        "  plt.xlabel(\"Epoch\")\n",
        "  plt.ylabel(\"Value\")\n",
        "\n",
        "  for metric in metrics:\n",
        "    x = hist[metric]\n",
        "    plt.plot(epochs[1:], x[1:], label=metric)\n",
        "  \n",
        "  plt.legend()\n",
        "\n",
        "print(\"plot_curve defined\")"
      ]
    },
    {
      "cell_type": "code",
      "execution_count": 6,
      "metadata": {
        "id": "8L3d4NLjvA7V"
      },
      "outputs": [],
      "source": [
        "#@title Define function for creating a model\n",
        "\n",
        "def create_model(learning_rate):\n",
        "  model = tf.keras.models.Sequential()\n",
        "\n",
        "  #Flatten image array to 1D\n",
        "  model.add(tf.keras.layers.Flatten(input_shape=(len(x_train[0]), len(x_train[0][0]), len(x_train[0][0][0]))))\n",
        "  print('First layer contains', len(x_train[0]) * len(x_train[0][0]) * len(x_train[0][0][0]), 'nodes')\n",
        "\n",
        "  model.add(tf.keras.layers.Dense(units=500, activation='relu'))\n",
        "\n",
        "  model.add(tf.keras.layers.Dropout(0.2))\n",
        "\n",
        "  model.add(tf.keras.layers.Dense(units=200, activation='relu'))\n",
        "\n",
        "  model.add(tf.keras.layers.Dropout(0.2))\n",
        "\n",
        "  model.add(tf.keras.layers.Dense(units=100, activation='relu'))\n",
        "\n",
        "  model.add(tf.keras.layers.Dropout(0.2))\n",
        "\n",
        "  model.add(tf.keras.layers.Dense(units=50, activation='relu'))\n",
        "\n",
        "  #Ouput layer\n",
        "  model.add(tf.keras.layers.Dense(units=len(label_names), activation='softmax'))\n",
        "\n",
        "  model.compile(optimizer=tf.keras.optimizers.Adam(learning_rate=learning_rate),\n",
        "                loss=\"sparse_categorical_crossentropy\",\n",
        "                metrics=['accuracy'])\n",
        "  \n",
        "  return model"
      ]
    },
    {
      "cell_type": "code",
      "execution_count": null,
      "metadata": {
        "id": "34e5f6EaxWIF"
      },
      "outputs": [],
      "source": [
        "#@title Define method for creating a convolutional model\n",
        "\n",
        "def create_convolutional_model(learning_rate):\n",
        "  model = tf.keras.models.Sequential([\n",
        "    tf.keras.layers.Input(shape=(len(x_train[0]), len(x_train[0][0]), len(x_train[0][0][0]))),\n",
        "\n",
        "    tf.keras.layers.Conv2D(32, 3, activation='relu'),\n",
        "    tf.keras.layers.MaxPooling2D(2),\n",
        "\n",
        "    tf.keras.layers.Conv2D(64, 3, activation='relu'),\n",
        "    tf.keras.layers.MaxPooling2D(2),\n",
        "\n",
        "    tf.keras.layers.Conv2D(128, 3, activation='relu'),\n",
        "    tf.keras.layers.MaxPooling2D(2),\n",
        "    tf.keras.layers.Dropout(0.4),\n",
        "\n",
        "    #Create one dimension tensor so we can add fully connected layers after\n",
        "    tf.keras.layers.Flatten(),\n",
        "\n",
        "    tf.keras.layers.Dense(512, activation='relu'),\n",
        "    tf.keras.layers.Dropout(0.1),\n",
        "\n",
        "    tf.keras.layers.Dense(256, activation='relu'),\n",
        "    tf.keras.layers.Dropout(0.1),\n",
        "\n",
        "    #Ouput layer\n",
        "    tf.keras.layers.Dense(units=len(label_names), activation='softmax')\n",
        "  ])\n",
        "\n",
        "  print('First layer contains', len(x_train[0]) * len(x_train[0][0]) * len(x_train[0][0][0]), 'nodes')\n",
        "\n",
        "  model.compile(optimizer=tf.keras.optimizers.Adam(learning_rate=learning_rate),\n",
        "                loss=\"sparse_categorical_crossentropy\",\n",
        "                metrics=['accuracy'])\n",
        "  \n",
        "  return model"
      ]
    },
    {
      "cell_type": "code",
      "source": [
        "#@title Define method for creating a convolutional model\n",
        "\n",
        "def create_convolutional_model_functional(learning_rate):\n",
        "  input = tf.keras.layers.Input(shape=(len(x_train[0]), len(x_train[0][0]), len(x_train[0][0][0])))\n",
        "\n",
        "  x = tf.keras.layers.Conv2D(32, 3, activation='relu')(input)\n",
        "  x = tf.keras.layers.MaxPooling2D(2)(x)\n",
        "\n",
        "  x = tf.keras.layers.Conv2D(64, 3, activation='relu')(x)\n",
        "  x = tf.keras.layers.MaxPooling2D(2)(x)\n",
        "\n",
        "  x = tf.keras.layers.Conv2D(128, 3, activation='relu')(x)\n",
        "  x = tf.keras.layers.MaxPooling2D(2)(x)\n",
        "  x = tf.keras.layers.Dropout(0.4)(x)\n",
        "\n",
        "  #Create one dimension tensor so we can add fully connected layers after\n",
        "  x = tf.keras.layers.Flatten()(x)\n",
        "\n",
        "  x = tf.keras.layers.Dense(512, activation='relu')(x)\n",
        "  x = tf.keras.layers.Dropout(0.3)(x)\n",
        "\n",
        "  x = tf.keras.layers.Dense(256, activation='relu')(x)\n",
        "  x = tf.keras.layers.Dropout(0.2)(x)\n",
        "\n",
        "    #Ouput layer\n",
        "  output = tf.keras.layers.Dense(units=len(label_names), activation='softmax')(x)\n",
        "\n",
        "  model = tf.keras.Model(input, output)\n",
        "\n",
        "  model.compile(optimizer=tf.keras.optimizers.Adam(learning_rate=learning_rate),\n",
        "                loss=\"sparse_categorical_crossentropy\",\n",
        "                metrics=['accuracy'])\n",
        "  \n",
        "  model.summary()\n",
        "  \n",
        "  return model"
      ],
      "metadata": {
        "id": "2wfy9XMn0daE"
      },
      "execution_count": 38,
      "outputs": []
    },
    {
      "cell_type": "code",
      "execution_count": 8,
      "metadata": {
        "id": "vWWu6n7cwOw1"
      },
      "outputs": [],
      "source": [
        "#@title Define function for training a model\n",
        "\n",
        "def train_model(model, train_features, train_label, epochs, batch_size=None, validation_split=0.2):\n",
        "  history = model.fit(x=train_features, y=train_label, batch_size=batch_size, epochs=epochs, shuffle=True, validation_split=validation_split)\n",
        "\n",
        "  epochs = history.epoch\n",
        "  hist = pd.DataFrame(history.history)\n",
        "\n",
        "  return epochs, hist"
      ]
    },
    {
      "cell_type": "code",
      "execution_count": 39,
      "metadata": {
        "colab": {
          "base_uri": "https://localhost:8080/",
          "height": 1000
        },
        "id": "oBX-q8JywyKq",
        "outputId": "c2e6f9a9-02d5-4531-88b5-b5fef0275eb0"
      },
      "outputs": [
        {
          "output_type": "stream",
          "name": "stdout",
          "text": [
            "Model: \"model_4\"\n",
            "_________________________________________________________________\n",
            " Layer (type)                Output Shape              Param #   \n",
            "=================================================================\n",
            " input_15 (InputLayer)       [(None, 32, 32, 3)]       0         \n",
            "                                                                 \n",
            " conv2d_42 (Conv2D)          (None, 30, 30, 32)        896       \n",
            "                                                                 \n",
            " max_pooling2d_42 (MaxPoolin  (None, 15, 15, 32)       0         \n",
            " g2D)                                                            \n",
            "                                                                 \n",
            " conv2d_43 (Conv2D)          (None, 13, 13, 64)        18496     \n",
            "                                                                 \n",
            " max_pooling2d_43 (MaxPoolin  (None, 6, 6, 64)         0         \n",
            " g2D)                                                            \n",
            "                                                                 \n",
            " conv2d_44 (Conv2D)          (None, 4, 4, 128)         73856     \n",
            "                                                                 \n",
            " max_pooling2d_44 (MaxPoolin  (None, 2, 2, 128)        0         \n",
            " g2D)                                                            \n",
            "                                                                 \n",
            " dropout_20 (Dropout)        (None, 2, 2, 128)         0         \n",
            "                                                                 \n",
            " flatten_7 (Flatten)         (None, 512)               0         \n",
            "                                                                 \n",
            " dense_20 (Dense)            (None, 512)               262656    \n",
            "                                                                 \n",
            " dropout_21 (Dropout)        (None, 512)               0         \n",
            "                                                                 \n",
            " dense_21 (Dense)            (None, 256)               131328    \n",
            "                                                                 \n",
            " dropout_22 (Dropout)        (None, 256)               0         \n",
            "                                                                 \n",
            " dense_22 (Dense)            (None, 10)                2570      \n",
            "                                                                 \n",
            "=================================================================\n",
            "Total params: 489,802\n",
            "Trainable params: 489,802\n",
            "Non-trainable params: 0\n",
            "_________________________________________________________________\n",
            "Epoch 1/100\n",
            "8/8 [==============================] - 2s 208ms/step - loss: 2.2405 - accuracy: 0.1529 - val_loss: 2.2269 - val_accuracy: 0.1847\n",
            "Epoch 2/100\n",
            "8/8 [==============================] - 1s 190ms/step - loss: 2.0975 - accuracy: 0.2213 - val_loss: 1.9487 - val_accuracy: 0.2870\n",
            "Epoch 3/100\n",
            "8/8 [==============================] - 1s 192ms/step - loss: 1.9639 - accuracy: 0.2707 - val_loss: 1.8604 - val_accuracy: 0.3080\n",
            "Epoch 4/100\n",
            "8/8 [==============================] - 1s 192ms/step - loss: 1.8408 - accuracy: 0.3133 - val_loss: 1.7307 - val_accuracy: 0.3556\n",
            "Epoch 5/100\n",
            "8/8 [==============================] - 1s 193ms/step - loss: 1.7444 - accuracy: 0.3481 - val_loss: 1.8161 - val_accuracy: 0.3202\n",
            "Epoch 6/100\n",
            "8/8 [==============================] - 1s 169ms/step - loss: 1.7101 - accuracy: 0.3643 - val_loss: 1.6282 - val_accuracy: 0.3969\n",
            "Epoch 7/100\n",
            "8/8 [==============================] - 2s 194ms/step - loss: 1.6191 - accuracy: 0.3966 - val_loss: 1.5656 - val_accuracy: 0.4188\n",
            "Epoch 8/100\n",
            "8/8 [==============================] - 1s 191ms/step - loss: 1.5617 - accuracy: 0.4203 - val_loss: 1.4788 - val_accuracy: 0.4510\n",
            "Epoch 9/100\n",
            "8/8 [==============================] - 1s 192ms/step - loss: 1.4973 - accuracy: 0.4439 - val_loss: 1.5272 - val_accuracy: 0.4419\n",
            "Epoch 10/100\n",
            "8/8 [==============================] - 1s 192ms/step - loss: 1.5494 - accuracy: 0.4355 - val_loss: 1.4465 - val_accuracy: 0.4751\n",
            "Epoch 11/100\n",
            "8/8 [==============================] - 1s 169ms/step - loss: 1.4589 - accuracy: 0.4667 - val_loss: 1.3734 - val_accuracy: 0.5024\n",
            "Epoch 12/100\n",
            "8/8 [==============================] - 2s 193ms/step - loss: 1.3938 - accuracy: 0.4917 - val_loss: 1.3264 - val_accuracy: 0.5160\n",
            "Epoch 13/100\n",
            "8/8 [==============================] - 2s 193ms/step - loss: 1.3552 - accuracy: 0.5085 - val_loss: 1.2853 - val_accuracy: 0.5362\n",
            "Epoch 14/100\n",
            "8/8 [==============================] - 2s 194ms/step - loss: 1.3664 - accuracy: 0.5088 - val_loss: 1.2882 - val_accuracy: 0.5397\n",
            "Epoch 15/100\n",
            "8/8 [==============================] - 1s 191ms/step - loss: 1.3044 - accuracy: 0.5283 - val_loss: 1.2490 - val_accuracy: 0.5525\n",
            "Epoch 16/100\n",
            "8/8 [==============================] - 2s 194ms/step - loss: 1.2849 - accuracy: 0.5381 - val_loss: 1.2229 - val_accuracy: 0.5602\n",
            "Epoch 17/100\n",
            "8/8 [==============================] - 1s 168ms/step - loss: 1.2459 - accuracy: 0.5525 - val_loss: 1.1927 - val_accuracy: 0.5755\n",
            "Epoch 18/100\n",
            "8/8 [==============================] - 2s 195ms/step - loss: 1.2297 - accuracy: 0.5576 - val_loss: 1.1584 - val_accuracy: 0.5871\n",
            "Epoch 19/100\n",
            "8/8 [==============================] - 1s 171ms/step - loss: 1.2434 - accuracy: 0.5562 - val_loss: 1.1634 - val_accuracy: 0.5842\n",
            "Epoch 20/100\n",
            "8/8 [==============================] - 1s 171ms/step - loss: 1.1999 - accuracy: 0.5741 - val_loss: 1.1291 - val_accuracy: 0.5938\n",
            "Epoch 21/100\n",
            "8/8 [==============================] - 1s 192ms/step - loss: 1.1607 - accuracy: 0.5857 - val_loss: 1.1075 - val_accuracy: 0.6073\n",
            "Epoch 22/100\n",
            "8/8 [==============================] - 2s 194ms/step - loss: 1.1475 - accuracy: 0.5906 - val_loss: 1.0755 - val_accuracy: 0.6199\n",
            "Epoch 23/100\n",
            "8/8 [==============================] - 1s 193ms/step - loss: 1.1114 - accuracy: 0.6022 - val_loss: 1.0935 - val_accuracy: 0.6104\n",
            "Epoch 24/100\n",
            "8/8 [==============================] - 1s 192ms/step - loss: 1.1644 - accuracy: 0.5850 - val_loss: 1.1033 - val_accuracy: 0.6106\n",
            "Epoch 25/100\n",
            "8/8 [==============================] - 1s 191ms/step - loss: 1.1127 - accuracy: 0.6038 - val_loss: 1.0486 - val_accuracy: 0.6298\n",
            "Epoch 26/100\n",
            "8/8 [==============================] - 1s 170ms/step - loss: 1.0820 - accuracy: 0.6152 - val_loss: 1.0363 - val_accuracy: 0.6342\n",
            "Epoch 27/100\n",
            "8/8 [==============================] - 1s 192ms/step - loss: 1.0590 - accuracy: 0.6238 - val_loss: 1.0123 - val_accuracy: 0.6400\n",
            "Epoch 28/100\n",
            "8/8 [==============================] - 1s 191ms/step - loss: 1.0336 - accuracy: 0.6345 - val_loss: 0.9840 - val_accuracy: 0.6515\n",
            "Epoch 29/100\n",
            "8/8 [==============================] - 1s 192ms/step - loss: 1.0226 - accuracy: 0.6367 - val_loss: 1.0007 - val_accuracy: 0.6476\n",
            "Epoch 30/100\n",
            "8/8 [==============================] - 1s 168ms/step - loss: 1.0636 - accuracy: 0.6222 - val_loss: 1.0065 - val_accuracy: 0.6423\n",
            "Epoch 31/100\n",
            "8/8 [==============================] - 1s 191ms/step - loss: 1.0260 - accuracy: 0.6341 - val_loss: 0.9910 - val_accuracy: 0.6464\n",
            "Epoch 32/100\n",
            "8/8 [==============================] - 2s 194ms/step - loss: 1.0133 - accuracy: 0.6421 - val_loss: 0.9741 - val_accuracy: 0.6544\n",
            "Epoch 33/100\n",
            "8/8 [==============================] - 1s 191ms/step - loss: 0.9957 - accuracy: 0.6466 - val_loss: 0.9595 - val_accuracy: 0.6643\n",
            "Epoch 34/100\n",
            "8/8 [==============================] - 1s 192ms/step - loss: 0.9706 - accuracy: 0.6568 - val_loss: 0.9430 - val_accuracy: 0.6682\n",
            "Epoch 35/100\n",
            "8/8 [==============================] - 1s 192ms/step - loss: 0.9592 - accuracy: 0.6621 - val_loss: 0.9471 - val_accuracy: 0.6649\n",
            "Epoch 36/100\n",
            "8/8 [==============================] - 1s 191ms/step - loss: 0.9368 - accuracy: 0.6696 - val_loss: 0.9264 - val_accuracy: 0.6740\n",
            "Epoch 37/100\n",
            "8/8 [==============================] - 1s 191ms/step - loss: 0.9333 - accuracy: 0.6684 - val_loss: 0.9453 - val_accuracy: 0.6655\n",
            "Epoch 38/100\n",
            "8/8 [==============================] - 1s 167ms/step - loss: 0.9481 - accuracy: 0.6643 - val_loss: 0.9246 - val_accuracy: 0.6763\n",
            "Epoch 39/100\n",
            "8/8 [==============================] - 1s 192ms/step - loss: 0.9246 - accuracy: 0.6737 - val_loss: 0.9143 - val_accuracy: 0.6759\n",
            "Epoch 40/100\n",
            "8/8 [==============================] - 2s 193ms/step - loss: 0.9000 - accuracy: 0.6813 - val_loss: 0.9049 - val_accuracy: 0.6775\n",
            "Epoch 41/100\n",
            "8/8 [==============================] - 1s 169ms/step - loss: 0.8936 - accuracy: 0.6843 - val_loss: 0.8925 - val_accuracy: 0.6868\n",
            "Epoch 42/100\n",
            "8/8 [==============================] - 1s 191ms/step - loss: 0.8882 - accuracy: 0.6872 - val_loss: 0.8910 - val_accuracy: 0.6865\n",
            "Epoch 43/100\n",
            "8/8 [==============================] - 1s 171ms/step - loss: 0.8867 - accuracy: 0.6891 - val_loss: 0.8923 - val_accuracy: 0.6833\n",
            "Epoch 44/100\n",
            "8/8 [==============================] - 1s 168ms/step - loss: 0.8835 - accuracy: 0.6867 - val_loss: 0.9063 - val_accuracy: 0.6832\n",
            "Epoch 45/100\n",
            "8/8 [==============================] - 1s 188ms/step - loss: 0.8876 - accuracy: 0.6852 - val_loss: 0.8864 - val_accuracy: 0.6897\n",
            "Epoch 46/100\n",
            "8/8 [==============================] - 1s 190ms/step - loss: 0.8619 - accuracy: 0.6941 - val_loss: 0.8747 - val_accuracy: 0.6924\n",
            "Epoch 47/100\n",
            "8/8 [==============================] - 1s 189ms/step - loss: 0.8669 - accuracy: 0.6923 - val_loss: 0.8610 - val_accuracy: 0.6978\n",
            "Epoch 48/100\n",
            "8/8 [==============================] - 1s 168ms/step - loss: 0.8606 - accuracy: 0.6961 - val_loss: 0.8905 - val_accuracy: 0.6875\n",
            "Epoch 49/100\n",
            "8/8 [==============================] - 1s 171ms/step - loss: 0.8497 - accuracy: 0.6980 - val_loss: 0.8594 - val_accuracy: 0.6977\n",
            "Epoch 50/100\n",
            "8/8 [==============================] - 1s 168ms/step - loss: 0.8265 - accuracy: 0.7077 - val_loss: 0.8485 - val_accuracy: 0.7028\n",
            "Epoch 51/100\n",
            "8/8 [==============================] - 1s 193ms/step - loss: 0.8135 - accuracy: 0.7110 - val_loss: 0.8431 - val_accuracy: 0.7062\n",
            "Epoch 52/100\n",
            "8/8 [==============================] - 1s 190ms/step - loss: 0.8089 - accuracy: 0.7141 - val_loss: 0.8413 - val_accuracy: 0.7072\n",
            "Epoch 53/100\n",
            "8/8 [==============================] - 1s 169ms/step - loss: 0.8013 - accuracy: 0.7166 - val_loss: 0.8242 - val_accuracy: 0.7116\n",
            "Epoch 54/100\n",
            "8/8 [==============================] - 1s 170ms/step - loss: 0.7855 - accuracy: 0.7227 - val_loss: 0.8355 - val_accuracy: 0.7098\n",
            "Epoch 55/100\n",
            "8/8 [==============================] - 1s 190ms/step - loss: 0.7809 - accuracy: 0.7250 - val_loss: 0.8196 - val_accuracy: 0.7147\n",
            "Epoch 56/100\n",
            "8/8 [==============================] - 1s 190ms/step - loss: 0.7715 - accuracy: 0.7278 - val_loss: 0.8126 - val_accuracy: 0.7159\n",
            "Epoch 57/100\n",
            "8/8 [==============================] - 1s 191ms/step - loss: 0.7622 - accuracy: 0.7326 - val_loss: 0.8151 - val_accuracy: 0.7152\n",
            "Epoch 58/100\n",
            "8/8 [==============================] - 1s 192ms/step - loss: 0.7512 - accuracy: 0.7329 - val_loss: 0.8021 - val_accuracy: 0.7179\n",
            "Epoch 59/100\n",
            "8/8 [==============================] - 1s 167ms/step - loss: 0.7435 - accuracy: 0.7358 - val_loss: 0.8058 - val_accuracy: 0.7172\n",
            "Epoch 60/100\n",
            "8/8 [==============================] - 1s 190ms/step - loss: 0.7697 - accuracy: 0.7299 - val_loss: 0.8235 - val_accuracy: 0.7092\n",
            "Epoch 61/100\n",
            "8/8 [==============================] - 1s 170ms/step - loss: 0.7570 - accuracy: 0.7342 - val_loss: 0.8201 - val_accuracy: 0.7081\n",
            "Epoch 62/100\n",
            "8/8 [==============================] - 1s 168ms/step - loss: 0.7431 - accuracy: 0.7386 - val_loss: 0.8175 - val_accuracy: 0.7150\n",
            "Epoch 63/100\n",
            "8/8 [==============================] - 1s 192ms/step - loss: 0.7353 - accuracy: 0.7379 - val_loss: 0.8088 - val_accuracy: 0.7174\n",
            "Epoch 64/100\n",
            "8/8 [==============================] - 1s 193ms/step - loss: 0.7239 - accuracy: 0.7452 - val_loss: 0.8063 - val_accuracy: 0.7189\n",
            "Epoch 65/100\n",
            "8/8 [==============================] - 1s 169ms/step - loss: 0.7128 - accuracy: 0.7484 - val_loss: 0.7924 - val_accuracy: 0.7192\n",
            "Epoch 66/100\n",
            "8/8 [==============================] - 1s 170ms/step - loss: 0.6978 - accuracy: 0.7531 - val_loss: 0.7877 - val_accuracy: 0.7237\n",
            "Epoch 67/100\n",
            "8/8 [==============================] - 1s 193ms/step - loss: 0.7110 - accuracy: 0.7494 - val_loss: 0.7973 - val_accuracy: 0.7216\n",
            "Epoch 68/100\n",
            "8/8 [==============================] - 1s 167ms/step - loss: 0.6991 - accuracy: 0.7519 - val_loss: 0.7818 - val_accuracy: 0.7284\n",
            "Epoch 69/100\n",
            "8/8 [==============================] - 1s 192ms/step - loss: 0.6968 - accuracy: 0.7571 - val_loss: 0.7945 - val_accuracy: 0.7200\n",
            "Epoch 70/100\n",
            "8/8 [==============================] - 1s 169ms/step - loss: 0.7167 - accuracy: 0.7467 - val_loss: 0.7890 - val_accuracy: 0.7262\n",
            "Epoch 71/100\n",
            "8/8 [==============================] - 1s 191ms/step - loss: 0.6963 - accuracy: 0.7545 - val_loss: 0.7823 - val_accuracy: 0.7239\n",
            "Epoch 72/100\n",
            "8/8 [==============================] - 1s 192ms/step - loss: 0.7086 - accuracy: 0.7497 - val_loss: 0.8599 - val_accuracy: 0.7051\n",
            "Epoch 73/100\n",
            "8/8 [==============================] - 1s 192ms/step - loss: 0.7275 - accuracy: 0.7428 - val_loss: 0.7891 - val_accuracy: 0.7250\n",
            "Epoch 74/100\n",
            "8/8 [==============================] - 1s 191ms/step - loss: 0.6900 - accuracy: 0.7588 - val_loss: 0.7830 - val_accuracy: 0.7262\n",
            "Epoch 75/100\n",
            "8/8 [==============================] - 1s 167ms/step - loss: 0.6734 - accuracy: 0.7634 - val_loss: 0.7867 - val_accuracy: 0.7254\n",
            "Epoch 76/100\n",
            "8/8 [==============================] - 1s 168ms/step - loss: 0.6738 - accuracy: 0.7598 - val_loss: 0.7701 - val_accuracy: 0.7341\n",
            "Epoch 77/100\n",
            "8/8 [==============================] - 1s 170ms/step - loss: 0.6519 - accuracy: 0.7695 - val_loss: 0.7788 - val_accuracy: 0.7294\n",
            "Epoch 78/100\n",
            "8/8 [==============================] - 1s 192ms/step - loss: 0.6527 - accuracy: 0.7694 - val_loss: 0.8017 - val_accuracy: 0.7212\n",
            "Epoch 79/100\n",
            "8/8 [==============================] - 2s 193ms/step - loss: 0.6739 - accuracy: 0.7617 - val_loss: 0.7853 - val_accuracy: 0.7259\n",
            "Epoch 80/100\n",
            "8/8 [==============================] - 2s 197ms/step - loss: 0.6712 - accuracy: 0.7622 - val_loss: 0.7808 - val_accuracy: 0.7238\n",
            "Epoch 81/100\n",
            "8/8 [==============================] - 1s 192ms/step - loss: 0.6434 - accuracy: 0.7727 - val_loss: 0.7682 - val_accuracy: 0.7319\n",
            "Epoch 82/100\n",
            "8/8 [==============================] - 1s 192ms/step - loss: 0.6325 - accuracy: 0.7773 - val_loss: 0.7626 - val_accuracy: 0.7329\n",
            "Epoch 83/100\n",
            "8/8 [==============================] - 1s 192ms/step - loss: 0.6288 - accuracy: 0.7775 - val_loss: 0.7678 - val_accuracy: 0.7323\n",
            "Epoch 84/100\n",
            "8/8 [==============================] - 1s 170ms/step - loss: 0.6309 - accuracy: 0.7775 - val_loss: 0.7753 - val_accuracy: 0.7280\n",
            "Epoch 85/100\n",
            "8/8 [==============================] - 1s 179ms/step - loss: 0.6200 - accuracy: 0.7827 - val_loss: 0.7718 - val_accuracy: 0.7327\n",
            "Epoch 86/100\n",
            "8/8 [==============================] - 2s 197ms/step - loss: 0.6176 - accuracy: 0.7829 - val_loss: 0.7515 - val_accuracy: 0.7359\n",
            "Epoch 87/100\n",
            "8/8 [==============================] - 1s 191ms/step - loss: 0.6168 - accuracy: 0.7821 - val_loss: 0.7685 - val_accuracy: 0.7375\n",
            "Epoch 88/100\n",
            "8/8 [==============================] - 1s 190ms/step - loss: 0.6147 - accuracy: 0.7828 - val_loss: 0.7708 - val_accuracy: 0.7307\n",
            "Epoch 89/100\n",
            "8/8 [==============================] - 1s 169ms/step - loss: 0.5976 - accuracy: 0.7897 - val_loss: 0.7521 - val_accuracy: 0.7405\n",
            "Epoch 90/100\n",
            "8/8 [==============================] - 1s 192ms/step - loss: 0.5926 - accuracy: 0.7908 - val_loss: 0.7561 - val_accuracy: 0.7384\n",
            "Epoch 91/100\n",
            "8/8 [==============================] - 1s 192ms/step - loss: 0.5894 - accuracy: 0.7902 - val_loss: 0.7513 - val_accuracy: 0.7399\n",
            "Epoch 92/100\n",
            "8/8 [==============================] - 1s 192ms/step - loss: 0.5917 - accuracy: 0.7919 - val_loss: 0.7586 - val_accuracy: 0.7391\n",
            "Epoch 93/100\n",
            "8/8 [==============================] - 1s 170ms/step - loss: 0.5854 - accuracy: 0.7916 - val_loss: 0.7611 - val_accuracy: 0.7337\n",
            "Epoch 94/100\n",
            "8/8 [==============================] - 1s 192ms/step - loss: 0.5845 - accuracy: 0.7928 - val_loss: 0.7627 - val_accuracy: 0.7331\n",
            "Epoch 95/100\n",
            "8/8 [==============================] - 1s 191ms/step - loss: 0.5756 - accuracy: 0.7949 - val_loss: 0.7815 - val_accuracy: 0.7319\n",
            "Epoch 96/100\n",
            "8/8 [==============================] - 1s 189ms/step - loss: 0.5803 - accuracy: 0.7962 - val_loss: 0.7591 - val_accuracy: 0.7367\n",
            "Epoch 97/100\n",
            "8/8 [==============================] - 2s 194ms/step - loss: 0.5909 - accuracy: 0.7898 - val_loss: 0.7688 - val_accuracy: 0.7342\n",
            "Epoch 98/100\n",
            "8/8 [==============================] - 1s 170ms/step - loss: 0.5931 - accuracy: 0.7897 - val_loss: 0.7615 - val_accuracy: 0.7360\n",
            "Epoch 99/100\n",
            "8/8 [==============================] - 1s 192ms/step - loss: 0.5754 - accuracy: 0.7974 - val_loss: 0.7572 - val_accuracy: 0.7377\n",
            "Epoch 100/100\n",
            "8/8 [==============================] - 1s 190ms/step - loss: 0.5794 - accuracy: 0.7950 - val_loss: 0.7587 - val_accuracy: 0.7367\n",
            "Time to train model: 203.04468321800232\n",
            "2/2 [==============================] - 0s 82ms/step - loss: 0.7491 - accuracy: 0.7422\n"
          ]
        },
        {
          "output_type": "execute_result",
          "data": {
            "text/plain": [
              "[0.7491195201873779, 0.7422000169754028]"
            ]
          },
          "metadata": {},
          "execution_count": 39
        },
        {
          "output_type": "display_data",
          "data": {
            "text/plain": [
              "<Figure size 432x288 with 1 Axes>"
            ],
            "image/png": "[encoded data removed]"
          },
          "metadata": {
            "needs_background": "light"
          }
        }
      ],
      "source": [
        "#@title Train model\n",
        "\n",
        "learning_rate = 0.002\n",
        "epochs = 100\n",
        "batch_size = 5000\n",
        "validation_split = 0.2\n",
        "\n",
        "#model = create_model(learning_rate)\n",
        "model = create_convolutional_model_functional(learning_rate)\n",
        "\n",
        "start_time = time.time()\n",
        "epochs, hist = train_model(model, x_train_normalized, y_train, epochs, batch_size, validation_split)\n",
        "print('Time to train model:', time.time() - start_time)\n",
        "\n",
        "metrics=['loss', 'accuracy', 'val_loss', 'val_accuracy']\n",
        "plot_curve(epochs, hist, metrics)\n",
        "\n",
        "model.evaluate(x=x_test_normalized, y=y_test, batch_size=batch_size)"
      ]
    }
  ],
  "metadata": {
    "colab": {
      "provenance": [],
      "toc_visible": true,
      "authorship_tag": "ABX9TyPcc25SAeQLibos7/CLA+G/",
      "include_colab_link": true
    },
    "kernelspec": {
      "display_name": "Python 3",
      "name": "python3"
    },
    "language_info": {
      "name": "python"
    },
    "accelerator": "GPU",
    "gpuClass": "standard"
  },
  "nbformat": 4,
  "nbformat_minor": 0
}