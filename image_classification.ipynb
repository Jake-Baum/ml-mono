{
  "nbformat": 4,
  "nbformat_minor": 0,
  "metadata": {
    "colab": {
      "provenance": [],
      "collapsed_sections": [],
      "authorship_tag": "ABX9TyPsUTHiz1+kunRixoPSflmq",
      "include_colab_link": true
    },
    "kernelspec": {
      "name": "python3",
      "display_name": "Python 3"
    },
    "language_info": {
      "name": "python"
    }
  },
  "cells": [
    {
      "cell_type": "markdown",
      "metadata": {
        "id": "view-in-github",
        "colab_type": "text"
      },
      "source": [
        "<a href=\"https://colab.research.google.com/github/Jake-Baum/ml-mono/blob/main/image_classification.ipynb\" target=\"_parent\"><img src=\"https://colab.research.google.com/assets/colab-badge.svg\" alt=\"Open In Colab\"/></a>"
      ]
    },
    {
      "cell_type": "code",
      "execution_count": 43,
      "metadata": {
        "id": "XpVHDndAqoIK"
      },
      "outputs": [],
      "source": [
        "#@title Imports { display-mode: \"both\" }\n",
        "\n",
        "import tensorflow as tf\n",
        "import matplotlib.pyplot as plt\n",
        "import pandas as pd\n",
        "\n",
        "import time"
      ]
    },
    {
      "cell_type": "code",
      "source": [
        "#@title Load dataset\n",
        "\n",
        "(x_train, y_train), (x_test, y_test) = tf.keras.datasets.cifar10.load_data()\n",
        "\n",
        "label_names = ['airplane', 'automobile', 'bird', 'cat', 'deer', 'dog', 'frog', 'horse', 'ship', 'truck']"
      ],
      "metadata": {
        "id": "YAxAk3i0q_VV"
      },
      "execution_count": 22,
      "outputs": []
    },
    {
      "cell_type": "code",
      "source": [
        "#@title Visualise data\n",
        "\n",
        "\n",
        "plt.imshow(x_train[0])\n",
        "label_names[y_train[0][0]]"
      ],
      "metadata": {
        "colab": {
          "base_uri": "https://localhost:8080/",
          "height": 284
        },
        "id": "gSAu8eUyrOrB",
        "outputId": "56e725e5-fbd1-478c-ca55-7ba69501cf21"
      },
      "execution_count": 27,
      "outputs": [
        {
          "output_type": "execute_result",
          "data": {
            "text/plain": [
              "32"
            ]
          },
          "metadata": {},
          "execution_count": 27
        },
        {
          "output_type": "display_data",
          "data": {
            "text/plain": [
              "<Figure size 432x288 with 1 Axes>"
            ],
            "image/png": "[encoded data removed]"
          },
          "metadata": {
            "needs_background": "light"
          }
        }
      ]
    },
    {
      "cell_type": "code",
      "source": [
        "#@title Normalise data\n",
        "\n",
        "x_train_normalized = x_train / 255.0\n",
        "x_test_normalized = x_test / 255.0"
      ],
      "metadata": {
        "id": "qEnE9bEAsr_U"
      },
      "execution_count": 24,
      "outputs": []
    },
    {
      "cell_type": "code",
      "source": [
        "#@title Define plotting function for classification metrics\n",
        "\n",
        "def plot_curve(epochs, hist, metrics):\n",
        "  plt.figure()\n",
        "  plt.xlabel(\"Epoch\")\n",
        "  plt.ylabel(\"Value\")\n",
        "\n",
        "  for metric in metrics:\n",
        "    x = hist[metric]\n",
        "    plt.plot(epochs[1:], x[1:], label=metric)\n",
        "  \n",
        "  plt.legend()\n",
        "\n",
        "print(\"plot_curve defined\")"
      ],
      "metadata": {
        "colab": {
          "base_uri": "https://localhost:8080/"
        },
        "id": "361gVCCwugxX",
        "outputId": "40c3cd1f-22b4-450e-cd47-5b9ce886fc5a"
      },
      "execution_count": 25,
      "outputs": [
        {
          "output_type": "stream",
          "name": "stdout",
          "text": [
            "plot_curve defined\n"
          ]
        }
      ]
    },
    {
      "cell_type": "code",
      "source": [
        "#@title Define function for creating a model\n",
        "\n",
        "def create_model(learning_rate):\n",
        "  model = tf.keras.models.Sequential()\n",
        "\n",
        "  #Flatten image array to 1D\n",
        "  model.add(tf.keras.layers.Flatten(input_shape=(len(x_train[0]), len(x_train[0][0]), len(x_train[0][0][0]))))\n",
        "  print('First layer contains', len(x_train[0]) * len(x_train[0][0]) * len(x_train[0][0][0]), 'nodes')\n",
        "\n",
        "  model.add(tf.keras.layers.Dense(units=500, activation='relu'))\n",
        "\n",
        "  model.add(tf.keras.layers.Dropout(0.2))\n",
        "\n",
        "  model.add(tf.keras.layers.Dense(units=200, activation='relu'))\n",
        "\n",
        "  model.add(tf.keras.layers.Dropout(0.2))\n",
        "\n",
        "  model.add(tf.keras.layers.Dense(units=100, activation='relu'))\n",
        "\n",
        "  model.add(tf.keras.layers.Dropout(0.2))\n",
        "\n",
        "  model.add(tf.keras.layers.Dense(units=50, activation='relu'))\n",
        "\n",
        "  #Ouput layer\n",
        "  model.add(tf.keras.layers.Dense(units=len(label_names), activation='softmax'))\n",
        "\n",
        "  model.compile(optimizer=tf.keras.optimizers.Adam(learning_rate=learning_rate),\n",
        "                loss=\"sparse_categorical_crossentropy\",\n",
        "                metrics=['accuracy'])\n",
        "  \n",
        "  return model"
      ],
      "metadata": {
        "id": "8L3d4NLjvA7V"
      },
      "execution_count": 81,
      "outputs": []
    },
    {
      "cell_type": "code",
      "source": [
        "#@title Define function for training a model\n",
        "\n",
        "def train_model(model, train_features, train_label, epochs, batch_size=None, validation_split=0.2):\n",
        "  history = model.fit(x=train_features, y=train_label, batch_size=batch_size, epochs=epochs, shuffle=True, validation_split=validation_split)\n",
        "\n",
        "  epochs = history.epoch\n",
        "  hist = pd.DataFrame(history.history)\n",
        "\n",
        "  return epochs, hist"
      ],
      "metadata": {
        "id": "vWWu6n7cwOw1"
      },
      "execution_count": 37,
      "outputs": []
    },
    {
      "cell_type": "code",
      "source": [
        "#@title Train model\n",
        "\n",
        "learning_rate = 0.001\n",
        "epochs = 100\n",
        "batch_size = 1000\n",
        "validation_split = 0.2\n",
        "\n",
        "model = create_model(learning_rate)\n",
        "\n",
        "start_time = time.time()\n",
        "epochs, hist = train_model(model, x_train_normalized, y_train, epochs, batch_size, validation_split)\n",
        "print('Time to train model:', time.time() - start_time)\n",
        "\n",
        "metrics=['loss', 'accuracy']\n",
        "plot_curve(epochs, hist, metrics)\n",
        "\n",
        "model.evaluate(x=x_test_normalized, y=y_test, batch_size=batch_size)"
      ],
      "metadata": {
        "colab": {
          "base_uri": "https://localhost:8080/",
          "height": 1000
        },
        "id": "oBX-q8JywyKq",
        "outputId": "b537e16c-ff66-4415-a568-2c5f4dd0fc88"
      },
      "execution_count": 82,
      "outputs": [
        {
          "output_type": "stream",
          "name": "stdout",
          "text": [
            "First layer contains 3072 nodes\n",
            "Epoch 1/100\n",
            "40/40 [==============================] - 8s 174ms/step - loss: 2.1807 - accuracy: 0.1770 - val_loss: 2.0074 - val_accuracy: 0.2710\n",
            "Epoch 2/100\n",
            "40/40 [==============================] - 7s 170ms/step - loss: 1.9613 - accuracy: 0.2772 - val_loss: 1.8664 - val_accuracy: 0.3302\n",
            "Epoch 3/100\n",
            "40/40 [==============================] - 7s 169ms/step - loss: 1.8619 - accuracy: 0.3246 - val_loss: 1.8057 - val_accuracy: 0.3588\n",
            "Epoch 4/100\n",
            "40/40 [==============================] - 7s 170ms/step - loss: 1.8115 - accuracy: 0.3494 - val_loss: 1.7721 - val_accuracy: 0.3692\n",
            "Epoch 5/100\n",
            "40/40 [==============================] - 7s 169ms/step - loss: 1.7665 - accuracy: 0.3648 - val_loss: 1.6965 - val_accuracy: 0.3919\n",
            "Epoch 6/100\n",
            "40/40 [==============================] - 7s 170ms/step - loss: 1.7276 - accuracy: 0.3805 - val_loss: 1.6587 - val_accuracy: 0.4095\n",
            "Epoch 7/100\n",
            "40/40 [==============================] - 7s 176ms/step - loss: 1.7021 - accuracy: 0.3914 - val_loss: 1.6461 - val_accuracy: 0.4123\n",
            "Epoch 8/100\n",
            "40/40 [==============================] - 8s 196ms/step - loss: 1.6669 - accuracy: 0.4051 - val_loss: 1.6121 - val_accuracy: 0.4278\n",
            "Epoch 9/100\n",
            "40/40 [==============================] - 7s 171ms/step - loss: 1.6600 - accuracy: 0.4057 - val_loss: 1.6233 - val_accuracy: 0.4175\n",
            "Epoch 10/100\n",
            "40/40 [==============================] - 7s 170ms/step - loss: 1.6343 - accuracy: 0.4174 - val_loss: 1.5863 - val_accuracy: 0.4360\n",
            "Epoch 11/100\n",
            "40/40 [==============================] - 7s 169ms/step - loss: 1.6134 - accuracy: 0.4248 - val_loss: 1.5658 - val_accuracy: 0.4454\n",
            "Epoch 12/100\n",
            "40/40 [==============================] - 7s 170ms/step - loss: 1.6050 - accuracy: 0.4275 - val_loss: 1.5640 - val_accuracy: 0.4470\n",
            "Epoch 13/100\n",
            "40/40 [==============================] - 7s 171ms/step - loss: 1.5823 - accuracy: 0.4336 - val_loss: 1.5539 - val_accuracy: 0.4497\n",
            "Epoch 14/100\n",
            "40/40 [==============================] - 7s 171ms/step - loss: 1.5804 - accuracy: 0.4361 - val_loss: 1.5371 - val_accuracy: 0.4599\n",
            "Epoch 15/100\n",
            "40/40 [==============================] - 8s 204ms/step - loss: 1.5654 - accuracy: 0.4421 - val_loss: 1.5390 - val_accuracy: 0.4524\n",
            "Epoch 16/100\n",
            "40/40 [==============================] - 7s 170ms/step - loss: 1.5516 - accuracy: 0.4472 - val_loss: 1.5179 - val_accuracy: 0.4608\n",
            "Epoch 17/100\n",
            "40/40 [==============================] - 7s 172ms/step - loss: 1.5400 - accuracy: 0.4490 - val_loss: 1.5034 - val_accuracy: 0.4640\n",
            "Epoch 18/100\n",
            "40/40 [==============================] - 7s 171ms/step - loss: 1.5394 - accuracy: 0.4495 - val_loss: 1.5151 - val_accuracy: 0.4632\n",
            "Epoch 19/100\n",
            "40/40 [==============================] - 7s 170ms/step - loss: 1.5263 - accuracy: 0.4531 - val_loss: 1.4853 - val_accuracy: 0.4731\n",
            "Epoch 20/100\n",
            "40/40 [==============================] - 7s 170ms/step - loss: 1.5083 - accuracy: 0.4586 - val_loss: 1.4988 - val_accuracy: 0.4696\n",
            "Epoch 21/100\n",
            "40/40 [==============================] - 7s 170ms/step - loss: 1.5101 - accuracy: 0.4605 - val_loss: 1.4743 - val_accuracy: 0.4785\n",
            "Epoch 22/100\n",
            "40/40 [==============================] - 7s 170ms/step - loss: 1.4959 - accuracy: 0.4649 - val_loss: 1.4776 - val_accuracy: 0.4747\n",
            "Epoch 23/100\n",
            "40/40 [==============================] - 8s 204ms/step - loss: 1.4905 - accuracy: 0.4672 - val_loss: 1.4927 - val_accuracy: 0.4717\n",
            "Epoch 24/100\n",
            "40/40 [==============================] - 7s 170ms/step - loss: 1.4856 - accuracy: 0.4660 - val_loss: 1.4784 - val_accuracy: 0.4721\n",
            "Epoch 25/100\n",
            "40/40 [==============================] - 7s 171ms/step - loss: 1.4753 - accuracy: 0.4723 - val_loss: 1.4697 - val_accuracy: 0.4765\n",
            "Epoch 26/100\n",
            "40/40 [==============================] - 8s 203ms/step - loss: 1.4851 - accuracy: 0.4693 - val_loss: 1.4607 - val_accuracy: 0.4807\n",
            "Epoch 27/100\n",
            "40/40 [==============================] - 7s 170ms/step - loss: 1.4700 - accuracy: 0.4750 - val_loss: 1.4798 - val_accuracy: 0.4705\n",
            "Epoch 28/100\n",
            "40/40 [==============================] - 7s 170ms/step - loss: 1.4482 - accuracy: 0.4820 - val_loss: 1.4418 - val_accuracy: 0.4874\n",
            "Epoch 29/100\n",
            "40/40 [==============================] - 7s 170ms/step - loss: 1.4419 - accuracy: 0.4854 - val_loss: 1.4580 - val_accuracy: 0.4880\n",
            "Epoch 30/100\n",
            "40/40 [==============================] - 7s 171ms/step - loss: 1.4306 - accuracy: 0.4841 - val_loss: 1.4596 - val_accuracy: 0.4846\n",
            "Epoch 31/100\n",
            "40/40 [==============================] - 8s 204ms/step - loss: 1.4358 - accuracy: 0.4853 - val_loss: 1.4278 - val_accuracy: 0.4936\n",
            "Epoch 32/100\n",
            "40/40 [==============================] - 7s 170ms/step - loss: 1.4210 - accuracy: 0.4909 - val_loss: 1.4394 - val_accuracy: 0.4871\n",
            "Epoch 33/100\n",
            "40/40 [==============================] - 7s 170ms/step - loss: 1.4276 - accuracy: 0.4859 - val_loss: 1.4232 - val_accuracy: 0.4971\n",
            "Epoch 34/100\n",
            "40/40 [==============================] - 7s 171ms/step - loss: 1.4187 - accuracy: 0.4903 - val_loss: 1.4225 - val_accuracy: 0.4964\n",
            "Epoch 35/100\n",
            "40/40 [==============================] - 7s 170ms/step - loss: 1.4091 - accuracy: 0.4974 - val_loss: 1.4168 - val_accuracy: 0.4947\n",
            "Epoch 36/100\n",
            "40/40 [==============================] - 7s 171ms/step - loss: 1.3981 - accuracy: 0.4985 - val_loss: 1.4204 - val_accuracy: 0.5008\n",
            "Epoch 37/100\n",
            "40/40 [==============================] - 7s 169ms/step - loss: 1.3914 - accuracy: 0.5016 - val_loss: 1.4169 - val_accuracy: 0.4946\n",
            "Epoch 38/100\n",
            "40/40 [==============================] - 7s 171ms/step - loss: 1.3966 - accuracy: 0.4983 - val_loss: 1.4387 - val_accuracy: 0.4866\n",
            "Epoch 39/100\n",
            "40/40 [==============================] - 8s 204ms/step - loss: 1.3979 - accuracy: 0.4947 - val_loss: 1.4232 - val_accuracy: 0.4940\n",
            "Epoch 40/100\n",
            "40/40 [==============================] - 7s 170ms/step - loss: 1.3879 - accuracy: 0.5038 - val_loss: 1.4148 - val_accuracy: 0.4996\n",
            "Epoch 41/100\n",
            "40/40 [==============================] - 7s 171ms/step - loss: 1.3880 - accuracy: 0.5010 - val_loss: 1.4431 - val_accuracy: 0.4847\n",
            "Epoch 42/100\n",
            "40/40 [==============================] - 7s 170ms/step - loss: 1.3806 - accuracy: 0.5079 - val_loss: 1.4058 - val_accuracy: 0.4962\n",
            "Epoch 43/100\n",
            "40/40 [==============================] - 7s 171ms/step - loss: 1.3695 - accuracy: 0.5082 - val_loss: 1.4196 - val_accuracy: 0.5000\n",
            "Epoch 44/100\n",
            "40/40 [==============================] - 7s 171ms/step - loss: 1.3624 - accuracy: 0.5093 - val_loss: 1.4032 - val_accuracy: 0.4997\n",
            "Epoch 45/100\n",
            "40/40 [==============================] - 7s 170ms/step - loss: 1.3550 - accuracy: 0.5145 - val_loss: 1.4035 - val_accuracy: 0.4967\n",
            "Epoch 46/100\n",
            "40/40 [==============================] - 7s 186ms/step - loss: 1.3582 - accuracy: 0.5144 - val_loss: 1.4128 - val_accuracy: 0.4995\n",
            "Epoch 47/100\n",
            "40/40 [==============================] - 8s 188ms/step - loss: 1.3595 - accuracy: 0.5096 - val_loss: 1.4002 - val_accuracy: 0.5028\n",
            "Epoch 48/100\n",
            "40/40 [==============================] - 7s 170ms/step - loss: 1.3484 - accuracy: 0.5158 - val_loss: 1.3870 - val_accuracy: 0.5054\n",
            "Epoch 49/100\n",
            "40/40 [==============================] - 7s 170ms/step - loss: 1.3519 - accuracy: 0.5165 - val_loss: 1.4110 - val_accuracy: 0.5062\n",
            "Epoch 50/100\n",
            "40/40 [==============================] - 7s 170ms/step - loss: 1.3483 - accuracy: 0.5157 - val_loss: 1.4258 - val_accuracy: 0.4928\n",
            "Epoch 51/100\n",
            "40/40 [==============================] - 7s 176ms/step - loss: 1.3615 - accuracy: 0.5098 - val_loss: 1.4073 - val_accuracy: 0.4977\n",
            "Epoch 52/100\n",
            "40/40 [==============================] - 7s 170ms/step - loss: 1.3380 - accuracy: 0.5184 - val_loss: 1.3884 - val_accuracy: 0.5103\n",
            "Epoch 53/100\n",
            "40/40 [==============================] - 7s 170ms/step - loss: 1.3225 - accuracy: 0.5285 - val_loss: 1.3820 - val_accuracy: 0.5092\n",
            "Epoch 54/100\n",
            "40/40 [==============================] - 8s 204ms/step - loss: 1.3242 - accuracy: 0.5250 - val_loss: 1.3914 - val_accuracy: 0.5029\n",
            "Epoch 55/100\n",
            "40/40 [==============================] - 7s 170ms/step - loss: 1.3246 - accuracy: 0.5254 - val_loss: 1.3793 - val_accuracy: 0.5099\n",
            "Epoch 56/100\n",
            "40/40 [==============================] - 7s 170ms/step - loss: 1.3222 - accuracy: 0.5273 - val_loss: 1.3912 - val_accuracy: 0.5078\n",
            "Epoch 57/100\n",
            "40/40 [==============================] - 7s 171ms/step - loss: 1.3258 - accuracy: 0.5242 - val_loss: 1.3707 - val_accuracy: 0.5083\n",
            "Epoch 58/100\n",
            "40/40 [==============================] - 7s 170ms/step - loss: 1.3025 - accuracy: 0.5329 - val_loss: 1.3794 - val_accuracy: 0.5141\n",
            "Epoch 59/100\n",
            "40/40 [==============================] - 7s 170ms/step - loss: 1.3073 - accuracy: 0.5320 - val_loss: 1.3716 - val_accuracy: 0.5153\n",
            "Epoch 60/100\n",
            "40/40 [==============================] - 7s 172ms/step - loss: 1.2990 - accuracy: 0.5340 - val_loss: 1.3879 - val_accuracy: 0.5046\n",
            "Epoch 61/100\n",
            "40/40 [==============================] - 8s 204ms/step - loss: 1.3019 - accuracy: 0.5343 - val_loss: 1.3864 - val_accuracy: 0.5063\n",
            "Epoch 62/100\n",
            "40/40 [==============================] - 8s 205ms/step - loss: 1.3114 - accuracy: 0.5293 - val_loss: 1.3889 - val_accuracy: 0.5047\n",
            "Epoch 63/100\n",
            "40/40 [==============================] - 7s 171ms/step - loss: 1.2975 - accuracy: 0.5350 - val_loss: 1.3823 - val_accuracy: 0.5128\n",
            "Epoch 64/100\n",
            "40/40 [==============================] - 7s 170ms/step - loss: 1.3093 - accuracy: 0.5314 - val_loss: 1.4047 - val_accuracy: 0.5037\n",
            "Epoch 65/100\n",
            "40/40 [==============================] - 7s 171ms/step - loss: 1.2985 - accuracy: 0.5319 - val_loss: 1.3870 - val_accuracy: 0.5078\n",
            "Epoch 66/100\n",
            "40/40 [==============================] - 7s 172ms/step - loss: 1.2844 - accuracy: 0.5379 - val_loss: 1.3873 - val_accuracy: 0.5084\n",
            "Epoch 67/100\n",
            "40/40 [==============================] - 7s 171ms/step - loss: 1.2948 - accuracy: 0.5354 - val_loss: 1.4064 - val_accuracy: 0.5052\n",
            "Epoch 68/100\n",
            "40/40 [==============================] - 7s 171ms/step - loss: 1.2798 - accuracy: 0.5383 - val_loss: 1.3693 - val_accuracy: 0.5149\n",
            "Epoch 69/100\n",
            "40/40 [==============================] - 7s 172ms/step - loss: 1.2717 - accuracy: 0.5452 - val_loss: 1.3836 - val_accuracy: 0.5064\n",
            "Epoch 70/100\n",
            "40/40 [==============================] - 8s 201ms/step - loss: 1.2809 - accuracy: 0.5394 - val_loss: 1.3708 - val_accuracy: 0.5144\n",
            "Epoch 71/100\n",
            "40/40 [==============================] - 7s 171ms/step - loss: 1.2733 - accuracy: 0.5409 - val_loss: 1.3869 - val_accuracy: 0.5143\n",
            "Epoch 72/100\n",
            "40/40 [==============================] - 7s 171ms/step - loss: 1.2630 - accuracy: 0.5461 - val_loss: 1.3645 - val_accuracy: 0.5173\n",
            "Epoch 73/100\n",
            "40/40 [==============================] - 7s 170ms/step - loss: 1.2649 - accuracy: 0.5471 - val_loss: 1.3719 - val_accuracy: 0.5130\n",
            "Epoch 74/100\n",
            "40/40 [==============================] - 7s 171ms/step - loss: 1.2610 - accuracy: 0.5492 - val_loss: 1.3725 - val_accuracy: 0.5123\n",
            "Epoch 75/100\n",
            "40/40 [==============================] - 7s 172ms/step - loss: 1.2598 - accuracy: 0.5499 - val_loss: 1.3533 - val_accuracy: 0.5216\n",
            "Epoch 76/100\n",
            "40/40 [==============================] - 7s 170ms/step - loss: 1.2582 - accuracy: 0.5481 - val_loss: 1.3757 - val_accuracy: 0.5146\n",
            "Epoch 77/100\n",
            "40/40 [==============================] - 8s 198ms/step - loss: 1.2411 - accuracy: 0.5561 - val_loss: 1.3727 - val_accuracy: 0.5168\n",
            "Epoch 78/100\n",
            "40/40 [==============================] - 7s 177ms/step - loss: 1.2497 - accuracy: 0.5544 - val_loss: 1.3834 - val_accuracy: 0.5128\n",
            "Epoch 79/100\n",
            "40/40 [==============================] - 7s 170ms/step - loss: 1.2424 - accuracy: 0.5543 - val_loss: 1.3755 - val_accuracy: 0.5176\n",
            "Epoch 80/100\n",
            "40/40 [==============================] - 7s 171ms/step - loss: 1.2423 - accuracy: 0.5529 - val_loss: 1.3763 - val_accuracy: 0.5173\n",
            "Epoch 81/100\n",
            "40/40 [==============================] - 7s 171ms/step - loss: 1.2439 - accuracy: 0.5538 - val_loss: 1.3681 - val_accuracy: 0.5228\n",
            "Epoch 82/100\n",
            "40/40 [==============================] - 7s 170ms/step - loss: 1.2347 - accuracy: 0.5563 - val_loss: 1.3718 - val_accuracy: 0.5189\n",
            "Epoch 83/100\n",
            "40/40 [==============================] - 7s 171ms/step - loss: 1.2292 - accuracy: 0.5589 - val_loss: 1.3608 - val_accuracy: 0.5211\n",
            "Epoch 84/100\n",
            "40/40 [==============================] - 7s 171ms/step - loss: 1.2414 - accuracy: 0.5519 - val_loss: 1.3628 - val_accuracy: 0.5213\n",
            "Epoch 85/100\n",
            "40/40 [==============================] - 8s 204ms/step - loss: 1.2356 - accuracy: 0.5545 - val_loss: 1.3767 - val_accuracy: 0.5080\n",
            "Epoch 86/100\n",
            "40/40 [==============================] - 7s 171ms/step - loss: 1.2384 - accuracy: 0.5565 - val_loss: 1.3630 - val_accuracy: 0.5223\n",
            "Epoch 87/100\n",
            "40/40 [==============================] - 7s 171ms/step - loss: 1.2371 - accuracy: 0.5562 - val_loss: 1.3710 - val_accuracy: 0.5226\n",
            "Epoch 88/100\n",
            "40/40 [==============================] - 7s 171ms/step - loss: 1.2196 - accuracy: 0.5618 - val_loss: 1.3594 - val_accuracy: 0.5235\n",
            "Epoch 89/100\n",
            "40/40 [==============================] - 7s 171ms/step - loss: 1.2275 - accuracy: 0.5584 - val_loss: 1.3704 - val_accuracy: 0.5190\n",
            "Epoch 90/100\n",
            "40/40 [==============================] - 7s 171ms/step - loss: 1.2343 - accuracy: 0.5581 - val_loss: 1.3784 - val_accuracy: 0.5131\n",
            "Epoch 91/100\n",
            "40/40 [==============================] - 7s 170ms/step - loss: 1.2104 - accuracy: 0.5680 - val_loss: 1.3476 - val_accuracy: 0.5255\n",
            "Epoch 92/100\n",
            "40/40 [==============================] - 7s 171ms/step - loss: 1.2230 - accuracy: 0.5620 - val_loss: 1.3841 - val_accuracy: 0.5197\n",
            "Epoch 93/100\n",
            "40/40 [==============================] - 8s 205ms/step - loss: 1.2234 - accuracy: 0.5620 - val_loss: 1.3712 - val_accuracy: 0.5182\n",
            "Epoch 94/100\n",
            "40/40 [==============================] - 7s 171ms/step - loss: 1.2104 - accuracy: 0.5669 - val_loss: 1.3676 - val_accuracy: 0.5218\n",
            "Epoch 95/100\n",
            "40/40 [==============================] - 8s 205ms/step - loss: 1.2069 - accuracy: 0.5693 - val_loss: 1.3654 - val_accuracy: 0.5224\n",
            "Epoch 96/100\n",
            "40/40 [==============================] - 7s 170ms/step - loss: 1.2080 - accuracy: 0.5654 - val_loss: 1.3630 - val_accuracy: 0.5241\n",
            "Epoch 97/100\n",
            "40/40 [==============================] - 7s 171ms/step - loss: 1.2061 - accuracy: 0.5683 - val_loss: 1.3725 - val_accuracy: 0.5243\n",
            "Epoch 98/100\n",
            "40/40 [==============================] - 7s 171ms/step - loss: 1.2113 - accuracy: 0.5643 - val_loss: 1.3808 - val_accuracy: 0.5157\n",
            "Epoch 99/100\n",
            "40/40 [==============================] - 7s 171ms/step - loss: 1.1985 - accuracy: 0.5702 - val_loss: 1.3590 - val_accuracy: 0.5290\n",
            "Epoch 100/100\n",
            "40/40 [==============================] - 8s 195ms/step - loss: 1.1919 - accuracy: 0.5745 - val_loss: 1.3798 - val_accuracy: 0.5190\n",
            "Time to train model: 743.514209985733\n",
            "10/10 [==============================] - 1s 69ms/step - loss: 1.3576 - accuracy: 0.5210\n"
          ]
        },
        {
          "output_type": "execute_result",
          "data": {
            "text/plain": [
              "[1.3575915098190308, 0.5210000276565552]"
            ]
          },
          "metadata": {},
          "execution_count": 82
        },
        {
          "output_type": "display_data",
          "data": {
            "text/plain": [
              "<Figure size 432x288 with 1 Axes>"
            ],
            "image/png": "[encoded data removed]"
          },
          "metadata": {
            "needs_background": "light"
          }
        }
      ]
    },
    {
      "cell_type": "markdown",
      "source": [
        "| Structure | Learning rate | Batch size | Epochs | Validation split | Validation loss | Validation accuracy | Test loss | Test accuracy | Training Time | Comments |\n",
        "|-----------|---------------|------------|--------|------------------|---------------|-------------------|-----------|---------------|---------------|----------|\n",
        "| Dense(500), Dropout(0.5), Dense(200) | 0.001 | 1000 | 20 | 0.2 | 1.6159 | 0.4355 | 1.5922 | 0.4455 | 143 |\n",
        "| Dense(500), Dropout(0.5), Dense(200) | 0.01  | 500  | 20 | 0.2 | 2.1169 | 0.1664 | 2.1124 | 0.1636 | 154 |\n",
        "| Dense(500), Dropout(0.5), Dense(200) | 0.001  | 5000  | 20 | 0.2 | 1.6821 | 0.4066 | 1.6544 | 0.4117 | 143 |\n",
        "| Dense(500), Dropout(0.5), Dense(200) | 0.001  | 500  | 20 | 0.2 | 1.6510 | 0.4280 | 1.6316 | 0.4379 | 202 |\n",
        "| Dense(300), Dropout(0.5), Dense(200) | 0.001 | 1000 | 20 | 0.2 | 1.6397 | 0.4279 | 1.6173 | 0.4343 | 143 |\n",
        "| Dense(300), Dropout(0.5), Dense(100) | 0.001 | 1000 | 20 | 0.2 | 1.6077 | 0.4313 | 1.5863 | 0.4353 | 94 |\n",
        "| Dense(100), Dropout(0.5), Dense(50) | 0.001 | 1000 | 20 | 0.2 | 1.9132 | 0.3341 | 1.9008 | 0.3323 | 83 |\n",
        "| Dense(100), Dropout(0.5), Dense(50) | 0.001 | 1000 | 50 | 0.2 | 1.9421 | 0.3155 | 1.9322 | 0.3218 | 143 |\n",
        "| Dense(100), Dropout(0.5), Dense(50), Dropout(0.3) | 0.001 | 1000 | 20 | 0.2 | 1.9637 | 0.3011 | 1.9567 | 0.3041 | 83 |\n",
        "| Dense(500), Dropout(0.5), Dense(200), Dropout(0.3) | 0.001 | 1000 | 20 | 0.2 | 1.7098 | 0.4127 | 1.6919 | 0.4227 |\n",
        "| Dense(500), Dropout(0.7), Dense(200) | 0.001 | 1000 | 20 | 0.2 | 1.9395 | 0.3207 | 1.9271 | 0.3327 | 143 |\n",
        "| Dense(500), Dropout(0.2), Dense(200) | 0.001 | 1000 | 20 | 0.2 | 1.4591 | 0.4828 | 1.4328 | 0.4889 | 135 |\n",
        "| Dense(500), Dropout(0.2), Dense(200), Dense(200) | 0.001 | 1000 | 20 | 0.2 | 1.4653 | 0.4775 | 1.4257 | 0.4897 | 143 |\n",
        "| Dense(500), Dropout(0.2), Dense(200), Dense(100) | 0.001 | 1000 | 20 | 0.2 | 1.4549 | 0.4886 | 1.4255 | 0.4986 | 143 |\n",
        "| Dense(500), Dropout(0.2), Dense(200), Dropout(0.1) Dense(100) | 0.001 | 1000 | 20 | 0.2 | 1.4572 | 0.4873 | 1.4268 | 0.4964 | 203 |\n",
        "| Dense(500), Dense(200), Dense(100) | 0.001 | 1000 | 20 | 0.2 | 1.4462 | 0.4955 | 1.4200 | 0.4985 | 143 |\n",
        "| Dense(500), Dense(200), Dense(100), Dense(50) | 0.001 | 1000 | 20 | 0.2 | 1.4654 | 0.4819 | 1.4353 | 0.4923 |\n",
        "| Dense(500), Dense(200), Dense(100), Dense(50) | 0.001 | 1000 | 50 | 0.2 | 1.4533 | 0.5169 | 1.4506 | 0.5166 |\n",
        "| Dense(500), Dense(200), Dense(100), Dense(50) | 0.001 | 1000 | 100 | 0.2 | 2.0430 | 0.5047 | 2.0269 | 0.5100 | 668 | Massive overfitting (traninig acc. 83%)|\n",
        "| Dense(500), Dropout(0.5), Dense(200), Dropout(0.5), Dense(100), Dropout(0.5), Dense(50) | 0.001 | 1000 | 100 | 0.2 | 1.8931 | 0.3168 | 1.8796 | 0.3247 | | Way too much regularisation |\n",
        "| Dense(500), Dropout(0.1), Dense(200), Dropout(0.1), Dense(100), Dropout(0.1), Dense(50) | 0.001 | 1000 | 100 | 0.2 | 1.4206 | 0.5299 | 1.4032 | 0.5378 | 743 | Still a bit of overfitting (training acc. 68%) |\n",
        "| Dense(500), Dropout(0.2), Dense(200), Dropout(0.2), Dense(100), Dropout(0.2), Dense(50) | 0.001 | 1000 | 100 | 0.2 | 1.3798 | 0.5190 | 1.3576 | 0.5210 | 744 | Less overfitting, perhaps a bit (training acc. 57%) |\n",
        "\n",
        "Best test accuracy - 53.8% \n",
        "Not bad for simple network without convolutions.  \n",
        "Lin, Memisevic and Konda manage to get 70% using 'linear bottleneck layers and unsuperpervised pre-training using autoencoders without hidden unit biases'.\n",
        "They also manage to achieve 78% accuracy by 'adding deformations to the training data'.\n",
        "\n",
        "\n",
        "\n",
        "\n"
      ],
      "metadata": {
        "id": "nw3Qm2hUzhQP"
      }
    }
  ]
}