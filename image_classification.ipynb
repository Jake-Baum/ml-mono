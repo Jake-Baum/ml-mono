{
  "cells": [
    {
      "cell_type": "markdown",
      "metadata": {
        "id": "view-in-github",
        "colab_type": "text"
      },
      "source": [
        "<a href=\"https://colab.research.google.com/github/Jake-Baum/ml-mono/blob/main/image_classification.ipynb\" target=\"_parent\"><img src=\"https://colab.research.google.com/assets/colab-badge.svg\" alt=\"Open In Colab\"/></a>"
      ]
    },
    {
      "cell_type": "code",
      "execution_count": 2,
      "metadata": {
        "id": "XpVHDndAqoIK"
      },
      "outputs": [],
      "source": [
        "#@title Imports { display-mode: \"both\" }\n",
        "\n",
        "import tensorflow as tf\n",
        "import matplotlib.pyplot as plt\n",
        "import pandas as pd\n",
        "\n",
        "import time"
      ]
    },
    {
      "cell_type": "code",
      "execution_count": 3,
      "metadata": {
        "colab": {
          "base_uri": "https://localhost:8080/"
        },
        "id": "YAxAk3i0q_VV",
        "outputId": "b28db424-0431-4ba0-8c4d-169a3c542595"
      },
      "outputs": [
        {
          "output_type": "stream",
          "name": "stdout",
          "text": [
            "Downloading data from https://www.cs.toronto.edu/~kriz/cifar-10-python.tar.gz\n",
            "170498071/170498071 [==============================] - 2s 0us/step\n"
          ]
        }
      ],
      "source": [
        "#@title Load dataset\n",
        "\n",
        "(x_train, y_train), (x_test, y_test) = tf.keras.datasets.cifar10.load_data()\n",
        "\n",
        "label_names = ['airplane', 'automobile', 'bird', 'cat', 'deer', 'dog', 'frog', 'horse', 'ship', 'truck']"
      ]
    },
    {
      "cell_type": "code",
      "execution_count": null,
      "metadata": {
        "colab": {
          "base_uri": "https://localhost:8080/",
          "height": 284
        },
        "id": "gSAu8eUyrOrB",
        "outputId": "fa11dc63-590e-499a-a34a-1a645e5a27ca"
      },
      "outputs": [
        {
          "output_type": "execute_result",
          "data": {
            "text/plain": [
              "'frog'"
            ],
            "application/vnd.google.colaboratory.intrinsic+json": {
              "type": "string"
            }
          },
          "metadata": {},
          "execution_count": 3
        },
        {
          "output_type": "display_data",
          "data": {
            "text/plain": [
              "<Figure size 432x288 with 1 Axes>"
            ],
            "image/png": "[encoded data removed]"
          },
          "metadata": {
            "needs_background": "light"
          }
        }
      ],
      "source": [
        "#@title Visualise data\n",
        "\n",
        "\n",
        "plt.imshow(x_train[0])\n",
        "label_names[y_train[0][0]]"
      ]
    },
    {
      "cell_type": "code",
      "execution_count": 4,
      "metadata": {
        "id": "qEnE9bEAsr_U"
      },
      "outputs": [],
      "source": [
        "#@title Normalise data\n",
        "\n",
        "x_train_normalized = x_train / 255.0\n",
        "x_test_normalized = x_test / 255.0"
      ]
    },
    {
      "cell_type": "code",
      "execution_count": 5,
      "metadata": {
        "colab": {
          "base_uri": "https://localhost:8080/"
        },
        "id": "361gVCCwugxX",
        "outputId": "6a212fb9-6335-47ec-bd7a-f4b36a4836b3"
      },
      "outputs": [
        {
          "output_type": "stream",
          "name": "stdout",
          "text": [
            "plot_curve defined\n"
          ]
        }
      ],
      "source": [
        "#@title Define plotting function for classification metrics\n",
        "\n",
        "def plot_curve(epochs, hist, metrics):\n",
        "  plt.figure()\n",
        "  plt.xlabel(\"Epoch\")\n",
        "  plt.ylabel(\"Value\")\n",
        "\n",
        "  for metric in metrics:\n",
        "    x = hist[metric]\n",
        "    plt.plot(epochs[1:], x[1:], label=metric)\n",
        "  \n",
        "  plt.legend()\n",
        "\n",
        "print(\"plot_curve defined\")"
      ]
    },
    {
      "cell_type": "code",
      "execution_count": null,
      "metadata": {
        "id": "8L3d4NLjvA7V"
      },
      "outputs": [],
      "source": [
        "#@title Define function for creating a model\n",
        "\n",
        "def create_model(learning_rate):\n",
        "  model = tf.keras.models.Sequential()\n",
        "\n",
        "  #Flatten image array to 1D\n",
        "  model.add(tf.keras.layers.Flatten(input_shape=(len(x_train[0]), len(x_train[0][0]), len(x_train[0][0][0]))))\n",
        "  print('First layer contains', len(x_train[0]) * len(x_train[0][0]) * len(x_train[0][0][0]), 'nodes')\n",
        "\n",
        "  model.add(tf.keras.layers.Dense(units=500, activation='relu'))\n",
        "\n",
        "  model.add(tf.keras.layers.Dropout(0.2))\n",
        "\n",
        "  model.add(tf.keras.layers.Dense(units=200, activation='relu'))\n",
        "\n",
        "  model.add(tf.keras.layers.Dropout(0.2))\n",
        "\n",
        "  model.add(tf.keras.layers.Dense(units=100, activation='relu'))\n",
        "\n",
        "  model.add(tf.keras.layers.Dropout(0.2))\n",
        "\n",
        "  model.add(tf.keras.layers.Dense(units=50, activation='relu'))\n",
        "\n",
        "  #Ouput layer\n",
        "  model.add(tf.keras.layers.Dense(units=len(label_names), activation='softmax'))\n",
        "\n",
        "  model.compile(optimizer=tf.keras.optimizers.Adam(learning_rate=learning_rate),\n",
        "                loss=\"sparse_categorical_crossentropy\",\n",
        "                metrics=['accuracy'])\n",
        "  \n",
        "  return model"
      ]
    },
    {
      "cell_type": "code",
      "execution_count": null,
      "metadata": {
        "id": "34e5f6EaxWIF"
      },
      "outputs": [],
      "source": [
        "#@title Define method for creating a convolutional model\n",
        "\n",
        "def create_convolutional_model(learning_rate):\n",
        "  model = tf.keras.models.Sequential([\n",
        "    tf.keras.layers.Input(shape=(len(x_train[0]), len(x_train[0][0]), len(x_train[0][0][0]))),\n",
        "\n",
        "    tf.keras.layers.Conv2D(32, 3, activation='relu'),\n",
        "    tf.keras.layers.MaxPooling2D(2),\n",
        "\n",
        "    tf.keras.layers.Conv2D(64, 3, activation='relu'),\n",
        "    tf.keras.layers.MaxPooling2D(2),\n",
        "\n",
        "    tf.keras.layers.Conv2D(128, 3, activation='relu'),\n",
        "    tf.keras.layers.MaxPooling2D(2),\n",
        "    tf.keras.layers.Dropout(0.4),\n",
        "\n",
        "    #Create one dimension tensor so we can add fully connected layers after\n",
        "    tf.keras.layers.Flatten(),\n",
        "\n",
        "    tf.keras.layers.Dense(512, activation='relu'),\n",
        "    tf.keras.layers.Dropout(0.1),\n",
        "\n",
        "    tf.keras.layers.Dense(256, activation='relu'),\n",
        "    tf.keras.layers.Dropout(0.1),\n",
        "\n",
        "    #Ouput layer\n",
        "    tf.keras.layers.Dense(units=len(label_names), activation='softmax')\n",
        "  ])\n",
        "\n",
        "  print('First layer contains', len(x_train[0]) * len(x_train[0][0]) * len(x_train[0][0][0]), 'nodes')\n",
        "\n",
        "  model.compile(optimizer=tf.keras.optimizers.Adam(learning_rate=learning_rate),\n",
        "                loss=\"sparse_categorical_crossentropy\",\n",
        "                metrics=['accuracy'])\n",
        "  \n",
        "  return model"
      ]
    },
    {
      "cell_type": "code",
      "source": [
        "#@title Define method for creating a convolutional model using functional API\n",
        "\n",
        "def create_convolutional_model_functional(learning_rate):\n",
        "  input = tf.keras.layers.Input(shape=(len(x_train[0]), len(x_train[0][0]), len(x_train[0][0][0])))\n",
        "\n",
        "  augmentation = tf.keras.layers.RandomFlip(\"horizontal\")(input)\n",
        "\n",
        "  x = tf.keras.layers.Conv2D(32, 3, activation='relu')(augmentation)\n",
        "  x = tf.keras.layers.BatchNormalization()(x)\n",
        "  x = tf.keras.layers.MaxPooling2D(2)(x)\n",
        "\n",
        "  x = tf.keras.layers.Conv2D(64, 3, activation='relu')(x)\n",
        "  x = tf.keras.layers.BatchNormalization()(x)\n",
        "  x = tf.keras.layers.MaxPooling2D(2)(x)\n",
        "\n",
        "  x = tf.keras.layers.Conv2D(128, 3, activation='relu')(x)\n",
        "  x = tf.keras.layers.BatchNormalization()(x)\n",
        "  x = tf.keras.layers.MaxPooling2D(2)(x)\n",
        "  x = tf.keras.layers.Dropout(0.4)(x)\n",
        "\n",
        "  #Create one dimension tensor so we can add fully connected layers after\n",
        "  x = tf.keras.layers.Flatten()(x)\n",
        "\n",
        "  x = tf.keras.layers.Dense(512, activation='relu')(x)\n",
        "  x = tf.keras.layers.BatchNormalization()(x)\n",
        "  x = tf.keras.layers.Dropout(0.4)(x)\n",
        "\n",
        "  x = tf.keras.layers.Dense(256, activation='relu')(x)\n",
        "  x = tf.keras.layers.BatchNormalization()(x)\n",
        "  x = tf.keras.layers.Dropout(0.4)(x)\n",
        "\n",
        "    #Ouput layer\n",
        "  output = tf.keras.layers.Dense(units=len(label_names), activation='softmax')(x)\n",
        "\n",
        "  model = tf.keras.Model(input, output)\n",
        "\n",
        "  model.compile(optimizer=tf.keras.optimizers.Adam(learning_rate=learning_rate),\n",
        "                loss=\"sparse_categorical_crossentropy\",\n",
        "                metrics=['accuracy'])\n",
        "  \n",
        "  model.summary()\n",
        "  \n",
        "  return model"
      ],
      "metadata": {
        "id": "2wfy9XMn0daE"
      },
      "execution_count": 11,
      "outputs": []
    },
    {
      "cell_type": "code",
      "execution_count": 7,
      "metadata": {
        "id": "vWWu6n7cwOw1"
      },
      "outputs": [],
      "source": [
        "#@title Define function for training a model\n",
        "\n",
        "def train_model(model, train_features, train_label, epochs, batch_size=None, validation_split=0.2):\n",
        "  history = model.fit(x=train_features, y=train_label, batch_size=batch_size, epochs=epochs, shuffle=True, validation_split=validation_split)\n",
        "\n",
        "  epochs = history.epoch\n",
        "  hist = pd.DataFrame(history.history)\n",
        "\n",
        "  return epochs, hist"
      ]
    },
    {
      "cell_type": "code",
      "execution_count": 12,
      "metadata": {
        "colab": {
          "base_uri": "https://localhost:8080/",
          "height": 1000
        },
        "id": "oBX-q8JywyKq",
        "outputId": "c9b70318-3e86-4956-c407-44bbfd2a31bd"
      },
      "outputs": [
        {
          "output_type": "stream",
          "name": "stdout",
          "text": [
            "Model: \"model_2\"\n",
            "_________________________________________________________________\n",
            " Layer (type)                Output Shape              Param #   \n",
            "=================================================================\n",
            " input_3 (InputLayer)        [(None, 32, 32, 3)]       0         \n",
            "                                                                 \n",
            " random_flip_2 (RandomFlip)  (None, 32, 32, 3)         0         \n",
            "                                                                 \n",
            " conv2d_6 (Conv2D)           (None, 30, 30, 32)        896       \n",
            "                                                                 \n",
            " batch_normalization_5 (Batc  (None, 30, 30, 32)       128       \n",
            " hNormalization)                                                 \n",
            "                                                                 \n",
            " max_pooling2d_6 (MaxPooling  (None, 15, 15, 32)       0         \n",
            " 2D)                                                             \n",
            "                                                                 \n",
            " conv2d_7 (Conv2D)           (None, 13, 13, 64)        18496     \n",
            "                                                                 \n",
            " batch_normalization_6 (Batc  (None, 13, 13, 64)       256       \n",
            " hNormalization)                                                 \n",
            "                                                                 \n",
            " max_pooling2d_7 (MaxPooling  (None, 6, 6, 64)         0         \n",
            " 2D)                                                             \n",
            "                                                                 \n",
            " conv2d_8 (Conv2D)           (None, 4, 4, 128)         73856     \n",
            "                                                                 \n",
            " batch_normalization_7 (Batc  (None, 4, 4, 128)        512       \n",
            " hNormalization)                                                 \n",
            "                                                                 \n",
            " max_pooling2d_8 (MaxPooling  (None, 2, 2, 128)        0         \n",
            " 2D)                                                             \n",
            "                                                                 \n",
            " dropout_6 (Dropout)         (None, 2, 2, 128)         0         \n",
            "                                                                 \n",
            " flatten_2 (Flatten)         (None, 512)               0         \n",
            "                                                                 \n",
            " dense_6 (Dense)             (None, 512)               262656    \n",
            "                                                                 \n",
            " batch_normalization_8 (Batc  (None, 512)              2048      \n",
            " hNormalization)                                                 \n",
            "                                                                 \n",
            " dropout_7 (Dropout)         (None, 512)               0         \n",
            "                                                                 \n",
            " dense_7 (Dense)             (None, 256)               131328    \n",
            "                                                                 \n",
            " batch_normalization_9 (Batc  (None, 256)              1024      \n",
            " hNormalization)                                                 \n",
            "                                                                 \n",
            " dropout_8 (Dropout)         (None, 256)               0         \n",
            "                                                                 \n",
            " dense_8 (Dense)             (None, 10)                2570      \n",
            "                                                                 \n",
            "=================================================================\n",
            "Total params: 493,770\n",
            "Trainable params: 491,786\n",
            "Non-trainable params: 1,984\n",
            "_________________________________________________________________\n",
            "Epoch 1/50\n",
            "40/40 [==============================] - 20s 474ms/step - loss: 2.2277 - accuracy: 0.2983 - val_loss: 2.4505 - val_accuracy: 0.0952\n",
            "Epoch 2/50\n",
            "40/40 [==============================] - 19s 485ms/step - loss: 1.6500 - accuracy: 0.4246 - val_loss: 2.8425 - val_accuracy: 0.0980\n",
            "Epoch 3/50\n",
            "40/40 [==============================] - 18s 458ms/step - loss: 1.4367 - accuracy: 0.4905 - val_loss: 3.0291 - val_accuracy: 0.0983\n",
            "Epoch 4/50\n",
            "40/40 [==============================] - 18s 460ms/step - loss: 1.2928 - accuracy: 0.5383 - val_loss: 3.3295 - val_accuracy: 0.1000\n",
            "Epoch 5/50\n",
            "40/40 [==============================] - 19s 486ms/step - loss: 1.2022 - accuracy: 0.5718 - val_loss: 3.2460 - val_accuracy: 0.1743\n",
            "Epoch 6/50\n",
            "40/40 [==============================] - 18s 457ms/step - loss: 1.1291 - accuracy: 0.5956 - val_loss: 3.0575 - val_accuracy: 0.1837\n",
            "Epoch 7/50\n",
            "40/40 [==============================] - 18s 458ms/step - loss: 1.0662 - accuracy: 0.6202 - val_loss: 2.8784 - val_accuracy: 0.2475\n",
            "Epoch 8/50\n",
            "40/40 [==============================] - 19s 473ms/step - loss: 1.0197 - accuracy: 0.6388 - val_loss: 2.8817 - val_accuracy: 0.2262\n",
            "Epoch 9/50\n",
            "40/40 [==============================] - 19s 464ms/step - loss: 0.9791 - accuracy: 0.6539 - val_loss: 2.3595 - val_accuracy: 0.3067\n",
            "Epoch 10/50\n",
            "40/40 [==============================] - 21s 505ms/step - loss: 0.9457 - accuracy: 0.6650 - val_loss: 1.9840 - val_accuracy: 0.3309\n",
            "Epoch 11/50\n",
            "40/40 [==============================] - 18s 455ms/step - loss: 0.9066 - accuracy: 0.6835 - val_loss: 1.9148 - val_accuracy: 0.3836\n",
            "Epoch 12/50\n",
            "40/40 [==============================] - 18s 458ms/step - loss: 0.8763 - accuracy: 0.6895 - val_loss: 1.5120 - val_accuracy: 0.4731\n",
            "Epoch 13/50\n",
            "40/40 [==============================] - 20s 496ms/step - loss: 0.8516 - accuracy: 0.6983 - val_loss: 1.4245 - val_accuracy: 0.5092\n",
            "Epoch 14/50\n",
            "40/40 [==============================] - 19s 463ms/step - loss: 0.8191 - accuracy: 0.7125 - val_loss: 1.1664 - val_accuracy: 0.5924\n",
            "Epoch 15/50\n",
            "40/40 [==============================] - 18s 458ms/step - loss: 0.7961 - accuracy: 0.7200 - val_loss: 0.9832 - val_accuracy: 0.6543\n",
            "Epoch 16/50\n",
            "40/40 [==============================] - 19s 480ms/step - loss: 0.7821 - accuracy: 0.7262 - val_loss: 0.8737 - val_accuracy: 0.6915\n",
            "Epoch 17/50\n",
            "40/40 [==============================] - 18s 456ms/step - loss: 0.7640 - accuracy: 0.7339 - val_loss: 0.8737 - val_accuracy: 0.6952\n",
            "Epoch 18/50\n",
            "40/40 [==============================] - 18s 448ms/step - loss: 0.7431 - accuracy: 0.7408 - val_loss: 1.0004 - val_accuracy: 0.6631\n",
            "Epoch 19/50\n",
            "40/40 [==============================] - 19s 485ms/step - loss: 0.7281 - accuracy: 0.7463 - val_loss: 0.7752 - val_accuracy: 0.7280\n",
            "Epoch 20/50\n",
            "40/40 [==============================] - 18s 457ms/step - loss: 0.7085 - accuracy: 0.7535 - val_loss: 0.7825 - val_accuracy: 0.7305\n",
            "Epoch 21/50\n",
            "40/40 [==============================] - 19s 487ms/step - loss: 0.6939 - accuracy: 0.7588 - val_loss: 0.8135 - val_accuracy: 0.7226\n",
            "Epoch 22/50\n",
            "40/40 [==============================] - 20s 493ms/step - loss: 0.6793 - accuracy: 0.7621 - val_loss: 0.7860 - val_accuracy: 0.7313\n",
            "Epoch 23/50\n",
            "40/40 [==============================] - 18s 452ms/step - loss: 0.6675 - accuracy: 0.7675 - val_loss: 0.6975 - val_accuracy: 0.7632\n",
            "Epoch 24/50\n",
            "40/40 [==============================] - 18s 454ms/step - loss: 0.6579 - accuracy: 0.7708 - val_loss: 0.7858 - val_accuracy: 0.7361\n",
            "Epoch 25/50\n",
            "40/40 [==============================] - 19s 486ms/step - loss: 0.6413 - accuracy: 0.7775 - val_loss: 0.8083 - val_accuracy: 0.7274\n",
            "Epoch 26/50\n",
            "40/40 [==============================] - 18s 459ms/step - loss: 0.6331 - accuracy: 0.7773 - val_loss: 0.7655 - val_accuracy: 0.7366\n",
            "Epoch 27/50\n",
            "40/40 [==============================] - 19s 483ms/step - loss: 0.6180 - accuracy: 0.7831 - val_loss: 0.7096 - val_accuracy: 0.7578\n",
            "Epoch 28/50\n",
            "40/40 [==============================] - 18s 457ms/step - loss: 0.6114 - accuracy: 0.7849 - val_loss: 0.7270 - val_accuracy: 0.7522\n",
            "Epoch 29/50\n",
            "40/40 [==============================] - 18s 450ms/step - loss: 0.5989 - accuracy: 0.7908 - val_loss: 0.6973 - val_accuracy: 0.7588\n",
            "Epoch 30/50\n",
            "40/40 [==============================] - 20s 491ms/step - loss: 0.5889 - accuracy: 0.7940 - val_loss: 0.7872 - val_accuracy: 0.7386\n",
            "Epoch 31/50\n",
            "40/40 [==============================] - 18s 451ms/step - loss: 0.5769 - accuracy: 0.7983 - val_loss: 0.6676 - val_accuracy: 0.7689\n",
            "Epoch 32/50\n",
            "40/40 [==============================] - 19s 486ms/step - loss: 0.5712 - accuracy: 0.8005 - val_loss: 0.6588 - val_accuracy: 0.7731\n",
            "Epoch 33/50\n",
            "40/40 [==============================] - 20s 489ms/step - loss: 0.5586 - accuracy: 0.8062 - val_loss: 0.7134 - val_accuracy: 0.7617\n",
            "Epoch 34/50\n",
            "40/40 [==============================] - 18s 451ms/step - loss: 0.5579 - accuracy: 0.8037 - val_loss: 0.7326 - val_accuracy: 0.7527\n",
            "Epoch 35/50\n",
            "40/40 [==============================] - 18s 458ms/step - loss: 0.5510 - accuracy: 0.8083 - val_loss: 0.6967 - val_accuracy: 0.7697\n",
            "Epoch 36/50\n",
            "40/40 [==============================] - 19s 482ms/step - loss: 0.5422 - accuracy: 0.8103 - val_loss: 0.9470 - val_accuracy: 0.7137\n",
            "Epoch 37/50\n",
            "40/40 [==============================] - 18s 459ms/step - loss: 0.5342 - accuracy: 0.8134 - val_loss: 0.8120 - val_accuracy: 0.7356\n",
            "Epoch 38/50\n",
            "40/40 [==============================] - 18s 459ms/step - loss: 0.5197 - accuracy: 0.8201 - val_loss: 0.7303 - val_accuracy: 0.7552\n",
            "Epoch 39/50\n",
            "40/40 [==============================] - 19s 488ms/step - loss: 0.5172 - accuracy: 0.8176 - val_loss: 0.6741 - val_accuracy: 0.7789\n",
            "Epoch 40/50\n",
            "40/40 [==============================] - 18s 453ms/step - loss: 0.5078 - accuracy: 0.8220 - val_loss: 0.7311 - val_accuracy: 0.7599\n",
            "Epoch 41/50\n",
            "40/40 [==============================] - 18s 454ms/step - loss: 0.4985 - accuracy: 0.8267 - val_loss: 0.6552 - val_accuracy: 0.7839\n",
            "Epoch 42/50\n",
            "40/40 [==============================] - 19s 484ms/step - loss: 0.4996 - accuracy: 0.8255 - val_loss: 0.8085 - val_accuracy: 0.7358\n",
            "Epoch 43/50\n",
            "40/40 [==============================] - 20s 490ms/step - loss: 0.4942 - accuracy: 0.8277 - val_loss: 0.9394 - val_accuracy: 0.7108\n",
            "Epoch 44/50\n",
            "40/40 [==============================] - 18s 449ms/step - loss: 0.4885 - accuracy: 0.8307 - val_loss: 0.7717 - val_accuracy: 0.7531\n",
            "Epoch 45/50\n",
            "40/40 [==============================] - 19s 485ms/step - loss: 0.4789 - accuracy: 0.8318 - val_loss: 0.7180 - val_accuracy: 0.7658\n",
            "Epoch 46/50\n",
            "40/40 [==============================] - 18s 456ms/step - loss: 0.4706 - accuracy: 0.8351 - val_loss: 0.7447 - val_accuracy: 0.7599\n",
            "Epoch 47/50\n",
            "40/40 [==============================] - 18s 452ms/step - loss: 0.4710 - accuracy: 0.8367 - val_loss: 0.8636 - val_accuracy: 0.7361\n",
            "Epoch 48/50\n",
            "40/40 [==============================] - 20s 493ms/step - loss: 0.4677 - accuracy: 0.8386 - val_loss: 0.7188 - val_accuracy: 0.7689\n",
            "Epoch 49/50\n",
            "40/40 [==============================] - 18s 455ms/step - loss: 0.4592 - accuracy: 0.8387 - val_loss: 0.7265 - val_accuracy: 0.7649\n",
            "Epoch 50/50\n",
            "40/40 [==============================] - 18s 453ms/step - loss: 0.4547 - accuracy: 0.8404 - val_loss: 0.6612 - val_accuracy: 0.7836\n",
            "Time to train model: 939.3676586151123\n",
            "10/10 [==============================] - 0s 16ms/step - loss: 0.6677 - accuracy: 0.7807\n"
          ]
        },
        {
          "output_type": "execute_result",
          "data": {
            "text/plain": [
              "[0.6676587462425232, 0.7807000279426575]"
            ]
          },
          "metadata": {},
          "execution_count": 12
        },
        {
          "output_type": "display_data",
          "data": {
            "text/plain": [
              "<Figure size 432x288 with 1 Axes>"
            ],
            "image/png": "[encoded data removed]"
          },
          "metadata": {
            "needs_background": "light"
          }
        }
      ],
      "source": [
        "#@title Train model\n",
        "\n",
        "learning_rate = 0.001\n",
        "epochs = 50\n",
        "batch_size = 1000\n",
        "validation_split = 0.2\n",
        "\n",
        "#model = create_model(learning_rate)\n",
        "model = create_convolutional_model_functional(learning_rate)\n",
        "\n",
        "start_time = time.time()\n",
        "epochs, hist = train_model(model, x_train_normalized, y_train, epochs, batch_size, validation_split)\n",
        "print('Time to train model:', time.time() - start_time)\n",
        "\n",
        "metrics=['loss', 'accuracy', 'val_loss', 'val_accuracy']\n",
        "plot_curve(epochs, hist, metrics)\n",
        "\n",
        "model.evaluate(x=x_test_normalized, y=y_test, batch_size=batch_size)"
      ]
    }
  ],
  "metadata": {
    "colab": {
      "provenance": [],
      "toc_visible": true,
      "authorship_tag": "ABX9TyN/5Y093+T4YuJh2wnCjZwk",
      "include_colab_link": true
    },
    "kernelspec": {
      "display_name": "Python 3",
      "name": "python3"
    },
    "language_info": {
      "name": "python"
    },
    "accelerator": "GPU",
    "gpuClass": "standard"
  },
  "nbformat": 4,
  "nbformat_minor": 0
}