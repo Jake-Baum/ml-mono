{
  "cells": [
    {
      "cell_type": "markdown",
      "metadata": {
        "id": "view-in-github",
        "colab_type": "text"
      },
      "source": [
        "<a href=\"https://colab.research.google.com/github/Jake-Baum/ml-mono/blob/main/image_classification.ipynb\" target=\"_parent\"><img src=\"https://colab.research.google.com/assets/colab-badge.svg\" alt=\"Open In Colab\"/></a>"
      ]
    },
    {
      "cell_type": "code",
      "execution_count": 2,
      "metadata": {
        "id": "XpVHDndAqoIK"
      },
      "outputs": [],
      "source": [
        "#@title Imports { display-mode: \"both\" }\n",
        "\n",
        "import tensorflow as tf\n",
        "import matplotlib.pyplot as plt\n",
        "import pandas as pd\n",
        "\n",
        "import time"
      ]
    },
    {
      "cell_type": "code",
      "execution_count": 3,
      "metadata": {
        "colab": {
          "base_uri": "https://localhost:8080/",
          "height": 0
        },
        "id": "YAxAk3i0q_VV",
        "outputId": "b28db424-0431-4ba0-8c4d-169a3c542595"
      },
      "outputs": [
        {
          "output_type": "stream",
          "name": "stdout",
          "text": [
            "Downloading data from https://www.cs.toronto.edu/~kriz/cifar-10-python.tar.gz\n",
            "170498071/170498071 [==============================] - 2s 0us/step\n"
          ]
        }
      ],
      "source": [
        "#@title Load dataset\n",
        "\n",
        "(x_train, y_train), (x_test, y_test) = tf.keras.datasets.cifar10.load_data()\n",
        "\n",
        "label_names = ['airplane', 'automobile', 'bird', 'cat', 'deer', 'dog', 'frog', 'horse', 'ship', 'truck']"
      ]
    },
    {
      "cell_type": "code",
      "execution_count": null,
      "metadata": {
        "colab": {
          "base_uri": "https://localhost:8080/",
          "height": 284
        },
        "id": "gSAu8eUyrOrB",
        "outputId": "fa11dc63-590e-499a-a34a-1a645e5a27ca"
      },
      "outputs": [
        {
          "output_type": "execute_result",
          "data": {
            "text/plain": [
              "'frog'"
            ],
            "application/vnd.google.colaboratory.intrinsic+json": {
              "type": "string"
            }
          },
          "metadata": {},
          "execution_count": 3
        },
        {
          "output_type": "display_data",
          "data": {
            "text/plain": [
              "<Figure size 432x288 with 1 Axes>"
            ],
            "image/png": "[encoded data removed]"
          },
          "metadata": {
            "needs_background": "light"
          }
        }
      ],
      "source": [
        "#@title Visualise data\n",
        "\n",
        "\n",
        "plt.imshow(x_train[0])\n",
        "label_names[y_train[0][0]]"
      ]
    },
    {
      "cell_type": "code",
      "execution_count": 4,
      "metadata": {
        "id": "qEnE9bEAsr_U"
      },
      "outputs": [],
      "source": [
        "#@title Normalise data\n",
        "\n",
        "x_train_normalized = x_train / 255.0\n",
        "x_test_normalized = x_test / 255.0"
      ]
    },
    {
      "cell_type": "code",
      "execution_count": 5,
      "metadata": {
        "colab": {
          "base_uri": "https://localhost:8080/",
          "height": 0
        },
        "id": "361gVCCwugxX",
        "outputId": "6a212fb9-6335-47ec-bd7a-f4b36a4836b3"
      },
      "outputs": [
        {
          "output_type": "stream",
          "name": "stdout",
          "text": [
            "plot_curve defined\n"
          ]
        }
      ],
      "source": [
        "#@title Define plotting function for classification metrics\n",
        "\n",
        "def plot_curve(epochs, hist, metrics):\n",
        "  plt.figure()\n",
        "  plt.xlabel(\"Epoch\")\n",
        "  plt.ylabel(\"Value\")\n",
        "\n",
        "  for metric in metrics:\n",
        "    x = hist[metric]\n",
        "    plt.plot(epochs[1:], x[1:], label=metric)\n",
        "  \n",
        "  plt.legend()\n",
        "\n",
        "print(\"plot_curve defined\")"
      ]
    },
    {
      "cell_type": "code",
      "execution_count": null,
      "metadata": {
        "id": "8L3d4NLjvA7V"
      },
      "outputs": [],
      "source": [
        "#@title Define function for creating a model\n",
        "\n",
        "def create_model(learning_rate):\n",
        "  model = tf.keras.models.Sequential()\n",
        "\n",
        "  #Flatten image array to 1D\n",
        "  model.add(tf.keras.layers.Flatten(input_shape=(len(x_train[0]), len(x_train[0][0]), len(x_train[0][0][0]))))\n",
        "  print('First layer contains', len(x_train[0]) * len(x_train[0][0]) * len(x_train[0][0][0]), 'nodes')\n",
        "\n",
        "  model.add(tf.keras.layers.Dense(units=500, activation='relu'))\n",
        "\n",
        "  model.add(tf.keras.layers.Dropout(0.2))\n",
        "\n",
        "  model.add(tf.keras.layers.Dense(units=200, activation='relu'))\n",
        "\n",
        "  model.add(tf.keras.layers.Dropout(0.2))\n",
        "\n",
        "  model.add(tf.keras.layers.Dense(units=100, activation='relu'))\n",
        "\n",
        "  model.add(tf.keras.layers.Dropout(0.2))\n",
        "\n",
        "  model.add(tf.keras.layers.Dense(units=50, activation='relu'))\n",
        "\n",
        "  #Ouput layer\n",
        "  model.add(tf.keras.layers.Dense(units=len(label_names), activation='softmax'))\n",
        "\n",
        "  model.compile(optimizer=tf.keras.optimizers.Adam(learning_rate=learning_rate),\n",
        "                loss=\"sparse_categorical_crossentropy\",\n",
        "                metrics=['accuracy'])\n",
        "  \n",
        "  return model"
      ]
    },
    {
      "cell_type": "code",
      "execution_count": null,
      "metadata": {
        "id": "34e5f6EaxWIF"
      },
      "outputs": [],
      "source": [
        "#@title Define method for creating a convolutional model\n",
        "\n",
        "def create_convolutional_model(learning_rate):\n",
        "  model = tf.keras.models.Sequential([\n",
        "    tf.keras.layers.Input(shape=(len(x_train[0]), len(x_train[0][0]), len(x_train[0][0][0]))),\n",
        "\n",
        "    tf.keras.layers.Conv2D(32, 3, activation='relu'),\n",
        "    tf.keras.layers.MaxPooling2D(2),\n",
        "\n",
        "    tf.keras.layers.Conv2D(64, 3, activation='relu'),\n",
        "    tf.keras.layers.MaxPooling2D(2),\n",
        "\n",
        "    tf.keras.layers.Conv2D(128, 3, activation='relu'),\n",
        "    tf.keras.layers.MaxPooling2D(2),\n",
        "    tf.keras.layers.Dropout(0.4),\n",
        "\n",
        "    #Create one dimension tensor so we can add fully connected layers after\n",
        "    tf.keras.layers.Flatten(),\n",
        "\n",
        "    tf.keras.layers.Dense(512, activation='relu'),\n",
        "    tf.keras.layers.Dropout(0.1),\n",
        "\n",
        "    tf.keras.layers.Dense(256, activation='relu'),\n",
        "    tf.keras.layers.Dropout(0.1),\n",
        "\n",
        "    #Ouput layer\n",
        "    tf.keras.layers.Dense(units=len(label_names), activation='softmax')\n",
        "  ])\n",
        "\n",
        "  print('First layer contains', len(x_train[0]) * len(x_train[0][0]) * len(x_train[0][0][0]), 'nodes')\n",
        "\n",
        "  model.compile(optimizer=tf.keras.optimizers.Adam(learning_rate=learning_rate),\n",
        "                loss=\"sparse_categorical_crossentropy\",\n",
        "                metrics=['accuracy'])\n",
        "  \n",
        "  return model"
      ]
    },
    {
      "cell_type": "code",
      "source": [
        "#@title Define method for creating a convolutional model using functional API\n",
        "\n",
        "def create_convolutional_model_functional(learning_rate):\n",
        "  input = tf.keras.layers.Input(shape=(len(x_train[0]), len(x_train[0][0]), len(x_train[0][0][0])))\n",
        "\n",
        "  augmentation = tf.keras.layers.RandomFlip(\"horizontal\")(input)\n",
        "  augmentation = tf.keras.layers.RandomRotation(factor=0.01, fill_mode=\"nearest\")(augmentation)\n",
        "\n",
        "  x = tf.keras.layers.Conv2D(32, 5, activation='relu')(augmentation)\n",
        "  x = tf.keras.layers.MaxPooling2D(2, strides=1)(x)\n",
        "\n",
        "  x = tf.keras.layers.Conv2D(64, 3, activation='relu')(x)\n",
        "  x = tf.keras.layers.MaxPooling2D(2, strides=1)(x)\n",
        "\n",
        "  x = tf.keras.layers.Conv2D(128, 3, activation='relu')(x)\n",
        "  x = tf.keras.layers.MaxPooling2D(2)(x)\n",
        "\n",
        "  x = tf.keras.layers.Conv2D(256, 3, activation='relu')(x)\n",
        "  x = tf.keras.layers.BatchNormalization()(x)\n",
        "  x = tf.keras.layers.MaxPooling2D(2)(x)\n",
        "  x = tf.keras.layers.Dropout(0.4)(x)\n",
        "\n",
        "  #Create one dimension tensor so we can add fully connected layers after\n",
        "  x = tf.keras.layers.Flatten()(x)\n",
        "\n",
        "  x = tf.keras.layers.Dense(512, activation='relu')(x)\n",
        "  x = tf.keras.layers.Dropout(0.4)(x)\n",
        "\n",
        "  x = tf.keras.layers.Dense(256, activation='relu')(x)\n",
        "  x = tf.keras.layers.Dropout(0.4)(x)\n",
        "\n",
        "  x = tf.keras.layers.Dense(128, activation='relu')(x)\n",
        "  x = tf.keras.layers.Dropout(0.4)(x)\n",
        "\n",
        "    #Ouput layer\n",
        "  output = tf.keras.layers.Dense(units=len(label_names), activation='softmax')(x)\n",
        "\n",
        "  model = tf.keras.Model(input, output)\n",
        "\n",
        "  model.compile(optimizer=tf.keras.optimizers.Adam(learning_rate=learning_rate),\n",
        "                loss=\"sparse_categorical_crossentropy\",\n",
        "                metrics=['accuracy'])\n",
        "  \n",
        "  model.summary()\n",
        "  \n",
        "  return model"
      ],
      "metadata": {
        "id": "2wfy9XMn0daE"
      },
      "execution_count": 41,
      "outputs": []
    },
    {
      "cell_type": "code",
      "execution_count": 42,
      "metadata": {
        "id": "vWWu6n7cwOw1"
      },
      "outputs": [],
      "source": [
        "#@title Define function for training a model\n",
        "\n",
        "def train_model(model, train_features, train_label, epochs, batch_size=None, validation_split=0.2):\n",
        "  history = model.fit(x=train_features, y=train_label, batch_size=batch_size, epochs=epochs, shuffle=True, validation_split=validation_split)\n",
        "\n",
        "  epochs = history.epoch\n",
        "  hist = pd.DataFrame(history.history)\n",
        "\n",
        "  return epochs, hist"
      ]
    },
    {
      "cell_type": "code",
      "execution_count": 43,
      "metadata": {
        "colab": {
          "base_uri": "https://localhost:8080/",
          "height": 1000
        },
        "id": "oBX-q8JywyKq",
        "outputId": "2025fe8a-a25d-4455-fdcf-0d6c8de1f2dc"
      },
      "outputs": [
        {
          "output_type": "stream",
          "name": "stdout",
          "text": [
            "Model: \"model_7\"\n",
            "_________________________________________________________________\n",
            " Layer (type)                Output Shape              Param #   \n",
            "=================================================================\n",
            " input_19 (InputLayer)       [(None, 32, 32, 3)]       0         \n",
            "                                                                 \n",
            " random_flip_16 (RandomFlip)  (None, 32, 32, 3)        0         \n",
            "                                                                 \n",
            " random_rotation_9 (RandomRo  (None, 32, 32, 3)        0         \n",
            " tation)                                                         \n",
            "                                                                 \n",
            " conv2d_41 (Conv2D)          (None, 28, 28, 32)        2432      \n",
            "                                                                 \n",
            " max_pooling2d_34 (MaxPoolin  (None, 27, 27, 32)       0         \n",
            " g2D)                                                            \n",
            "                                                                 \n",
            " conv2d_42 (Conv2D)          (None, 25, 25, 64)        18496     \n",
            "                                                                 \n",
            " max_pooling2d_35 (MaxPoolin  (None, 24, 24, 64)       0         \n",
            " g2D)                                                            \n",
            "                                                                 \n",
            " conv2d_43 (Conv2D)          (None, 22, 22, 128)       73856     \n",
            "                                                                 \n",
            " max_pooling2d_36 (MaxPoolin  (None, 11, 11, 128)      0         \n",
            " g2D)                                                            \n",
            "                                                                 \n",
            " conv2d_44 (Conv2D)          (None, 9, 9, 256)         295168    \n",
            "                                                                 \n",
            " batch_normalization_16 (Bat  (None, 9, 9, 256)        1024      \n",
            " chNormalization)                                                \n",
            "                                                                 \n",
            " max_pooling2d_37 (MaxPoolin  (None, 4, 4, 256)        0         \n",
            " g2D)                                                            \n",
            "                                                                 \n",
            " dropout_22 (Dropout)        (None, 4, 4, 256)         0         \n",
            "                                                                 \n",
            " flatten_7 (Flatten)         (None, 4096)              0         \n",
            "                                                                 \n",
            " dense_22 (Dense)            (None, 512)               2097664   \n",
            "                                                                 \n",
            " dropout_23 (Dropout)        (None, 512)               0         \n",
            "                                                                 \n",
            " dense_23 (Dense)            (None, 256)               131328    \n",
            "                                                                 \n",
            " dropout_24 (Dropout)        (None, 256)               0         \n",
            "                                                                 \n",
            " dense_24 (Dense)            (None, 128)               32896     \n",
            "                                                                 \n",
            " dropout_25 (Dropout)        (None, 128)               0         \n",
            "                                                                 \n",
            " dense_25 (Dense)            (None, 10)                1290      \n",
            "                                                                 \n",
            "=================================================================\n",
            "Total params: 2,654,154\n",
            "Trainable params: 2,653,642\n",
            "Non-trainable params: 512\n",
            "_________________________________________________________________\n",
            "Epoch 1/100\n",
            "160/160 [==============================] - 27s 157ms/step - loss: 2.0549 - accuracy: 0.2358 - val_loss: 2.2045 - val_accuracy: 0.3302\n",
            "Epoch 2/100\n",
            "160/160 [==============================] - 24s 147ms/step - loss: 1.7020 - accuracy: 0.3744 - val_loss: 2.0386 - val_accuracy: 0.3391\n",
            "Epoch 3/100\n",
            "160/160 [==============================] - 26s 162ms/step - loss: 1.5254 - accuracy: 0.4466 - val_loss: 1.6835 - val_accuracy: 0.5096\n",
            "Epoch 4/100\n",
            "160/160 [==============================] - 23s 146ms/step - loss: 1.4147 - accuracy: 0.4926 - val_loss: 1.3875 - val_accuracy: 0.5266\n",
            "Epoch 5/100\n",
            "160/160 [==============================] - 25s 153ms/step - loss: 1.3280 - accuracy: 0.5323 - val_loss: 1.1989 - val_accuracy: 0.5765\n",
            "Epoch 6/100\n",
            "160/160 [==============================] - 23s 147ms/step - loss: 1.2530 - accuracy: 0.5571 - val_loss: 1.4620 - val_accuracy: 0.5101\n",
            "Epoch 7/100\n",
            "160/160 [==============================] - 25s 155ms/step - loss: 1.1903 - accuracy: 0.5851 - val_loss: 1.0531 - val_accuracy: 0.6283\n",
            "Epoch 8/100\n",
            "160/160 [==============================] - 24s 148ms/step - loss: 1.1345 - accuracy: 0.6027 - val_loss: 1.1475 - val_accuracy: 0.5960\n",
            "Epoch 9/100\n",
            "160/160 [==============================] - 24s 152ms/step - loss: 1.0971 - accuracy: 0.6198 - val_loss: 0.9980 - val_accuracy: 0.6482\n",
            "Epoch 10/100\n",
            "160/160 [==============================] - 25s 159ms/step - loss: 1.0570 - accuracy: 0.6357 - val_loss: 0.9785 - val_accuracy: 0.6576\n",
            "Epoch 11/100\n",
            "160/160 [==============================] - 24s 148ms/step - loss: 1.0162 - accuracy: 0.6504 - val_loss: 0.9357 - val_accuracy: 0.6736\n",
            "Epoch 12/100\n",
            "160/160 [==============================] - 25s 155ms/step - loss: 0.9790 - accuracy: 0.6639 - val_loss: 0.8878 - val_accuracy: 0.6882\n",
            "Epoch 13/100\n",
            "160/160 [==============================] - 23s 146ms/step - loss: 0.9508 - accuracy: 0.6754 - val_loss: 0.9577 - val_accuracy: 0.6745\n",
            "Epoch 14/100\n",
            "160/160 [==============================] - 25s 154ms/step - loss: 0.9172 - accuracy: 0.6859 - val_loss: 0.9729 - val_accuracy: 0.6646\n",
            "Epoch 15/100\n",
            "160/160 [==============================] - 23s 146ms/step - loss: 0.8962 - accuracy: 0.6936 - val_loss: 0.8390 - val_accuracy: 0.7086\n",
            "Epoch 16/100\n",
            "160/160 [==============================] - 24s 152ms/step - loss: 0.8582 - accuracy: 0.7050 - val_loss: 0.8143 - val_accuracy: 0.7191\n",
            "Epoch 17/100\n",
            "160/160 [==============================] - 23s 145ms/step - loss: 0.8451 - accuracy: 0.7113 - val_loss: 0.8702 - val_accuracy: 0.7049\n",
            "Epoch 18/100\n",
            "160/160 [==============================] - 26s 162ms/step - loss: 0.8149 - accuracy: 0.7225 - val_loss: 0.8590 - val_accuracy: 0.7049\n",
            "Epoch 19/100\n",
            "160/160 [==============================] - 24s 151ms/step - loss: 0.7931 - accuracy: 0.7291 - val_loss: 0.7627 - val_accuracy: 0.7406\n",
            "Epoch 20/100\n",
            "160/160 [==============================] - 23s 146ms/step - loss: 0.7778 - accuracy: 0.7350 - val_loss: 0.8147 - val_accuracy: 0.7179\n",
            "Epoch 21/100\n",
            "160/160 [==============================] - 25s 155ms/step - loss: 0.7629 - accuracy: 0.7398 - val_loss: 0.8429 - val_accuracy: 0.7121\n",
            "Epoch 22/100\n",
            "160/160 [==============================] - 23s 146ms/step - loss: 0.7461 - accuracy: 0.7466 - val_loss: 0.8163 - val_accuracy: 0.7230\n",
            "Epoch 23/100\n",
            "160/160 [==============================] - 25s 154ms/step - loss: 0.7205 - accuracy: 0.7551 - val_loss: 0.7302 - val_accuracy: 0.7508\n",
            "Epoch 24/100\n",
            "160/160 [==============================] - 24s 149ms/step - loss: 0.7163 - accuracy: 0.7595 - val_loss: 0.7301 - val_accuracy: 0.7492\n",
            "Epoch 25/100\n",
            "160/160 [==============================] - 26s 163ms/step - loss: 0.6901 - accuracy: 0.7660 - val_loss: 0.7265 - val_accuracy: 0.7544\n",
            "Epoch 26/100\n",
            "160/160 [==============================] - 23s 147ms/step - loss: 0.6794 - accuracy: 0.7699 - val_loss: 0.8376 - val_accuracy: 0.7106\n",
            "Epoch 27/100\n",
            "160/160 [==============================] - 25s 155ms/step - loss: 0.6726 - accuracy: 0.7733 - val_loss: 0.7035 - val_accuracy: 0.7587\n",
            "Epoch 28/100\n",
            "160/160 [==============================] - 26s 160ms/step - loss: 0.6548 - accuracy: 0.7795 - val_loss: 0.6826 - val_accuracy: 0.7704\n",
            "Epoch 29/100\n",
            "160/160 [==============================] - 24s 148ms/step - loss: 0.6359 - accuracy: 0.7858 - val_loss: 0.7011 - val_accuracy: 0.7587\n",
            "Epoch 30/100\n",
            "160/160 [==============================] - 25s 156ms/step - loss: 0.6222 - accuracy: 0.7900 - val_loss: 0.7540 - val_accuracy: 0.7561\n",
            "Epoch 31/100\n",
            "160/160 [==============================] - 23s 146ms/step - loss: 0.6225 - accuracy: 0.7911 - val_loss: 0.6607 - val_accuracy: 0.7750\n",
            "Epoch 32/100\n",
            "160/160 [==============================] - 26s 161ms/step - loss: 0.6004 - accuracy: 0.7978 - val_loss: 0.6612 - val_accuracy: 0.7786\n",
            "Epoch 33/100\n",
            "160/160 [==============================] - 23s 145ms/step - loss: 0.5947 - accuracy: 0.7991 - val_loss: 0.9049 - val_accuracy: 0.7206\n",
            "Epoch 34/100\n",
            "160/160 [==============================] - 25s 155ms/step - loss: 0.5811 - accuracy: 0.8040 - val_loss: 0.6985 - val_accuracy: 0.7654\n",
            "Epoch 35/100\n",
            "160/160 [==============================] - 23s 146ms/step - loss: 0.5615 - accuracy: 0.8089 - val_loss: 0.8115 - val_accuracy: 0.7414\n",
            "Epoch 36/100\n",
            "160/160 [==============================] - 24s 153ms/step - loss: 0.5512 - accuracy: 0.8137 - val_loss: 0.6966 - val_accuracy: 0.7692\n",
            "Epoch 37/100\n",
            "160/160 [==============================] - 24s 153ms/step - loss: 0.5507 - accuracy: 0.8131 - val_loss: 0.6950 - val_accuracy: 0.7679\n",
            "Epoch 38/100\n",
            "160/160 [==============================] - 24s 147ms/step - loss: 0.5311 - accuracy: 0.8203 - val_loss: 0.6774 - val_accuracy: 0.7788\n",
            "Epoch 39/100\n",
            "160/160 [==============================] - 25s 154ms/step - loss: 0.5298 - accuracy: 0.8217 - val_loss: 0.6573 - val_accuracy: 0.7826\n",
            "Epoch 40/100\n",
            "160/160 [==============================] - 25s 153ms/step - loss: 0.5180 - accuracy: 0.8265 - val_loss: 0.6599 - val_accuracy: 0.7807\n",
            "Epoch 41/100\n",
            "160/160 [==============================] - 24s 153ms/step - loss: 0.5057 - accuracy: 0.8298 - val_loss: 0.6464 - val_accuracy: 0.7888\n",
            "Epoch 42/100\n",
            "160/160 [==============================] - 23s 147ms/step - loss: 0.4975 - accuracy: 0.8321 - val_loss: 0.6362 - val_accuracy: 0.7913\n",
            "Epoch 43/100\n",
            "160/160 [==============================] - 25s 154ms/step - loss: 0.4856 - accuracy: 0.8347 - val_loss: 0.7038 - val_accuracy: 0.7771\n",
            "Epoch 44/100\n",
            "160/160 [==============================] - 23s 145ms/step - loss: 0.4856 - accuracy: 0.8367 - val_loss: 0.6517 - val_accuracy: 0.7820\n",
            "Epoch 45/100\n",
            "160/160 [==============================] - 25s 155ms/step - loss: 0.4748 - accuracy: 0.8396 - val_loss: 0.7931 - val_accuracy: 0.7628\n",
            "Epoch 46/100\n",
            "160/160 [==============================] - 25s 154ms/step - loss: 0.4623 - accuracy: 0.8419 - val_loss: 0.7156 - val_accuracy: 0.7767\n",
            "Epoch 47/100\n",
            "160/160 [==============================] - 24s 153ms/step - loss: 0.4542 - accuracy: 0.8448 - val_loss: 0.6461 - val_accuracy: 0.7952\n",
            "Epoch 48/100\n",
            "160/160 [==============================] - 25s 155ms/step - loss: 0.4429 - accuracy: 0.8485 - val_loss: 0.7048 - val_accuracy: 0.7769\n",
            "Epoch 49/100\n",
            "160/160 [==============================] - 24s 149ms/step - loss: 0.4338 - accuracy: 0.8518 - val_loss: 0.7281 - val_accuracy: 0.7717\n",
            "Epoch 50/100\n",
            "160/160 [==============================] - 25s 157ms/step - loss: 0.4231 - accuracy: 0.8567 - val_loss: 0.6581 - val_accuracy: 0.7898\n",
            "Epoch 51/100\n",
            "160/160 [==============================] - 24s 148ms/step - loss: 0.4220 - accuracy: 0.8577 - val_loss: 0.6163 - val_accuracy: 0.7988\n",
            "Epoch 52/100\n",
            "160/160 [==============================] - 25s 155ms/step - loss: 0.4193 - accuracy: 0.8586 - val_loss: 0.6379 - val_accuracy: 0.7988\n",
            "Epoch 53/100\n",
            "160/160 [==============================] - 24s 151ms/step - loss: 0.4070 - accuracy: 0.8614 - val_loss: 0.7003 - val_accuracy: 0.7836\n",
            "Epoch 54/100\n",
            "160/160 [==============================] - 26s 159ms/step - loss: 0.4022 - accuracy: 0.8648 - val_loss: 0.6215 - val_accuracy: 0.7988\n",
            "Epoch 55/100\n",
            "160/160 [==============================] - 25s 158ms/step - loss: 0.3943 - accuracy: 0.8636 - val_loss: 0.7035 - val_accuracy: 0.7812\n",
            "Epoch 56/100\n",
            "160/160 [==============================] - 24s 149ms/step - loss: 0.3932 - accuracy: 0.8669 - val_loss: 0.6691 - val_accuracy: 0.7944\n",
            "Epoch 57/100\n",
            "160/160 [==============================] - 25s 156ms/step - loss: 0.3808 - accuracy: 0.8715 - val_loss: 0.7249 - val_accuracy: 0.7841\n",
            "Epoch 58/100\n",
            "160/160 [==============================] - 24s 150ms/step - loss: 0.3872 - accuracy: 0.8678 - val_loss: 0.6199 - val_accuracy: 0.7994\n",
            "Epoch 59/100\n",
            "160/160 [==============================] - 25s 156ms/step - loss: 0.3732 - accuracy: 0.8726 - val_loss: 0.6596 - val_accuracy: 0.7958\n",
            "Epoch 60/100\n",
            "160/160 [==============================] - 23s 147ms/step - loss: 0.3668 - accuracy: 0.8763 - val_loss: 0.6326 - val_accuracy: 0.7994\n",
            "Epoch 61/100\n",
            "160/160 [==============================] - 26s 160ms/step - loss: 0.3645 - accuracy: 0.8772 - val_loss: 0.6482 - val_accuracy: 0.7934\n",
            "Epoch 62/100\n",
            "160/160 [==============================] - 23s 145ms/step - loss: 0.3588 - accuracy: 0.8797 - val_loss: 0.6243 - val_accuracy: 0.8045\n",
            "Epoch 63/100\n",
            "160/160 [==============================] - 24s 152ms/step - loss: 0.3560 - accuracy: 0.8794 - val_loss: 0.7491 - val_accuracy: 0.7736\n",
            "Epoch 64/100\n",
            "160/160 [==============================] - 23s 145ms/step - loss: 0.3494 - accuracy: 0.8817 - val_loss: 0.5986 - val_accuracy: 0.8071\n",
            "Epoch 65/100\n",
            "160/160 [==============================] - 24s 153ms/step - loss: 0.3433 - accuracy: 0.8834 - val_loss: 0.6730 - val_accuracy: 0.7916\n",
            "Epoch 66/100\n",
            "160/160 [==============================] - 23s 146ms/step - loss: 0.3352 - accuracy: 0.8857 - val_loss: 0.6725 - val_accuracy: 0.7988\n",
            "Epoch 67/100\n",
            "160/160 [==============================] - 25s 153ms/step - loss: 0.3461 - accuracy: 0.8834 - val_loss: 0.7038 - val_accuracy: 0.7943\n",
            "Epoch 68/100\n",
            "160/160 [==============================] - 25s 156ms/step - loss: 0.3243 - accuracy: 0.8884 - val_loss: 0.6879 - val_accuracy: 0.7963\n",
            "Epoch 69/100\n",
            "160/160 [==============================] - 25s 154ms/step - loss: 0.3210 - accuracy: 0.8905 - val_loss: 0.6822 - val_accuracy: 0.8024\n",
            "Epoch 70/100\n",
            "160/160 [==============================] - 25s 154ms/step - loss: 0.3193 - accuracy: 0.8909 - val_loss: 0.6244 - val_accuracy: 0.8025\n",
            "Epoch 71/100\n",
            "160/160 [==============================] - 24s 147ms/step - loss: 0.3129 - accuracy: 0.8938 - val_loss: 0.6888 - val_accuracy: 0.7905\n",
            "Epoch 72/100\n",
            "160/160 [==============================] - 25s 154ms/step - loss: 0.3087 - accuracy: 0.8941 - val_loss: 0.6754 - val_accuracy: 0.7924\n",
            "Epoch 73/100\n",
            "160/160 [==============================] - 23s 146ms/step - loss: 0.3050 - accuracy: 0.8975 - val_loss: 0.6766 - val_accuracy: 0.7997\n",
            "Epoch 74/100\n",
            "160/160 [==============================] - 25s 155ms/step - loss: 0.2967 - accuracy: 0.9011 - val_loss: 0.7552 - val_accuracy: 0.7857\n",
            "Epoch 75/100\n",
            "160/160 [==============================] - 24s 151ms/step - loss: 0.2978 - accuracy: 0.9007 - val_loss: 0.6753 - val_accuracy: 0.8005\n",
            "Epoch 76/100\n",
            "160/160 [==============================] - 26s 163ms/step - loss: 0.2917 - accuracy: 0.9016 - val_loss: 0.6725 - val_accuracy: 0.8006\n",
            "Epoch 77/100\n",
            "160/160 [==============================] - 25s 156ms/step - loss: 0.2897 - accuracy: 0.9022 - val_loss: 0.6891 - val_accuracy: 0.7992\n",
            "Epoch 78/100\n",
            "160/160 [==============================] - 23s 146ms/step - loss: 0.2895 - accuracy: 0.9000 - val_loss: 0.7016 - val_accuracy: 0.7966\n",
            "Epoch 79/100\n",
            "160/160 [==============================] - 25s 155ms/step - loss: 0.2836 - accuracy: 0.9023 - val_loss: 0.7395 - val_accuracy: 0.7916\n",
            "Epoch 80/100\n",
            "160/160 [==============================] - 24s 148ms/step - loss: 0.2731 - accuracy: 0.9074 - val_loss: 0.7057 - val_accuracy: 0.8007\n",
            "Epoch 81/100\n",
            "160/160 [==============================] - 25s 158ms/step - loss: 0.2765 - accuracy: 0.9044 - val_loss: 0.6903 - val_accuracy: 0.7998\n",
            "Epoch 82/100\n",
            "160/160 [==============================] - 25s 154ms/step - loss: 0.2710 - accuracy: 0.9077 - val_loss: 0.7395 - val_accuracy: 0.7927\n",
            "Epoch 83/100\n",
            "160/160 [==============================] - 25s 157ms/step - loss: 0.2758 - accuracy: 0.9071 - val_loss: 0.6539 - val_accuracy: 0.8037\n",
            "Epoch 84/100\n",
            "160/160 [==============================] - 25s 158ms/step - loss: 0.2635 - accuracy: 0.9108 - val_loss: 0.7424 - val_accuracy: 0.7938\n",
            "Epoch 85/100\n",
            "160/160 [==============================] - 24s 151ms/step - loss: 0.2638 - accuracy: 0.9096 - val_loss: 0.7439 - val_accuracy: 0.7886\n",
            "Epoch 86/100\n",
            "160/160 [==============================] - 25s 156ms/step - loss: 0.2586 - accuracy: 0.9128 - val_loss: 0.6676 - val_accuracy: 0.8038\n",
            "Epoch 87/100\n",
            "160/160 [==============================] - 24s 151ms/step - loss: 0.2577 - accuracy: 0.9118 - val_loss: 0.7261 - val_accuracy: 0.8013\n",
            "Epoch 88/100\n",
            "160/160 [==============================] - 25s 157ms/step - loss: 0.2572 - accuracy: 0.9127 - val_loss: 0.6676 - val_accuracy: 0.7991\n",
            "Epoch 89/100\n",
            "160/160 [==============================] - 25s 158ms/step - loss: 0.2502 - accuracy: 0.9156 - val_loss: 0.6706 - val_accuracy: 0.8037\n",
            "Epoch 90/100\n",
            "160/160 [==============================] - 25s 154ms/step - loss: 0.2511 - accuracy: 0.9153 - val_loss: 0.7054 - val_accuracy: 0.8024\n",
            "Epoch 91/100\n",
            "160/160 [==============================] - 25s 154ms/step - loss: 0.2469 - accuracy: 0.9163 - val_loss: 0.8312 - val_accuracy: 0.7865\n",
            "Epoch 92/100\n",
            "160/160 [==============================] - 24s 147ms/step - loss: 0.2450 - accuracy: 0.9169 - val_loss: 0.7301 - val_accuracy: 0.7978\n",
            "Epoch 93/100\n",
            "160/160 [==============================] - 25s 156ms/step - loss: 0.2481 - accuracy: 0.9159 - val_loss: 0.6563 - val_accuracy: 0.8109\n",
            "Epoch 94/100\n",
            "160/160 [==============================] - 24s 152ms/step - loss: 0.2412 - accuracy: 0.9193 - val_loss: 0.7218 - val_accuracy: 0.8013\n",
            "Epoch 95/100\n",
            "160/160 [==============================] - 24s 149ms/step - loss: 0.2413 - accuracy: 0.9186 - val_loss: 0.6764 - val_accuracy: 0.8103\n",
            "Epoch 96/100\n",
            "160/160 [==============================] - 25s 155ms/step - loss: 0.2327 - accuracy: 0.9217 - val_loss: 0.6847 - val_accuracy: 0.8049\n",
            "Epoch 97/100\n",
            "160/160 [==============================] - 25s 155ms/step - loss: 0.2290 - accuracy: 0.9231 - val_loss: 0.7597 - val_accuracy: 0.8003\n",
            "Epoch 98/100\n",
            "160/160 [==============================] - 25s 158ms/step - loss: 0.2334 - accuracy: 0.9205 - val_loss: 0.7077 - val_accuracy: 0.8029\n",
            "Epoch 99/100\n",
            "160/160 [==============================] - 24s 151ms/step - loss: 0.2327 - accuracy: 0.9212 - val_loss: 0.6870 - val_accuracy: 0.8092\n",
            "Epoch 100/100\n",
            "160/160 [==============================] - 25s 158ms/step - loss: 0.2222 - accuracy: 0.9248 - val_loss: 0.7215 - val_accuracy: 0.8070\n",
            "Time to train model: 2443.1820924282074\n",
            "40/40 [==============================] - 0s 12ms/step - loss: 0.7306 - accuracy: 0.8019\n"
          ]
        },
        {
          "output_type": "execute_result",
          "data": {
            "text/plain": [
              "[0.7305923700332642, 0.8019000291824341]"
            ]
          },
          "metadata": {},
          "execution_count": 43
        },
        {
          "output_type": "display_data",
          "data": {
            "text/plain": [
              "<Figure size 432x288 with 1 Axes>"
            ],
            "image/png": "[encoded data removed]"
          },
          "metadata": {
            "needs_background": "light"
          }
        }
      ],
      "source": [
        "#@title Train model\n",
        "\n",
        "learning_rate = 0.0002\n",
        "epochs = 100\n",
        "batch_size = 250\n",
        "validation_split = 0.2\n",
        "\n",
        "#model = create_model(learning_rate)\n",
        "model = create_convolutional_model_functional(learning_rate)\n",
        "\n",
        "start_time = time.time()\n",
        "epochs, hist = train_model(model, x_train_normalized, y_train, epochs, batch_size, validation_split)\n",
        "print('Time to train model:', time.time() - start_time)\n",
        "\n",
        "metrics=['loss', 'accuracy', 'val_loss', 'val_accuracy']\n",
        "plot_curve(epochs, hist, metrics)\n",
        "\n",
        "model.evaluate(x=x_test_normalized, y=y_test, batch_size=batch_size)"
      ]
    }
  ],
  "metadata": {
    "colab": {
      "provenance": [],
      "toc_visible": true,
      "authorship_tag": "ABX9TyPzIPUKsfyUFxcD3Al4lcBG",
      "include_colab_link": true
    },
    "kernelspec": {
      "display_name": "Python 3",
      "name": "python3"
    },
    "language_info": {
      "name": "python"
    },
    "accelerator": "GPU",
    "gpuClass": "standard"
  },
  "nbformat": 4,
  "nbformat_minor": 0
}