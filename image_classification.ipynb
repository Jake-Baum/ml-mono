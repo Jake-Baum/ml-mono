{
  "cells": [
    {
      "cell_type": "markdown",
      "metadata": {
        "id": "view-in-github",
        "colab_type": "text"
      },
      "source": [
        "<a href=\"https://colab.research.google.com/github/Jake-Baum/ml-mono/blob/main/image_classification.ipynb\" target=\"_parent\"><img src=\"https://colab.research.google.com/assets/colab-badge.svg\" alt=\"Open In Colab\"/></a>"
      ]
    },
    {
      "cell_type": "code",
      "execution_count": null,
      "metadata": {
        "id": "XpVHDndAqoIK"
      },
      "outputs": [],
      "source": [
        "#@title Imports { display-mode: \"both\" }\n",
        "\n",
        "import tensorflow as tf\n",
        "import matplotlib.pyplot as plt\n",
        "import pandas as pd\n",
        "\n",
        "import time"
      ]
    },
    {
      "cell_type": "code",
      "execution_count": null,
      "metadata": {
        "colab": {
          "base_uri": "https://localhost:8080/"
        },
        "id": "YAxAk3i0q_VV",
        "outputId": "103694b8-4076-4f27-d4b9-6cbf72f0e4da"
      },
      "outputs": [
        {
          "output_type": "stream",
          "name": "stdout",
          "text": [
            "Downloading data from https://www.cs.toronto.edu/~kriz/cifar-10-python.tar.gz\n",
            "170498071/170498071 [==============================] - 14s 0us/step\n"
          ]
        }
      ],
      "source": [
        "#@title Load dataset\n",
        "\n",
        "(x_train, y_train), (x_test, y_test) = tf.keras.datasets.cifar10.load_data()\n",
        "\n",
        "label_names = ['airplane', 'automobile', 'bird', 'cat', 'deer', 'dog', 'frog', 'horse', 'ship', 'truck']"
      ]
    },
    {
      "cell_type": "code",
      "execution_count": null,
      "metadata": {
        "colab": {
          "base_uri": "https://localhost:8080/",
          "height": 284
        },
        "id": "gSAu8eUyrOrB",
        "outputId": "56e725e5-fbd1-478c-ca55-7ba69501cf21"
      },
      "outputs": [
        {
          "data": {
            "text/plain": [
              "32"
            ]
          },
          "execution_count": 27,
          "metadata": {},
          "output_type": "execute_result"
        },
        {
          "data": {
            "image/png": "[encoded data removed]",
            "text/plain": [
              "<Figure size 432x288 with 1 Axes>"
            ]
          },
          "metadata": {},
          "output_type": "display_data"
        }
      ],
      "source": [
        "#@title Visualise data\n",
        "\n",
        "\n",
        "plt.imshow(x_train[0])\n",
        "label_names[y_train[0][0]]"
      ]
    },
    {
      "cell_type": "code",
      "execution_count": null,
      "metadata": {
        "id": "qEnE9bEAsr_U"
      },
      "outputs": [],
      "source": [
        "#@title Normalise data\n",
        "\n",
        "x_train_normalized = x_train / 255.0\n",
        "x_test_normalized = x_test / 255.0"
      ]
    },
    {
      "cell_type": "code",
      "execution_count": null,
      "metadata": {
        "colab": {
          "base_uri": "https://localhost:8080/"
        },
        "id": "361gVCCwugxX",
        "outputId": "2cfb9392-8e3d-4a9c-8b27-292f01610ad2"
      },
      "outputs": [
        {
          "output_type": "stream",
          "name": "stdout",
          "text": [
            "plot_curve defined\n"
          ]
        }
      ],
      "source": [
        "#@title Define plotting function for classification metrics\n",
        "\n",
        "def plot_curve(epochs, hist, metrics):\n",
        "  plt.figure()\n",
        "  plt.xlabel(\"Epoch\")\n",
        "  plt.ylabel(\"Value\")\n",
        "\n",
        "  for metric in metrics:\n",
        "    x = hist[metric]\n",
        "    plt.plot(epochs[1:], x[1:], label=metric)\n",
        "  \n",
        "  plt.legend()\n",
        "\n",
        "print(\"plot_curve defined\")"
      ]
    },
    {
      "cell_type": "code",
      "execution_count": null,
      "metadata": {
        "id": "8L3d4NLjvA7V"
      },
      "outputs": [],
      "source": [
        "#@title Define function for creating a model\n",
        "\n",
        "def create_model(learning_rate):\n",
        "  model = tf.keras.models.Sequential()\n",
        "\n",
        "  #Flatten image array to 1D\n",
        "  model.add(tf.keras.layers.Flatten(input_shape=(len(x_train[0]), len(x_train[0][0]), len(x_train[0][0][0]))))\n",
        "  print('First layer contains', len(x_train[0]) * len(x_train[0][0]) * len(x_train[0][0][0]), 'nodes')\n",
        "\n",
        "  model.add(tf.keras.layers.Dense(units=500, activation='relu'))\n",
        "\n",
        "  model.add(tf.keras.layers.Dropout(0.2))\n",
        "\n",
        "  model.add(tf.keras.layers.Dense(units=200, activation='relu'))\n",
        "\n",
        "  model.add(tf.keras.layers.Dropout(0.2))\n",
        "\n",
        "  model.add(tf.keras.layers.Dense(units=100, activation='relu'))\n",
        "\n",
        "  model.add(tf.keras.layers.Dropout(0.2))\n",
        "\n",
        "  model.add(tf.keras.layers.Dense(units=50, activation='relu'))\n",
        "\n",
        "  #Ouput layer\n",
        "  model.add(tf.keras.layers.Dense(units=len(label_names), activation='softmax'))\n",
        "\n",
        "  model.compile(optimizer=tf.keras.optimizers.Adam(learning_rate=learning_rate),\n",
        "                loss=\"sparse_categorical_crossentropy\",\n",
        "                metrics=['accuracy'])\n",
        "  \n",
        "  return model"
      ]
    },
    {
      "cell_type": "code",
      "execution_count": null,
      "metadata": {
        "id": "vWWu6n7cwOw1"
      },
      "outputs": [],
      "source": [
        "#@title Define function for training a model\n",
        "\n",
        "def train_model(model, train_features, train_label, epochs, batch_size=None, validation_split=0.2):\n",
        "  history = model.fit(x=train_features, y=train_label, batch_size=batch_size, epochs=epochs, shuffle=True, validation_split=validation_split)\n",
        "\n",
        "  epochs = history.epoch\n",
        "  hist = pd.DataFrame(history.history)\n",
        "\n",
        "  return epochs, hist"
      ]
    },
    {
      "cell_type": "code",
      "execution_count": null,
      "metadata": {
        "colab": {
          "base_uri": "https://localhost:8080/",
          "height": 1000
        },
        "id": "oBX-q8JywyKq",
        "outputId": "5ca0b1f0-e810-42f0-e807-dd0fedfde258"
      },
      "outputs": [
        {
          "output_type": "stream",
          "name": "stdout",
          "text": [
            "First layer contains 3072 nodes\n",
            "Epoch 1/100\n",
            "8/8 [==============================] - 2s 213ms/step - loss: 2.2670 - accuracy: 0.1436 - val_loss: 2.2716 - val_accuracy: 0.1482\n",
            "Epoch 2/100\n",
            "8/8 [==============================] - 1s 171ms/step - loss: 2.1573 - accuracy: 0.2077 - val_loss: 2.0057 - val_accuracy: 0.2594\n",
            "Epoch 3/100\n",
            "8/8 [==============================] - 2s 194ms/step - loss: 1.9691 - accuracy: 0.2749 - val_loss: 1.8624 - val_accuracy: 0.3143\n",
            "Epoch 4/100\n",
            "8/8 [==============================] - 1s 170ms/step - loss: 1.8399 - accuracy: 0.3181 - val_loss: 1.7630 - val_accuracy: 0.3493\n",
            "Epoch 5/100\n",
            "8/8 [==============================] - 1s 171ms/step - loss: 1.7613 - accuracy: 0.3487 - val_loss: 1.6875 - val_accuracy: 0.3817\n",
            "Epoch 6/100\n",
            "8/8 [==============================] - 2s 207ms/step - loss: 1.6738 - accuracy: 0.3832 - val_loss: 1.5911 - val_accuracy: 0.4083\n",
            "Epoch 7/100\n",
            "8/8 [==============================] - 2s 208ms/step - loss: 1.6106 - accuracy: 0.4064 - val_loss: 1.5635 - val_accuracy: 0.4250\n",
            "Epoch 8/100\n",
            "8/8 [==============================] - 2s 212ms/step - loss: 1.5446 - accuracy: 0.4326 - val_loss: 1.4656 - val_accuracy: 0.4640\n",
            "Epoch 9/100\n",
            "8/8 [==============================] - 2s 247ms/step - loss: 1.4994 - accuracy: 0.4507 - val_loss: 1.7760 - val_accuracy: 0.3788\n",
            "Epoch 10/100\n",
            "8/8 [==============================] - 2s 216ms/step - loss: 1.5965 - accuracy: 0.4255 - val_loss: 1.5251 - val_accuracy: 0.4471\n",
            "Epoch 11/100\n",
            "8/8 [==============================] - 2s 200ms/step - loss: 1.4933 - accuracy: 0.4570 - val_loss: 1.4001 - val_accuracy: 0.4888\n",
            "Epoch 12/100\n",
            "8/8 [==============================] - 2s 210ms/step - loss: 1.4170 - accuracy: 0.4839 - val_loss: 1.3514 - val_accuracy: 0.5095\n",
            "Epoch 13/100\n",
            "8/8 [==============================] - 1s 188ms/step - loss: 1.3789 - accuracy: 0.5003 - val_loss: 1.3171 - val_accuracy: 0.5338\n",
            "Epoch 14/100\n",
            "8/8 [==============================] - 1s 192ms/step - loss: 1.3558 - accuracy: 0.5093 - val_loss: 1.3105 - val_accuracy: 0.5339\n",
            "Epoch 15/100\n",
            "8/8 [==============================] - 1s 193ms/step - loss: 1.3368 - accuracy: 0.5193 - val_loss: 1.2829 - val_accuracy: 0.5406\n",
            "Epoch 16/100\n",
            "8/8 [==============================] - 1s 170ms/step - loss: 1.2983 - accuracy: 0.5281 - val_loss: 1.2307 - val_accuracy: 0.5593\n",
            "Epoch 17/100\n",
            "8/8 [==============================] - 1s 170ms/step - loss: 1.2719 - accuracy: 0.5429 - val_loss: 1.2284 - val_accuracy: 0.5668\n",
            "Epoch 18/100\n",
            "8/8 [==============================] - 1s 193ms/step - loss: 1.2555 - accuracy: 0.5483 - val_loss: 1.2189 - val_accuracy: 0.5669\n",
            "Epoch 19/100\n",
            "8/8 [==============================] - 1s 170ms/step - loss: 1.2277 - accuracy: 0.5575 - val_loss: 1.1745 - val_accuracy: 0.5857\n",
            "Epoch 20/100\n",
            "8/8 [==============================] - 1s 170ms/step - loss: 1.1922 - accuracy: 0.5718 - val_loss: 1.1488 - val_accuracy: 0.5928\n",
            "Epoch 21/100\n",
            "8/8 [==============================] - 1s 191ms/step - loss: 1.1873 - accuracy: 0.5735 - val_loss: 1.1512 - val_accuracy: 0.5921\n",
            "Epoch 22/100\n",
            "8/8 [==============================] - 1s 169ms/step - loss: 1.1654 - accuracy: 0.5842 - val_loss: 1.1232 - val_accuracy: 0.6075\n",
            "Epoch 23/100\n",
            "8/8 [==============================] - 1s 191ms/step - loss: 1.1460 - accuracy: 0.5894 - val_loss: 1.1125 - val_accuracy: 0.6136\n",
            "Epoch 24/100\n",
            "8/8 [==============================] - 1s 191ms/step - loss: 1.1300 - accuracy: 0.5983 - val_loss: 1.1016 - val_accuracy: 0.6169\n",
            "Epoch 25/100\n",
            "8/8 [==============================] - 1s 168ms/step - loss: 1.1352 - accuracy: 0.5951 - val_loss: 1.0973 - val_accuracy: 0.6156\n",
            "Epoch 26/100\n",
            "8/8 [==============================] - 1s 190ms/step - loss: 1.1066 - accuracy: 0.6087 - val_loss: 1.0640 - val_accuracy: 0.6210\n",
            "Epoch 27/100\n",
            "8/8 [==============================] - 1s 169ms/step - loss: 1.1282 - accuracy: 0.5972 - val_loss: 1.0706 - val_accuracy: 0.6256\n",
            "Epoch 28/100\n",
            "8/8 [==============================] - 1s 168ms/step - loss: 1.1093 - accuracy: 0.6021 - val_loss: 1.0659 - val_accuracy: 0.6229\n",
            "Epoch 29/100\n",
            "8/8 [==============================] - 1s 190ms/step - loss: 1.0682 - accuracy: 0.6190 - val_loss: 1.0260 - val_accuracy: 0.6423\n",
            "Epoch 30/100\n",
            "8/8 [==============================] - 1s 170ms/step - loss: 1.0382 - accuracy: 0.6322 - val_loss: 1.0227 - val_accuracy: 0.6400\n",
            "Epoch 31/100\n",
            "8/8 [==============================] - 1s 170ms/step - loss: 1.0454 - accuracy: 0.6260 - val_loss: 1.0406 - val_accuracy: 0.6342\n",
            "Epoch 32/100\n",
            "8/8 [==============================] - 1s 189ms/step - loss: 1.0354 - accuracy: 0.6319 - val_loss: 0.9996 - val_accuracy: 0.6504\n",
            "Epoch 33/100\n",
            "8/8 [==============================] - 1s 189ms/step - loss: 1.0026 - accuracy: 0.6468 - val_loss: 0.9887 - val_accuracy: 0.6527\n",
            "Epoch 34/100\n",
            "8/8 [==============================] - 1s 169ms/step - loss: 0.9953 - accuracy: 0.6467 - val_loss: 0.9784 - val_accuracy: 0.6622\n",
            "Epoch 35/100\n",
            "8/8 [==============================] - 1s 192ms/step - loss: 0.9916 - accuracy: 0.6488 - val_loss: 0.9912 - val_accuracy: 0.6580\n",
            "Epoch 36/100\n",
            "8/8 [==============================] - 1s 191ms/step - loss: 0.9778 - accuracy: 0.6542 - val_loss: 0.9630 - val_accuracy: 0.6654\n",
            "Epoch 37/100\n",
            "8/8 [==============================] - 1s 190ms/step - loss: 0.9645 - accuracy: 0.6593 - val_loss: 0.9759 - val_accuracy: 0.6596\n",
            "Epoch 38/100\n",
            "8/8 [==============================] - 1s 189ms/step - loss: 0.9808 - accuracy: 0.6558 - val_loss: 0.9788 - val_accuracy: 0.6591\n",
            "Epoch 39/100\n",
            "8/8 [==============================] - 1s 190ms/step - loss: 0.9719 - accuracy: 0.6561 - val_loss: 0.9926 - val_accuracy: 0.6549\n",
            "Epoch 40/100\n",
            "8/8 [==============================] - 1s 169ms/step - loss: 0.9644 - accuracy: 0.6599 - val_loss: 0.9438 - val_accuracy: 0.6700\n",
            "Epoch 41/100\n",
            "8/8 [==============================] - 1s 170ms/step - loss: 0.9335 - accuracy: 0.6684 - val_loss: 0.9342 - val_accuracy: 0.6766\n",
            "Epoch 42/100\n",
            "8/8 [==============================] - 1s 190ms/step - loss: 0.9067 - accuracy: 0.6793 - val_loss: 0.9167 - val_accuracy: 0.6783\n",
            "Epoch 43/100\n",
            "8/8 [==============================] - 1s 191ms/step - loss: 0.8965 - accuracy: 0.6815 - val_loss: 0.9174 - val_accuracy: 0.6821\n",
            "Epoch 44/100\n",
            "8/8 [==============================] - 1s 169ms/step - loss: 0.8889 - accuracy: 0.6874 - val_loss: 0.9036 - val_accuracy: 0.6839\n",
            "Epoch 45/100\n",
            "8/8 [==============================] - 1s 172ms/step - loss: 0.8725 - accuracy: 0.6917 - val_loss: 0.9022 - val_accuracy: 0.6888\n",
            "Epoch 46/100\n",
            "8/8 [==============================] - 1s 178ms/step - loss: 0.8791 - accuracy: 0.6895 - val_loss: 0.9247 - val_accuracy: 0.6795\n",
            "Epoch 47/100\n",
            "8/8 [==============================] - 1s 171ms/step - loss: 0.9171 - accuracy: 0.6730 - val_loss: 0.9185 - val_accuracy: 0.6800\n",
            "Epoch 48/100\n",
            "8/8 [==============================] - 1s 193ms/step - loss: 0.8827 - accuracy: 0.6890 - val_loss: 0.9111 - val_accuracy: 0.6811\n",
            "Epoch 49/100\n",
            "8/8 [==============================] - 1s 191ms/step - loss: 0.8493 - accuracy: 0.6992 - val_loss: 0.8737 - val_accuracy: 0.6979\n",
            "Epoch 50/100\n",
            "8/8 [==============================] - 1s 170ms/step - loss: 0.8326 - accuracy: 0.7050 - val_loss: 0.8825 - val_accuracy: 0.6941\n",
            "Epoch 51/100\n",
            "8/8 [==============================] - 1s 190ms/step - loss: 0.8412 - accuracy: 0.7010 - val_loss: 0.8830 - val_accuracy: 0.6901\n",
            "Epoch 52/100\n",
            "8/8 [==============================] - 1s 191ms/step - loss: 0.8364 - accuracy: 0.7047 - val_loss: 0.9093 - val_accuracy: 0.6855\n",
            "Epoch 53/100\n",
            "8/8 [==============================] - 1s 187ms/step - loss: 0.8604 - accuracy: 0.6955 - val_loss: 0.9000 - val_accuracy: 0.6873\n",
            "Epoch 54/100\n",
            "8/8 [==============================] - 1s 181ms/step - loss: 0.8358 - accuracy: 0.7054 - val_loss: 0.9044 - val_accuracy: 0.6879\n",
            "Epoch 55/100\n",
            "8/8 [==============================] - 2s 199ms/step - loss: 0.8300 - accuracy: 0.7061 - val_loss: 0.8677 - val_accuracy: 0.6993\n",
            "Epoch 56/100\n",
            "8/8 [==============================] - 1s 192ms/step - loss: 0.7989 - accuracy: 0.7162 - val_loss: 0.8566 - val_accuracy: 0.7056\n",
            "Epoch 57/100\n",
            "8/8 [==============================] - 1s 168ms/step - loss: 0.7924 - accuracy: 0.7179 - val_loss: 0.8466 - val_accuracy: 0.7081\n",
            "Epoch 58/100\n",
            "8/8 [==============================] - 1s 193ms/step - loss: 0.7826 - accuracy: 0.7228 - val_loss: 0.8536 - val_accuracy: 0.7011\n",
            "Epoch 59/100\n",
            "8/8 [==============================] - 1s 169ms/step - loss: 0.8148 - accuracy: 0.7126 - val_loss: 0.9659 - val_accuracy: 0.6670\n",
            "Epoch 60/100\n",
            "8/8 [==============================] - 1s 191ms/step - loss: 0.8379 - accuracy: 0.7035 - val_loss: 0.8459 - val_accuracy: 0.7106\n",
            "Epoch 61/100\n",
            "8/8 [==============================] - 1s 190ms/step - loss: 0.7782 - accuracy: 0.7246 - val_loss: 0.8366 - val_accuracy: 0.7122\n",
            "Epoch 62/100\n",
            "8/8 [==============================] - 1s 190ms/step - loss: 0.7561 - accuracy: 0.7341 - val_loss: 0.8384 - val_accuracy: 0.7126\n",
            "Epoch 63/100\n",
            "8/8 [==============================] - 1s 169ms/step - loss: 0.7550 - accuracy: 0.7324 - val_loss: 0.8240 - val_accuracy: 0.7156\n",
            "Epoch 64/100\n",
            "8/8 [==============================] - 1s 192ms/step - loss: 0.7381 - accuracy: 0.7391 - val_loss: 0.8483 - val_accuracy: 0.7059\n",
            "Epoch 65/100\n",
            "8/8 [==============================] - 1s 170ms/step - loss: 0.7687 - accuracy: 0.7285 - val_loss: 0.8771 - val_accuracy: 0.6971\n",
            "Epoch 66/100\n",
            "8/8 [==============================] - 1s 192ms/step - loss: 0.7468 - accuracy: 0.7345 - val_loss: 0.8118 - val_accuracy: 0.7195\n",
            "Epoch 67/100\n",
            "8/8 [==============================] - 1s 172ms/step - loss: 0.7228 - accuracy: 0.7433 - val_loss: 0.8369 - val_accuracy: 0.7115\n",
            "Epoch 68/100\n",
            "8/8 [==============================] - 1s 167ms/step - loss: 0.7310 - accuracy: 0.7425 - val_loss: 0.8102 - val_accuracy: 0.7209\n",
            "Epoch 69/100\n",
            "8/8 [==============================] - 1s 192ms/step - loss: 0.7350 - accuracy: 0.7398 - val_loss: 0.8235 - val_accuracy: 0.7165\n",
            "Epoch 70/100\n",
            "8/8 [==============================] - 1s 190ms/step - loss: 0.7162 - accuracy: 0.7457 - val_loss: 0.8073 - val_accuracy: 0.7199\n",
            "Epoch 71/100\n",
            "8/8 [==============================] - 1s 191ms/step - loss: 0.7078 - accuracy: 0.7506 - val_loss: 0.8165 - val_accuracy: 0.7185\n",
            "Epoch 72/100\n",
            "8/8 [==============================] - 2s 195ms/step - loss: 0.6969 - accuracy: 0.7552 - val_loss: 0.8034 - val_accuracy: 0.7218\n",
            "Epoch 73/100\n",
            "8/8 [==============================] - 1s 190ms/step - loss: 0.6934 - accuracy: 0.7535 - val_loss: 0.8009 - val_accuracy: 0.7281\n",
            "Epoch 74/100\n",
            "8/8 [==============================] - 1s 192ms/step - loss: 0.6818 - accuracy: 0.7594 - val_loss: 0.7963 - val_accuracy: 0.7248\n",
            "Epoch 75/100\n",
            "8/8 [==============================] - 1s 192ms/step - loss: 0.6916 - accuracy: 0.7548 - val_loss: 0.8256 - val_accuracy: 0.7170\n",
            "Epoch 76/100\n",
            "8/8 [==============================] - 1s 191ms/step - loss: 0.6885 - accuracy: 0.7557 - val_loss: 0.8099 - val_accuracy: 0.7211\n",
            "Epoch 77/100\n",
            "8/8 [==============================] - 1s 170ms/step - loss: 0.6731 - accuracy: 0.7601 - val_loss: 0.8024 - val_accuracy: 0.7261\n",
            "Epoch 78/100\n",
            "8/8 [==============================] - 1s 170ms/step - loss: 0.6627 - accuracy: 0.7645 - val_loss: 0.8011 - val_accuracy: 0.7235\n",
            "Epoch 79/100\n",
            "8/8 [==============================] - 1s 190ms/step - loss: 0.6750 - accuracy: 0.7608 - val_loss: 0.8615 - val_accuracy: 0.7065\n",
            "Epoch 80/100\n",
            "8/8 [==============================] - 1s 171ms/step - loss: 0.6935 - accuracy: 0.7520 - val_loss: 0.8030 - val_accuracy: 0.7236\n",
            "Epoch 81/100\n",
            "8/8 [==============================] - 1s 191ms/step - loss: 0.6582 - accuracy: 0.7646 - val_loss: 0.8048 - val_accuracy: 0.7247\n",
            "Epoch 82/100\n",
            "8/8 [==============================] - 1s 190ms/step - loss: 0.6504 - accuracy: 0.7707 - val_loss: 0.8059 - val_accuracy: 0.7255\n",
            "Epoch 83/100\n",
            "8/8 [==============================] - 1s 193ms/step - loss: 0.6329 - accuracy: 0.7750 - val_loss: 0.7865 - val_accuracy: 0.7310\n",
            "Epoch 84/100\n",
            "8/8 [==============================] - 1s 176ms/step - loss: 0.6317 - accuracy: 0.7770 - val_loss: 0.7866 - val_accuracy: 0.7313\n",
            "Epoch 85/100\n",
            "8/8 [==============================] - 2s 195ms/step - loss: 0.6262 - accuracy: 0.7786 - val_loss: 0.7876 - val_accuracy: 0.7300\n",
            "Epoch 86/100\n",
            "8/8 [==============================] - 1s 170ms/step - loss: 0.6341 - accuracy: 0.7742 - val_loss: 0.8213 - val_accuracy: 0.7154\n",
            "Epoch 87/100\n",
            "8/8 [==============================] - 1s 191ms/step - loss: 0.6412 - accuracy: 0.7743 - val_loss: 0.8284 - val_accuracy: 0.7184\n",
            "Epoch 88/100\n",
            "8/8 [==============================] - 1s 192ms/step - loss: 0.6311 - accuracy: 0.7742 - val_loss: 0.7900 - val_accuracy: 0.7283\n",
            "Epoch 89/100\n",
            "8/8 [==============================] - 1s 191ms/step - loss: 0.6070 - accuracy: 0.7821 - val_loss: 0.7761 - val_accuracy: 0.7338\n",
            "Epoch 90/100\n",
            "8/8 [==============================] - 1s 191ms/step - loss: 0.5993 - accuracy: 0.7891 - val_loss: 0.7804 - val_accuracy: 0.7344\n",
            "Epoch 91/100\n",
            "8/8 [==============================] - 1s 171ms/step - loss: 0.5903 - accuracy: 0.7879 - val_loss: 0.7786 - val_accuracy: 0.7342\n",
            "Epoch 92/100\n",
            "8/8 [==============================] - 1s 169ms/step - loss: 0.5791 - accuracy: 0.7933 - val_loss: 0.7694 - val_accuracy: 0.7368\n",
            "Epoch 93/100\n",
            "8/8 [==============================] - 1s 191ms/step - loss: 0.5853 - accuracy: 0.7893 - val_loss: 0.7956 - val_accuracy: 0.7300\n",
            "Epoch 94/100\n",
            "8/8 [==============================] - 1s 192ms/step - loss: 0.5793 - accuracy: 0.7936 - val_loss: 0.7826 - val_accuracy: 0.7345\n",
            "Epoch 95/100\n",
            "8/8 [==============================] - 1s 192ms/step - loss: 0.5886 - accuracy: 0.7888 - val_loss: 0.7834 - val_accuracy: 0.7300\n",
            "Epoch 96/100\n",
            "8/8 [==============================] - 1s 190ms/step - loss: 0.5816 - accuracy: 0.7924 - val_loss: 0.7732 - val_accuracy: 0.7359\n",
            "Epoch 97/100\n",
            "8/8 [==============================] - 1s 190ms/step - loss: 0.5751 - accuracy: 0.7967 - val_loss: 0.7687 - val_accuracy: 0.7375\n",
            "Epoch 98/100\n",
            "8/8 [==============================] - 2s 195ms/step - loss: 0.5635 - accuracy: 0.8009 - val_loss: 0.7707 - val_accuracy: 0.7349\n",
            "Epoch 99/100\n",
            "8/8 [==============================] - 1s 169ms/step - loss: 0.5540 - accuracy: 0.8027 - val_loss: 0.7750 - val_accuracy: 0.7374\n",
            "Epoch 100/100\n",
            "8/8 [==============================] - 1s 189ms/step - loss: 0.5868 - accuracy: 0.7894 - val_loss: 0.8261 - val_accuracy: 0.7210\n",
            "Time to train model: 203.30392694473267\n",
            "2/2 [==============================] - 0s 82ms/step - loss: 0.8395 - accuracy: 0.7152\n"
          ]
        },
        {
          "output_type": "execute_result",
          "data": {
            "text/plain": [
              "[0.839504599571228, 0.7152000069618225]"
            ]
          },
          "metadata": {},
          "execution_count": 10
        },
        {
          "output_type": "display_data",
          "data": {
            "text/plain": [
              "<Figure size 432x288 with 1 Axes>"
            ],
            "image/png": "[encoded data removed]"
          },
          "metadata": {
            "needs_background": "light"
          }
        }
      ],
      "source": [
        "#@title Train model\n",
        "\n",
        "learning_rate = 0.002\n",
        "epochs = 100\n",
        "batch_size = 5000\n",
        "validation_split = 0.2\n",
        "\n",
        "#model = create_model(learning_rate)\n",
        "model = create_convolutional_model(learning_rate)\n",
        "\n",
        "start_time = time.time()\n",
        "epochs, hist = train_model(model, x_train_normalized, y_train, epochs, batch_size, validation_split)\n",
        "print('Time to train model:', time.time() - start_time)\n",
        "\n",
        "metrics=['loss', 'accuracy', 'val_loss', 'val_accuracy']\n",
        "plot_curve(epochs, hist, metrics)\n",
        "\n",
        "model.evaluate(x=x_test_normalized, y=y_test, batch_size=batch_size)"
      ]
    },
    {
      "cell_type": "markdown",
      "metadata": {
        "id": "nw3Qm2hUzhQP"
      },
      "source": [
        "| Structure | Learning rate | Batch size | Epochs | Validation split | Validation loss | Validation accuracy | Test loss | Test accuracy | Training Time | Comments |\n",
        "|-----------|---------------|------------|--------|------------------|---------------|-------------------|-----------|---------------|---------------|----------|\n",
        "| Dense(500), Dropout(0.5), Dense(200) | 0.001 | 1000 | 20 | 0.2 | 1.6159 | 0.4355 | 1.5922 | 0.4455 | 143 |\n",
        "| Dense(500), Dropout(0.5), Dense(200) | 0.01  | 500  | 20 | 0.2 | 2.1169 | 0.1664 | 2.1124 | 0.1636 | 154 |\n",
        "| Dense(500), Dropout(0.5), Dense(200) | 0.001  | 5000  | 20 | 0.2 | 1.6821 | 0.4066 | 1.6544 | 0.4117 | 143 |\n",
        "| Dense(500), Dropout(0.5), Dense(200) | 0.001  | 500  | 20 | 0.2 | 1.6510 | 0.4280 | 1.6316 | 0.4379 | 202 |\n",
        "| Dense(300), Dropout(0.5), Dense(200) | 0.001 | 1000 | 20 | 0.2 | 1.6397 | 0.4279 | 1.6173 | 0.4343 | 143 |\n",
        "| Dense(300), Dropout(0.5), Dense(100) | 0.001 | 1000 | 20 | 0.2 | 1.6077 | 0.4313 | 1.5863 | 0.4353 | 94 |\n",
        "| Dense(100), Dropout(0.5), Dense(50) | 0.001 | 1000 | 20 | 0.2 | 1.9132 | 0.3341 | 1.9008 | 0.3323 | 83 |\n",
        "| Dense(100), Dropout(0.5), Dense(50) | 0.001 | 1000 | 50 | 0.2 | 1.9421 | 0.3155 | 1.9322 | 0.3218 | 143 |\n",
        "| Dense(100), Dropout(0.5), Dense(50), Dropout(0.3) | 0.001 | 1000 | 20 | 0.2 | 1.9637 | 0.3011 | 1.9567 | 0.3041 | 83 |\n",
        "| Dense(500), Dropout(0.5), Dense(200), Dropout(0.3) | 0.001 | 1000 | 20 | 0.2 | 1.7098 | 0.4127 | 1.6919 | 0.4227 |\n",
        "| Dense(500), Dropout(0.7), Dense(200) | 0.001 | 1000 | 20 | 0.2 | 1.9395 | 0.3207 | 1.9271 | 0.3327 | 143 |\n",
        "| Dense(500), Dropout(0.2), Dense(200) | 0.001 | 1000 | 20 | 0.2 | 1.4591 | 0.4828 | 1.4328 | 0.4889 | 135 |\n",
        "| Dense(500), Dropout(0.2), Dense(200), Dense(200) | 0.001 | 1000 | 20 | 0.2 | 1.4653 | 0.4775 | 1.4257 | 0.4897 | 143 |\n",
        "| Dense(500), Dropout(0.2), Dense(200), Dense(100) | 0.001 | 1000 | 20 | 0.2 | 1.4549 | 0.4886 | 1.4255 | 0.4986 | 143 |\n",
        "| Dense(500), Dropout(0.2), Dense(200), Dropout(0.1) Dense(100) | 0.001 | 1000 | 20 | 0.2 | 1.4572 | 0.4873 | 1.4268 | 0.4964 | 203 |\n",
        "| Dense(500), Dense(200), Dense(100) | 0.001 | 1000 | 20 | 0.2 | 1.4462 | 0.4955 | 1.4200 | 0.4985 | 143 |\n",
        "| Dense(500), Dense(200), Dense(100), Dense(50) | 0.001 | 1000 | 20 | 0.2 | 1.4654 | 0.4819 | 1.4353 | 0.4923 |\n",
        "| Dense(500), Dense(200), Dense(100), Dense(50) | 0.001 | 1000 | 50 | 0.2 | 1.4533 | 0.5169 | 1.4506 | 0.5166 |\n",
        "| Dense(500), Dense(200), Dense(100), Dense(50) | 0.001 | 1000 | 100 | 0.2 | 2.0430 | 0.5047 | 2.0269 | 0.5100 | 668 | Massive overfitting (traninig acc. 83%)|\n",
        "| Dense(500), Dropout(0.5), Dense(200), Dropout(0.5), Dense(100), Dropout(0.5), Dense(50) | 0.001 | 1000 | 100 | 0.2 | 1.8931 | 0.3168 | 1.8796 | 0.3247 | | Way too much regularisation |\n",
        "| Dense(500), Dropout(0.1), Dense(200), Dropout(0.1), Dense(100), Dropout(0.1), Dense(50) | 0.001 | 1000 | 100 | 0.2 | 1.4206 | 0.5299 | 1.4032 | 0.5378 | 743 | Still a bit of overfitting (training acc. 68%) |\n",
        "| Dense(500), Dropout(0.2), Dense(200), Dropout(0.2), Dense(100), Dropout(0.2), Dense(50) | 0.001 | 1000 | 100 | 0.2 | 1.3798 | 0.5190 | 1.3576 | 0.5210 | 744 | Less overfitting, perhaps a bit (training acc. 57%) |\n",
        "| Dense(500), Dropout(0.2), Dense(200), Dropout(0.2), Dense(100), Dropout(0.2), Dense(50) | 0.001 | 1000 | 300 | 0.2 | 1.4578 | 0.5177 | 1.4563 | 0.5224 | 2123 | More overfitting (training acc. 65%).  More epochs hasn't helped much |\n",
        "| Conv(16, 3), MP(2), Conv(32, 3), MP(2), Conv(64, 3), MP(2), Flatten, Dense(512) | 0.001 | 1000 | 20 | 0.2 | 1.1048 | 0.6200 | 1.1056 | 0.6125 | 624 | First attempt at convolutional network.  Doesn't look like it has converged |\n",
        "| Conv(16, 3), MP(2), Conv(32, 3), MP(2), Conv(64, 3), MP(2), Flatten, Dense(512) | 0.001 | 1000 | 50 | 0.2 | 1.0049 | 0.6623 | 1.0013 | 0.6610 | 1457 | Closer to converging, although could probably go farther.  slight overfitting (Test acc. 75%) |\n",
        "| Conv(16, 3), MP(2), Conv(32, 3), MP(2), Conv(64, 3), MP(2), Flatten, Dense(512), Dropout(0.5) | 0.001 | 1000 | 50 | 0.2 | 0.9329 | 0.6780 | 0.9345 | 0.6812 | 1523 | Dropout has decreased overfitting, still not converging |\n",
        "|Added dropout layers between convolutional layers.  Much less overfitting but not converged after 50 epochs.  Accuracy: 68% |\n",
        "| Only Dropout last (biggest) convolutional layer.  Increased acurracy to 73%, although quite a lot of overfitting. |\n",
        "| Increasing Dropout (0.2 -> 0.4) reduced overfitting but acc still 73%.  Looks like it hasn't converged yet though |\n",
        "| Increasing epochs to 100, and tweaking some hyperparms has yields an accuracy of 73.68%, takes 1h30m to train this model. |\n",
        "| Switching to GPU reduces runtime to 3m30s.  Final accuracy was 75% in this case |\n",
        "\n",
        "\n",
        "Best test accuracy - 53.8% \n",
        "Not bad for simple network without convolutions.  \n",
        "Lin, Memisevic and Konda manage to get 70% using 'linear bottleneck layers and unsuperpervised pre-training using autoencoders without hidden unit biases'.\n",
        "They also manage to achieve 78% accuracy by 'adding deformations to the training data'.\n",
        "\n",
        "\n",
        "\n",
        "\n"
      ]
    },
    {
      "cell_type": "code",
      "execution_count": null,
      "metadata": {
        "colab": {
          "base_uri": "https://localhost:8080/"
        },
        "id": "gJlzSk3pFk7J",
        "outputId": "97e3ec30-a578-4734-f538-88e3e87303fd"
      },
      "outputs": [
        {
          "data": {
            "text/plain": [
              "100"
            ]
          },
          "execution_count": 98,
          "metadata": {},
          "output_type": "execute_result"
        }
      ],
      "source": [
        "metrics=['loss', 'accuracy', 'val_loss', 'val_accuracy']\n",
        "#plot_curve(epochs, hist, metrics)\n",
        "epochs"
      ]
    },
    {
      "cell_type": "code",
      "execution_count": null,
      "metadata": {
        "id": "34e5f6EaxWIF"
      },
      "outputs": [],
      "source": [
        "#@title Define method for creating a convolutional model\n",
        "\n",
        "def create_convolutional_model(learning_rate):\n",
        "  model = tf.keras.models.Sequential([\n",
        "    tf.keras.layers.Input(shape=(len(x_train[0]), len(x_train[0][0]), len(x_train[0][0][0]))),\n",
        "\n",
        "    tf.keras.layers.Conv2D(32, 3, activation='relu'),\n",
        "    tf.keras.layers.MaxPooling2D(2),\n",
        "\n",
        "    tf.keras.layers.Conv2D(64, 3, activation='relu'),\n",
        "    tf.keras.layers.MaxPooling2D(2),\n",
        "\n",
        "    tf.keras.layers.Conv2D(128, 3, activation='relu'),\n",
        "    tf.keras.layers.MaxPooling2D(2),\n",
        "    tf.keras.layers.Dropout(0.4),\n",
        "\n",
        "    #Create one dimension tensor so we can add fully connected layers after\n",
        "    tf.keras.layers.Flatten(),\n",
        "\n",
        "    tf.keras.layers.Dense(512, activation='relu'),\n",
        "    tf.keras.layers.Dropout(0.1),\n",
        "\n",
        "    tf.keras.layers.Dense(256, activation='relu'),\n",
        "    tf.keras.layers.Dropout(0.1),\n",
        "\n",
        "    #Ouput layer\n",
        "    tf.keras.layers.Dense(units=len(label_names), activation='softmax')\n",
        "  ])\n",
        "\n",
        "  print('First layer contains', len(x_train[0]) * len(x_train[0][0]) * len(x_train[0][0][0]), 'nodes')\n",
        "\n",
        "  model.compile(optimizer=tf.keras.optimizers.Adam(learning_rate=learning_rate),\n",
        "                loss=\"sparse_categorical_crossentropy\",\n",
        "                metrics=['accuracy'])\n",
        "  \n",
        "  return model"
      ]
    },
    {
      "cell_type": "code",
      "source": [
        "#@title Define method for creating a convolutional model\n",
        "\n",
        "def create_convolutional_model_functional(learning_rate):\n",
        "  x = tf.keras.layers.Input(shape=(len(x_train[0]), len(x_train[0][0]), len(x_train[0][0][0])))\n",
        "\n",
        "  x = tf.keras.layers.Conv2D(32, 3, activation='relu')(x)\n",
        "  x = tf.keras.layers.MaxPooling2D(2)(x)\n",
        "\n",
        "  x = tf.keras.layers.Conv2D(64, 3, activation='relu')(x)\n",
        "  x = tf.keras.layers.MaxPooling2D(2)(x)\n",
        "\n",
        "  x = tf.keras.layers.Conv2D(128, 3, activation='relu')(x)\n",
        "  x = tf.keras.layers.MaxPooling2D(2)(x)\n",
        "  x = tf.keras.layers.Dropout(0.4)(x)\n",
        "\n",
        "  #Create one dimension tensor so we can add fully connected layers after\n",
        "  x = tf.keras.layers.Flatten()(x),\n",
        "  x = tf.keras.layers.Dense(512, activation='relu')(x)\n",
        "  x = tf.keras.layers.Dropout(0.1)(x)\n",
        "\n",
        "  x = tf.keras.layers.Dense(256, activation='relu')(x)\n",
        "  x = tf.keras.layers.Dropout(0.1)(x)\n",
        "\n",
        "    #Ouput layer\n",
        "  x = tf.keras.layers.Dense(units=len(label_names), activation='softmax')(x)\n",
        "\n",
        "\n",
        "  print('First layer contains', len(x_train[0]) * len(x_train[0][0]) * len(x_train[0][0][0]), 'nodes')\n",
        "\n",
        "  model.compile(optimizer=tf.keras.optimizers.Adam(learning_rate=learning_rate),\n",
        "                loss=\"sparse_categorical_crossentropy\",\n",
        "                metrics=['accuracy'])\n",
        "  \n",
        "  return model"
      ],
      "metadata": {
        "id": "2wfy9XMn0daE"
      },
      "execution_count": null,
      "outputs": []
    }
  ],
  "metadata": {
    "colab": {
      "provenance": [],
      "toc_visible": true,
      "authorship_tag": "ABX9TyNdKmicQY9S2P80+cS+penU",
      "include_colab_link": true
    },
    "kernelspec": {
      "display_name": "Python 3",
      "name": "python3"
    },
    "language_info": {
      "name": "python"
    },
    "accelerator": "GPU",
    "gpuClass": "standard"
  },
  "nbformat": 4,
  "nbformat_minor": 0
}