{
  "cells": [
    {
      "cell_type": "markdown",
      "metadata": {
        "id": "view-in-github",
        "colab_type": "text"
      },
      "source": [
        "<a href=\"https://colab.research.google.com/github/Jake-Baum/ml-mono/blob/main/image_classification.ipynb\" target=\"_parent\"><img src=\"https://colab.research.google.com/assets/colab-badge.svg\" alt=\"Open In Colab\"/></a>"
      ]
    },
    {
      "cell_type": "code",
      "execution_count": 1,
      "metadata": {
        "id": "XpVHDndAqoIK"
      },
      "outputs": [],
      "source": [
        "#@title Imports { display-mode: \"both\" }\n",
        "\n",
        "import tensorflow as tf\n",
        "import matplotlib.pyplot as plt\n",
        "import pandas as pd\n",
        "\n",
        "import time"
      ]
    },
    {
      "cell_type": "code",
      "execution_count": 2,
      "metadata": {
        "colab": {
          "base_uri": "https://localhost:8080/"
        },
        "id": "YAxAk3i0q_VV",
        "outputId": "1aea6cef-a321-48e3-adca-7a7fe99d4d48"
      },
      "outputs": [
        {
          "output_type": "stream",
          "name": "stdout",
          "text": [
            "Downloading data from https://www.cs.toronto.edu/~kriz/cifar-10-python.tar.gz\n",
            "170498071/170498071 [==============================] - 2s 0us/step\n"
          ]
        }
      ],
      "source": [
        "#@title Load dataset\n",
        "\n",
        "(x_train, y_train), (x_test, y_test) = tf.keras.datasets.cifar10.load_data()\n",
        "\n",
        "label_names = ['airplane', 'automobile', 'bird', 'cat', 'deer', 'dog', 'frog', 'horse', 'ship', 'truck']"
      ]
    },
    {
      "cell_type": "code",
      "execution_count": 3,
      "metadata": {
        "colab": {
          "base_uri": "https://localhost:8080/",
          "height": 284
        },
        "id": "gSAu8eUyrOrB",
        "outputId": "fa11dc63-590e-499a-a34a-1a645e5a27ca"
      },
      "outputs": [
        {
          "output_type": "execute_result",
          "data": {
            "text/plain": [
              "'frog'"
            ],
            "application/vnd.google.colaboratory.intrinsic+json": {
              "type": "string"
            }
          },
          "metadata": {},
          "execution_count": 3
        },
        {
          "output_type": "display_data",
          "data": {
            "text/plain": [
              "<Figure size 432x288 with 1 Axes>"
            ],
            "image/png": "[encoded data removed]"
          },
          "metadata": {
            "needs_background": "light"
          }
        }
      ],
      "source": [
        "#@title Visualise data\n",
        "\n",
        "\n",
        "plt.imshow(x_train[0])\n",
        "label_names[y_train[0][0]]"
      ]
    },
    {
      "cell_type": "code",
      "execution_count": 4,
      "metadata": {
        "id": "qEnE9bEAsr_U"
      },
      "outputs": [],
      "source": [
        "#@title Normalise data\n",
        "\n",
        "x_train_normalized = x_train / 255.0\n",
        "x_test_normalized = x_test / 255.0"
      ]
    },
    {
      "cell_type": "code",
      "execution_count": 5,
      "metadata": {
        "colab": {
          "base_uri": "https://localhost:8080/"
        },
        "id": "361gVCCwugxX",
        "outputId": "000deff1-ef44-4549-eff1-d3da151fb62c"
      },
      "outputs": [
        {
          "output_type": "stream",
          "name": "stdout",
          "text": [
            "plot_curve defined\n"
          ]
        }
      ],
      "source": [
        "#@title Define plotting function for classification metrics\n",
        "\n",
        "def plot_curve(epochs, hist, metrics):\n",
        "  plt.figure()\n",
        "  plt.xlabel(\"Epoch\")\n",
        "  plt.ylabel(\"Value\")\n",
        "\n",
        "  for metric in metrics:\n",
        "    x = hist[metric]\n",
        "    plt.plot(epochs[1:], x[1:], label=metric)\n",
        "  \n",
        "  plt.legend()\n",
        "\n",
        "print(\"plot_curve defined\")"
      ]
    },
    {
      "cell_type": "code",
      "execution_count": 6,
      "metadata": {
        "id": "8L3d4NLjvA7V"
      },
      "outputs": [],
      "source": [
        "#@title Define function for creating a model\n",
        "\n",
        "def create_model(learning_rate):\n",
        "  model = tf.keras.models.Sequential()\n",
        "\n",
        "  #Flatten image array to 1D\n",
        "  model.add(tf.keras.layers.Flatten(input_shape=(len(x_train[0]), len(x_train[0][0]), len(x_train[0][0][0]))))\n",
        "  print('First layer contains', len(x_train[0]) * len(x_train[0][0]) * len(x_train[0][0][0]), 'nodes')\n",
        "\n",
        "  model.add(tf.keras.layers.Dense(units=500, activation='relu'))\n",
        "\n",
        "  model.add(tf.keras.layers.Dropout(0.2))\n",
        "\n",
        "  model.add(tf.keras.layers.Dense(units=200, activation='relu'))\n",
        "\n",
        "  model.add(tf.keras.layers.Dropout(0.2))\n",
        "\n",
        "  model.add(tf.keras.layers.Dense(units=100, activation='relu'))\n",
        "\n",
        "  model.add(tf.keras.layers.Dropout(0.2))\n",
        "\n",
        "  model.add(tf.keras.layers.Dense(units=50, activation='relu'))\n",
        "\n",
        "  #Ouput layer\n",
        "  model.add(tf.keras.layers.Dense(units=len(label_names), activation='softmax'))\n",
        "\n",
        "  model.compile(optimizer=tf.keras.optimizers.Adam(learning_rate=learning_rate),\n",
        "                loss=\"sparse_categorical_crossentropy\",\n",
        "                metrics=['accuracy'])\n",
        "  \n",
        "  return model"
      ]
    },
    {
      "cell_type": "code",
      "execution_count": null,
      "metadata": {
        "id": "34e5f6EaxWIF"
      },
      "outputs": [],
      "source": [
        "#@title Define method for creating a convolutional model\n",
        "\n",
        "def create_convolutional_model(learning_rate):\n",
        "  model = tf.keras.models.Sequential([\n",
        "    tf.keras.layers.Input(shape=(len(x_train[0]), len(x_train[0][0]), len(x_train[0][0][0]))),\n",
        "\n",
        "    tf.keras.layers.Conv2D(32, 3, activation='relu'),\n",
        "    tf.keras.layers.MaxPooling2D(2),\n",
        "\n",
        "    tf.keras.layers.Conv2D(64, 3, activation='relu'),\n",
        "    tf.keras.layers.MaxPooling2D(2),\n",
        "\n",
        "    tf.keras.layers.Conv2D(128, 3, activation='relu'),\n",
        "    tf.keras.layers.MaxPooling2D(2),\n",
        "    tf.keras.layers.Dropout(0.4),\n",
        "\n",
        "    #Create one dimension tensor so we can add fully connected layers after\n",
        "    tf.keras.layers.Flatten(),\n",
        "\n",
        "    tf.keras.layers.Dense(512, activation='relu'),\n",
        "    tf.keras.layers.Dropout(0.1),\n",
        "\n",
        "    tf.keras.layers.Dense(256, activation='relu'),\n",
        "    tf.keras.layers.Dropout(0.1),\n",
        "\n",
        "    #Ouput layer\n",
        "    tf.keras.layers.Dense(units=len(label_names), activation='softmax')\n",
        "  ])\n",
        "\n",
        "  print('First layer contains', len(x_train[0]) * len(x_train[0][0]) * len(x_train[0][0][0]), 'nodes')\n",
        "\n",
        "  model.compile(optimizer=tf.keras.optimizers.Adam(learning_rate=learning_rate),\n",
        "                loss=\"sparse_categorical_crossentropy\",\n",
        "                metrics=['accuracy'])\n",
        "  \n",
        "  return model"
      ]
    },
    {
      "cell_type": "code",
      "source": [
        "#@title Define method for creating a convolutional model\n",
        "\n",
        "def create_convolutional_model_functional(learning_rate):\n",
        "  input = tf.keras.layers.Input(shape=(len(x_train[0]), len(x_train[0][0]), len(x_train[0][0][0])))\n",
        "\n",
        "  x = tf.keras.layers.Conv2D(32, 3, activation='relu')(input)\n",
        "  x = tf.keras.layers.MaxPooling2D(2)(x)\n",
        "\n",
        "  x = tf.keras.layers.Conv2D(64, 3, activation='relu')(x)\n",
        "  x = tf.keras.layers.MaxPooling2D(2)(x)\n",
        "\n",
        "  x = tf.keras.layers.Conv2D(128, 3, activation='relu')(x)\n",
        "  x = tf.keras.layers.MaxPooling2D(2)(x)\n",
        "  x = tf.keras.layers.Dropout(0.4)(x)\n",
        "\n",
        "  #Create one dimension tensor so we can add fully connected layers after\n",
        "  x = tf.keras.layers.Flatten()(x)\n",
        "\n",
        "  x = tf.keras.layers.Dense(512, activation='relu')(x)\n",
        "  x = tf.keras.layers.Dropout(0.1)(x)\n",
        "\n",
        "  x = tf.keras.layers.Dense(256, activation='relu')(x)\n",
        "  x = tf.keras.layers.Dropout(0.1)(x)\n",
        "\n",
        "    #Ouput layer\n",
        "  output = tf.keras.layers.Dense(units=len(label_names), activation='softmax')(x)\n",
        "\n",
        "  model = tf.keras.Model(input, output)\n",
        "\n",
        "  model.compile(optimizer=tf.keras.optimizers.Adam(learning_rate=learning_rate),\n",
        "                loss=\"sparse_categorical_crossentropy\",\n",
        "                metrics=['accuracy'])\n",
        "  \n",
        "  model.summary()\n",
        "  \n",
        "  return model"
      ],
      "metadata": {
        "id": "2wfy9XMn0daE"
      },
      "execution_count": 35,
      "outputs": []
    },
    {
      "cell_type": "code",
      "execution_count": 8,
      "metadata": {
        "id": "vWWu6n7cwOw1"
      },
      "outputs": [],
      "source": [
        "#@title Define function for training a model\n",
        "\n",
        "def train_model(model, train_features, train_label, epochs, batch_size=None, validation_split=0.2):\n",
        "  history = model.fit(x=train_features, y=train_label, batch_size=batch_size, epochs=epochs, shuffle=True, validation_split=validation_split)\n",
        "\n",
        "  epochs = history.epoch\n",
        "  hist = pd.DataFrame(history.history)\n",
        "\n",
        "  return epochs, hist"
      ]
    },
    {
      "cell_type": "code",
      "execution_count": 36,
      "metadata": {
        "colab": {
          "base_uri": "https://localhost:8080/",
          "height": 1000
        },
        "id": "oBX-q8JywyKq",
        "outputId": "08e62998-d1ce-4465-c977-b5ee4961948a"
      },
      "outputs": [
        {
          "output_type": "stream",
          "name": "stdout",
          "text": [
            "Model: \"model_3\"\n",
            "_________________________________________________________________\n",
            " Layer (type)                Output Shape              Param #   \n",
            "=================================================================\n",
            " input_14 (InputLayer)       [(None, 32, 32, 3)]       0         \n",
            "                                                                 \n",
            " conv2d_39 (Conv2D)          (None, 30, 30, 32)        896       \n",
            "                                                                 \n",
            " max_pooling2d_39 (MaxPoolin  (None, 15, 15, 32)       0         \n",
            " g2D)                                                            \n",
            "                                                                 \n",
            " conv2d_40 (Conv2D)          (None, 13, 13, 64)        18496     \n",
            "                                                                 \n",
            " max_pooling2d_40 (MaxPoolin  (None, 6, 6, 64)         0         \n",
            " g2D)                                                            \n",
            "                                                                 \n",
            " conv2d_41 (Conv2D)          (None, 4, 4, 128)         73856     \n",
            "                                                                 \n",
            " max_pooling2d_41 (MaxPoolin  (None, 2, 2, 128)        0         \n",
            " g2D)                                                            \n",
            "                                                                 \n",
            " dropout_17 (Dropout)        (None, 2, 2, 128)         0         \n",
            "                                                                 \n",
            " flatten_6 (Flatten)         (None, 512)               0         \n",
            "                                                                 \n",
            " dense_17 (Dense)            (None, 512)               262656    \n",
            "                                                                 \n",
            " dropout_18 (Dropout)        (None, 512)               0         \n",
            "                                                                 \n",
            " dense_18 (Dense)            (None, 256)               131328    \n",
            "                                                                 \n",
            " dropout_19 (Dropout)        (None, 256)               0         \n",
            "                                                                 \n",
            " dense_19 (Dense)            (None, 10)                2570      \n",
            "                                                                 \n",
            "=================================================================\n",
            "Total params: 489,802\n",
            "Trainable params: 489,802\n",
            "Non-trainable params: 0\n",
            "_________________________________________________________________\n",
            "Epoch 1/100\n",
            "8/8 [==============================] - 2s 236ms/step - loss: 2.2509 - accuracy: 0.1492 - val_loss: 2.0515 - val_accuracy: 0.2709\n",
            "Epoch 2/100\n",
            "8/8 [==============================] - 1s 191ms/step - loss: 2.0764 - accuracy: 0.2386 - val_loss: 1.9744 - val_accuracy: 0.3045\n",
            "Epoch 3/100\n",
            "8/8 [==============================] - 1s 192ms/step - loss: 1.9137 - accuracy: 0.3052 - val_loss: 1.7745 - val_accuracy: 0.3567\n",
            "Epoch 4/100\n",
            "8/8 [==============================] - 1s 190ms/step - loss: 1.7814 - accuracy: 0.3462 - val_loss: 1.6885 - val_accuracy: 0.3844\n",
            "Epoch 5/100\n",
            "8/8 [==============================] - 1s 191ms/step - loss: 1.7072 - accuracy: 0.3679 - val_loss: 1.6453 - val_accuracy: 0.3933\n",
            "Epoch 6/100\n",
            "8/8 [==============================] - 1s 192ms/step - loss: 1.6417 - accuracy: 0.3962 - val_loss: 1.5457 - val_accuracy: 0.4328\n",
            "Epoch 7/100\n",
            "8/8 [==============================] - 1s 190ms/step - loss: 1.5570 - accuracy: 0.4260 - val_loss: 1.4869 - val_accuracy: 0.4592\n",
            "Epoch 8/100\n",
            "8/8 [==============================] - 1s 170ms/step - loss: 1.5344 - accuracy: 0.4396 - val_loss: 1.4881 - val_accuracy: 0.4568\n",
            "Epoch 9/100\n",
            "8/8 [==============================] - 1s 170ms/step - loss: 1.4623 - accuracy: 0.4671 - val_loss: 1.3928 - val_accuracy: 0.4895\n",
            "Epoch 10/100\n",
            "8/8 [==============================] - 2s 194ms/step - loss: 1.4112 - accuracy: 0.4859 - val_loss: 1.3867 - val_accuracy: 0.4921\n",
            "Epoch 11/100\n",
            "8/8 [==============================] - 1s 194ms/step - loss: 1.3791 - accuracy: 0.4987 - val_loss: 1.3222 - val_accuracy: 0.5294\n",
            "Epoch 12/100\n",
            "8/8 [==============================] - 1s 193ms/step - loss: 1.3528 - accuracy: 0.5080 - val_loss: 1.2984 - val_accuracy: 0.5353\n",
            "Epoch 13/100\n",
            "8/8 [==============================] - 1s 171ms/step - loss: 1.3208 - accuracy: 0.5200 - val_loss: 1.2672 - val_accuracy: 0.5419\n",
            "Epoch 14/100\n",
            "8/8 [==============================] - 1s 171ms/step - loss: 1.3054 - accuracy: 0.5283 - val_loss: 1.3188 - val_accuracy: 0.5243\n",
            "Epoch 15/100\n",
            "8/8 [==============================] - 2s 200ms/step - loss: 1.2863 - accuracy: 0.5332 - val_loss: 1.2287 - val_accuracy: 0.5662\n",
            "Epoch 16/100\n",
            "8/8 [==============================] - 2s 194ms/step - loss: 1.2379 - accuracy: 0.5550 - val_loss: 1.2171 - val_accuracy: 0.5672\n",
            "Epoch 17/100\n",
            "8/8 [==============================] - 1s 191ms/step - loss: 1.2125 - accuracy: 0.5648 - val_loss: 1.1514 - val_accuracy: 0.5975\n",
            "Epoch 18/100\n",
            "8/8 [==============================] - 1s 190ms/step - loss: 1.1689 - accuracy: 0.5824 - val_loss: 1.1433 - val_accuracy: 0.5964\n",
            "Epoch 19/100\n",
            "8/8 [==============================] - 1s 193ms/step - loss: 1.2999 - accuracy: 0.5404 - val_loss: 1.2757 - val_accuracy: 0.5512\n",
            "Epoch 20/100\n",
            "8/8 [==============================] - 1s 191ms/step - loss: 1.2506 - accuracy: 0.5518 - val_loss: 1.1795 - val_accuracy: 0.5815\n",
            "Epoch 21/100\n",
            "8/8 [==============================] - 1s 170ms/step - loss: 1.1690 - accuracy: 0.5822 - val_loss: 1.1163 - val_accuracy: 0.6037\n",
            "Epoch 22/100\n",
            "8/8 [==============================] - 1s 168ms/step - loss: 1.1241 - accuracy: 0.5987 - val_loss: 1.0800 - val_accuracy: 0.6206\n",
            "Epoch 23/100\n",
            "8/8 [==============================] - 1s 190ms/step - loss: 1.0935 - accuracy: 0.6113 - val_loss: 1.0734 - val_accuracy: 0.6238\n",
            "Epoch 24/100\n",
            "8/8 [==============================] - 1s 170ms/step - loss: 1.0771 - accuracy: 0.6155 - val_loss: 1.0424 - val_accuracy: 0.6316\n",
            "Epoch 25/100\n",
            "8/8 [==============================] - 1s 174ms/step - loss: 1.0674 - accuracy: 0.6193 - val_loss: 1.0575 - val_accuracy: 0.6305\n",
            "Epoch 26/100\n",
            "8/8 [==============================] - 1s 172ms/step - loss: 1.1233 - accuracy: 0.5993 - val_loss: 1.1017 - val_accuracy: 0.6111\n",
            "Epoch 27/100\n",
            "8/8 [==============================] - 1s 190ms/step - loss: 1.1018 - accuracy: 0.6062 - val_loss: 1.0466 - val_accuracy: 0.6291\n",
            "Epoch 28/100\n",
            "8/8 [==============================] - 1s 193ms/step - loss: 1.0463 - accuracy: 0.6272 - val_loss: 1.0195 - val_accuracy: 0.6436\n",
            "Epoch 29/100\n",
            "8/8 [==============================] - 1s 192ms/step - loss: 1.0131 - accuracy: 0.6393 - val_loss: 0.9866 - val_accuracy: 0.6573\n",
            "Epoch 30/100\n",
            "8/8 [==============================] - 1s 169ms/step - loss: 0.9892 - accuracy: 0.6481 - val_loss: 0.9724 - val_accuracy: 0.6614\n",
            "Epoch 31/100\n",
            "8/8 [==============================] - 1s 190ms/step - loss: 0.9726 - accuracy: 0.6538 - val_loss: 0.9628 - val_accuracy: 0.6641\n",
            "Epoch 32/100\n",
            "8/8 [==============================] - 1s 168ms/step - loss: 0.9655 - accuracy: 0.6568 - val_loss: 0.9550 - val_accuracy: 0.6684\n",
            "Epoch 33/100\n",
            "8/8 [==============================] - 1s 169ms/step - loss: 0.9576 - accuracy: 0.6618 - val_loss: 0.9415 - val_accuracy: 0.6730\n",
            "Epoch 34/100\n",
            "8/8 [==============================] - 1s 190ms/step - loss: 0.9588 - accuracy: 0.6608 - val_loss: 1.0393 - val_accuracy: 0.6367\n",
            "Epoch 35/100\n",
            "8/8 [==============================] - 1s 190ms/step - loss: 0.9733 - accuracy: 0.6554 - val_loss: 0.9564 - val_accuracy: 0.6637\n",
            "Epoch 36/100\n",
            "8/8 [==============================] - 1s 168ms/step - loss: 0.9267 - accuracy: 0.6725 - val_loss: 0.9141 - val_accuracy: 0.6802\n",
            "Epoch 37/100\n",
            "8/8 [==============================] - 1s 190ms/step - loss: 0.9062 - accuracy: 0.6783 - val_loss: 0.9243 - val_accuracy: 0.6814\n",
            "Epoch 38/100\n",
            "8/8 [==============================] - 1s 191ms/step - loss: 0.9066 - accuracy: 0.6794 - val_loss: 0.9174 - val_accuracy: 0.6801\n",
            "Epoch 39/100\n",
            "8/8 [==============================] - 1s 169ms/step - loss: 0.8863 - accuracy: 0.6851 - val_loss: 0.8827 - val_accuracy: 0.6915\n",
            "Epoch 40/100\n",
            "8/8 [==============================] - 1s 169ms/step - loss: 0.8655 - accuracy: 0.6954 - val_loss: 0.8864 - val_accuracy: 0.6874\n",
            "Epoch 41/100\n",
            "8/8 [==============================] - 1s 192ms/step - loss: 0.8553 - accuracy: 0.6968 - val_loss: 0.8889 - val_accuracy: 0.6888\n",
            "Epoch 42/100\n",
            "8/8 [==============================] - 1s 194ms/step - loss: 0.8644 - accuracy: 0.6953 - val_loss: 0.9050 - val_accuracy: 0.6844\n",
            "Epoch 43/100\n",
            "8/8 [==============================] - 1s 170ms/step - loss: 0.8748 - accuracy: 0.6923 - val_loss: 0.9033 - val_accuracy: 0.6838\n",
            "Epoch 44/100\n",
            "8/8 [==============================] - 1s 190ms/step - loss: 0.8611 - accuracy: 0.6959 - val_loss: 0.8564 - val_accuracy: 0.7001\n",
            "Epoch 45/100\n",
            "8/8 [==============================] - 1s 170ms/step - loss: 0.8368 - accuracy: 0.7057 - val_loss: 0.8664 - val_accuracy: 0.6968\n",
            "Epoch 46/100\n",
            "8/8 [==============================] - 2s 193ms/step - loss: 0.8228 - accuracy: 0.7089 - val_loss: 0.8556 - val_accuracy: 0.7018\n",
            "Epoch 47/100\n",
            "8/8 [==============================] - 1s 165ms/step - loss: 0.8032 - accuracy: 0.7194 - val_loss: 0.8434 - val_accuracy: 0.7063\n",
            "Epoch 48/100\n",
            "8/8 [==============================] - 1s 169ms/step - loss: 0.7957 - accuracy: 0.7208 - val_loss: 0.8499 - val_accuracy: 0.6980\n",
            "Epoch 49/100\n",
            "8/8 [==============================] - 1s 191ms/step - loss: 0.7980 - accuracy: 0.7181 - val_loss: 0.8427 - val_accuracy: 0.7085\n",
            "Epoch 50/100\n",
            "8/8 [==============================] - 1s 168ms/step - loss: 0.7937 - accuracy: 0.7202 - val_loss: 0.8545 - val_accuracy: 0.7051\n",
            "Epoch 51/100\n",
            "8/8 [==============================] - 1s 191ms/step - loss: 0.7970 - accuracy: 0.7189 - val_loss: 0.8476 - val_accuracy: 0.7056\n",
            "Epoch 52/100\n",
            "8/8 [==============================] - 1s 190ms/step - loss: 0.7816 - accuracy: 0.7246 - val_loss: 0.8469 - val_accuracy: 0.7029\n",
            "Epoch 53/100\n",
            "8/8 [==============================] - 1s 190ms/step - loss: 0.7619 - accuracy: 0.7321 - val_loss: 0.8269 - val_accuracy: 0.7145\n",
            "Epoch 54/100\n",
            "8/8 [==============================] - 1s 168ms/step - loss: 0.7553 - accuracy: 0.7321 - val_loss: 0.8436 - val_accuracy: 0.7095\n",
            "Epoch 55/100\n",
            "8/8 [==============================] - 1s 169ms/step - loss: 0.7590 - accuracy: 0.7322 - val_loss: 0.8236 - val_accuracy: 0.7126\n",
            "Epoch 56/100\n",
            "8/8 [==============================] - 1s 191ms/step - loss: 0.7784 - accuracy: 0.7272 - val_loss: 0.8263 - val_accuracy: 0.7150\n",
            "Epoch 57/100\n",
            "8/8 [==============================] - 1s 174ms/step - loss: 0.7645 - accuracy: 0.7299 - val_loss: 0.8224 - val_accuracy: 0.7107\n",
            "Epoch 58/100\n",
            "8/8 [==============================] - 2s 202ms/step - loss: 0.7413 - accuracy: 0.7373 - val_loss: 0.8186 - val_accuracy: 0.7118\n",
            "Epoch 59/100\n",
            "8/8 [==============================] - 1s 167ms/step - loss: 0.7214 - accuracy: 0.7474 - val_loss: 0.7927 - val_accuracy: 0.7240\n",
            "Epoch 60/100\n",
            "8/8 [==============================] - 2s 193ms/step - loss: 0.7093 - accuracy: 0.7500 - val_loss: 0.8014 - val_accuracy: 0.7237\n",
            "Epoch 61/100\n",
            "8/8 [==============================] - 1s 169ms/step - loss: 0.7123 - accuracy: 0.7489 - val_loss: 0.7896 - val_accuracy: 0.7211\n",
            "Epoch 62/100\n",
            "8/8 [==============================] - 1s 168ms/step - loss: 0.6886 - accuracy: 0.7559 - val_loss: 0.7771 - val_accuracy: 0.7278\n",
            "Epoch 63/100\n",
            "8/8 [==============================] - 1s 193ms/step - loss: 0.6791 - accuracy: 0.7585 - val_loss: 0.7894 - val_accuracy: 0.7307\n",
            "Epoch 64/100\n",
            "8/8 [==============================] - 1s 193ms/step - loss: 0.6767 - accuracy: 0.7596 - val_loss: 0.7773 - val_accuracy: 0.7332\n",
            "Epoch 65/100\n",
            "8/8 [==============================] - 1s 191ms/step - loss: 0.6770 - accuracy: 0.7611 - val_loss: 0.7978 - val_accuracy: 0.7204\n",
            "Epoch 66/100\n",
            "8/8 [==============================] - 1s 192ms/step - loss: 0.6780 - accuracy: 0.7628 - val_loss: 0.7968 - val_accuracy: 0.7275\n",
            "Epoch 67/100\n",
            "8/8 [==============================] - 1s 173ms/step - loss: 0.6606 - accuracy: 0.7685 - val_loss: 0.7706 - val_accuracy: 0.7321\n",
            "Epoch 68/100\n",
            "8/8 [==============================] - 1s 168ms/step - loss: 0.6488 - accuracy: 0.7698 - val_loss: 0.7655 - val_accuracy: 0.7349\n",
            "Epoch 69/100\n",
            "8/8 [==============================] - 1s 171ms/step - loss: 0.6456 - accuracy: 0.7718 - val_loss: 0.7562 - val_accuracy: 0.7405\n",
            "Epoch 70/100\n",
            "8/8 [==============================] - 1s 168ms/step - loss: 0.6477 - accuracy: 0.7715 - val_loss: 0.7764 - val_accuracy: 0.7311\n",
            "Epoch 71/100\n",
            "8/8 [==============================] - 1s 190ms/step - loss: 0.6495 - accuracy: 0.7726 - val_loss: 0.7789 - val_accuracy: 0.7327\n",
            "Epoch 72/100\n",
            "8/8 [==============================] - 2s 194ms/step - loss: 0.6406 - accuracy: 0.7725 - val_loss: 0.7571 - val_accuracy: 0.7387\n",
            "Epoch 73/100\n",
            "8/8 [==============================] - 1s 169ms/step - loss: 0.6264 - accuracy: 0.7782 - val_loss: 0.7673 - val_accuracy: 0.7308\n",
            "Epoch 74/100\n",
            "8/8 [==============================] - 1s 191ms/step - loss: 0.6176 - accuracy: 0.7807 - val_loss: 0.7555 - val_accuracy: 0.7427\n",
            "Epoch 75/100\n",
            "8/8 [==============================] - 1s 173ms/step - loss: 0.6345 - accuracy: 0.7750 - val_loss: 0.7719 - val_accuracy: 0.7321\n",
            "Epoch 76/100\n",
            "8/8 [==============================] - 2s 194ms/step - loss: 0.6229 - accuracy: 0.7800 - val_loss: 0.7788 - val_accuracy: 0.7320\n",
            "Epoch 77/100\n",
            "8/8 [==============================] - 1s 190ms/step - loss: 0.6175 - accuracy: 0.7811 - val_loss: 0.7686 - val_accuracy: 0.7339\n",
            "Epoch 78/100\n",
            "8/8 [==============================] - 1s 171ms/step - loss: 0.6089 - accuracy: 0.7854 - val_loss: 0.7608 - val_accuracy: 0.7381\n",
            "Epoch 79/100\n",
            "8/8 [==============================] - 1s 192ms/step - loss: 0.6031 - accuracy: 0.7850 - val_loss: 0.7869 - val_accuracy: 0.7307\n",
            "Epoch 80/100\n",
            "8/8 [==============================] - 1s 189ms/step - loss: 0.5916 - accuracy: 0.7912 - val_loss: 0.7922 - val_accuracy: 0.7304\n",
            "Epoch 81/100\n",
            "8/8 [==============================] - 1s 191ms/step - loss: 0.6002 - accuracy: 0.7869 - val_loss: 0.7776 - val_accuracy: 0.7359\n",
            "Epoch 82/100\n",
            "8/8 [==============================] - 1s 192ms/step - loss: 0.5781 - accuracy: 0.7958 - val_loss: 0.7522 - val_accuracy: 0.7419\n",
            "Epoch 83/100\n",
            "8/8 [==============================] - 1s 192ms/step - loss: 0.5657 - accuracy: 0.8011 - val_loss: 0.7380 - val_accuracy: 0.7463\n",
            "Epoch 84/100\n",
            "8/8 [==============================] - 1s 170ms/step - loss: 0.5671 - accuracy: 0.7982 - val_loss: 0.7852 - val_accuracy: 0.7278\n",
            "Epoch 85/100\n",
            "8/8 [==============================] - 2s 194ms/step - loss: 0.5708 - accuracy: 0.7973 - val_loss: 0.7652 - val_accuracy: 0.7431\n",
            "Epoch 86/100\n",
            "8/8 [==============================] - 1s 168ms/step - loss: 0.5704 - accuracy: 0.7976 - val_loss: 0.7434 - val_accuracy: 0.7486\n",
            "Epoch 87/100\n",
            "8/8 [==============================] - 1s 190ms/step - loss: 0.5515 - accuracy: 0.8045 - val_loss: 0.7415 - val_accuracy: 0.7479\n",
            "Epoch 88/100\n",
            "8/8 [==============================] - 1s 168ms/step - loss: 0.5483 - accuracy: 0.8046 - val_loss: 0.7428 - val_accuracy: 0.7455\n",
            "Epoch 89/100\n",
            "8/8 [==============================] - 1s 170ms/step - loss: 0.5391 - accuracy: 0.8077 - val_loss: 0.7511 - val_accuracy: 0.7449\n",
            "Epoch 90/100\n",
            "8/8 [==============================] - 1s 193ms/step - loss: 0.5405 - accuracy: 0.8091 - val_loss: 0.7415 - val_accuracy: 0.7449\n",
            "Epoch 91/100\n",
            "8/8 [==============================] - 1s 191ms/step - loss: 0.5391 - accuracy: 0.8062 - val_loss: 0.7577 - val_accuracy: 0.7422\n",
            "Epoch 92/100\n",
            "8/8 [==============================] - 1s 191ms/step - loss: 0.5315 - accuracy: 0.8115 - val_loss: 0.7613 - val_accuracy: 0.7447\n",
            "Epoch 93/100\n",
            "8/8 [==============================] - 1s 169ms/step - loss: 0.5196 - accuracy: 0.8160 - val_loss: 0.7538 - val_accuracy: 0.7454\n",
            "Epoch 94/100\n",
            "8/8 [==============================] - 1s 193ms/step - loss: 0.5339 - accuracy: 0.8112 - val_loss: 0.7644 - val_accuracy: 0.7415\n",
            "Epoch 95/100\n",
            "8/8 [==============================] - 1s 170ms/step - loss: 0.5247 - accuracy: 0.8151 - val_loss: 0.7611 - val_accuracy: 0.7417\n",
            "Epoch 96/100\n",
            "8/8 [==============================] - 1s 192ms/step - loss: 0.5407 - accuracy: 0.8076 - val_loss: 0.7665 - val_accuracy: 0.7356\n",
            "Epoch 97/100\n",
            "8/8 [==============================] - 1s 167ms/step - loss: 0.5189 - accuracy: 0.8166 - val_loss: 0.7549 - val_accuracy: 0.7485\n",
            "Epoch 98/100\n",
            "8/8 [==============================] - 1s 192ms/step - loss: 0.5100 - accuracy: 0.8188 - val_loss: 0.7368 - val_accuracy: 0.7502\n",
            "Epoch 99/100\n",
            "8/8 [==============================] - 1s 185ms/step - loss: 0.5085 - accuracy: 0.8196 - val_loss: 0.7544 - val_accuracy: 0.7493\n",
            "Epoch 100/100\n",
            "8/8 [==============================] - 2s 204ms/step - loss: 0.4965 - accuracy: 0.8248 - val_loss: 0.7438 - val_accuracy: 0.7507\n",
            "Time to train model: 145.07800722122192\n",
            "2/2 [==============================] - 0s 76ms/step - loss: 0.7595 - accuracy: 0.7459\n"
          ]
        },
        {
          "output_type": "execute_result",
          "data": {
            "text/plain": [
              "[0.7594538927078247, 0.7458999752998352]"
            ]
          },
          "metadata": {},
          "execution_count": 36
        },
        {
          "output_type": "display_data",
          "data": {
            "text/plain": [
              "<Figure size 432x288 with 1 Axes>"
            ],
            "image/png": "[encoded data removed]"
          },
          "metadata": {
            "needs_background": "light"
          }
        }
      ],
      "source": [
        "#@title Train model\n",
        "\n",
        "learning_rate = 0.002\n",
        "epochs = 100\n",
        "batch_size = 5000\n",
        "validation_split = 0.2\n",
        "\n",
        "#model = create_model(learning_rate)\n",
        "model = create_convolutional_model_functional(learning_rate)\n",
        "\n",
        "start_time = time.time()\n",
        "epochs, hist = train_model(model, x_train_normalized, y_train, epochs, batch_size, validation_split)\n",
        "print('Time to train model:', time.time() - start_time)\n",
        "\n",
        "metrics=['loss', 'accuracy', 'val_loss', 'val_accuracy']\n",
        "plot_curve(epochs, hist, metrics)\n",
        "\n",
        "model.evaluate(x=x_test_normalized, y=y_test, batch_size=batch_size)"
      ]
    },
    {
      "cell_type": "markdown",
      "metadata": {
        "id": "nw3Qm2hUzhQP"
      },
      "source": [
        "| Structure | Learning rate | Batch size | Epochs | Validation split | Validation loss | Validation accuracy | Test loss | Test accuracy | Training Time | Comments |\n",
        "|-----------|---------------|------------|--------|------------------|---------------|-------------------|-----------|---------------|---------------|----------|\n",
        "| Dense(500), Dropout(0.5), Dense(200) | 0.001 | 1000 | 20 | 0.2 | 1.6159 | 0.4355 | 1.5922 | 0.4455 | 143 |\n",
        "| Dense(500), Dropout(0.5), Dense(200) | 0.01  | 500  | 20 | 0.2 | 2.1169 | 0.1664 | 2.1124 | 0.1636 | 154 |\n",
        "| Dense(500), Dropout(0.5), Dense(200) | 0.001  | 5000  | 20 | 0.2 | 1.6821 | 0.4066 | 1.6544 | 0.4117 | 143 |\n",
        "| Dense(500), Dropout(0.5), Dense(200) | 0.001  | 500  | 20 | 0.2 | 1.6510 | 0.4280 | 1.6316 | 0.4379 | 202 |\n",
        "| Dense(300), Dropout(0.5), Dense(200) | 0.001 | 1000 | 20 | 0.2 | 1.6397 | 0.4279 | 1.6173 | 0.4343 | 143 |\n",
        "| Dense(300), Dropout(0.5), Dense(100) | 0.001 | 1000 | 20 | 0.2 | 1.6077 | 0.4313 | 1.5863 | 0.4353 | 94 |\n",
        "| Dense(100), Dropout(0.5), Dense(50) | 0.001 | 1000 | 20 | 0.2 | 1.9132 | 0.3341 | 1.9008 | 0.3323 | 83 |\n",
        "| Dense(100), Dropout(0.5), Dense(50) | 0.001 | 1000 | 50 | 0.2 | 1.9421 | 0.3155 | 1.9322 | 0.3218 | 143 |\n",
        "| Dense(100), Dropout(0.5), Dense(50), Dropout(0.3) | 0.001 | 1000 | 20 | 0.2 | 1.9637 | 0.3011 | 1.9567 | 0.3041 | 83 |\n",
        "| Dense(500), Dropout(0.5), Dense(200), Dropout(0.3) | 0.001 | 1000 | 20 | 0.2 | 1.7098 | 0.4127 | 1.6919 | 0.4227 |\n",
        "| Dense(500), Dropout(0.7), Dense(200) | 0.001 | 1000 | 20 | 0.2 | 1.9395 | 0.3207 | 1.9271 | 0.3327 | 143 |\n",
        "| Dense(500), Dropout(0.2), Dense(200) | 0.001 | 1000 | 20 | 0.2 | 1.4591 | 0.4828 | 1.4328 | 0.4889 | 135 |\n",
        "| Dense(500), Dropout(0.2), Dense(200), Dense(200) | 0.001 | 1000 | 20 | 0.2 | 1.4653 | 0.4775 | 1.4257 | 0.4897 | 143 |\n",
        "| Dense(500), Dropout(0.2), Dense(200), Dense(100) | 0.001 | 1000 | 20 | 0.2 | 1.4549 | 0.4886 | 1.4255 | 0.4986 | 143 |\n",
        "| Dense(500), Dropout(0.2), Dense(200), Dropout(0.1) Dense(100) | 0.001 | 1000 | 20 | 0.2 | 1.4572 | 0.4873 | 1.4268 | 0.4964 | 203 |\n",
        "| Dense(500), Dense(200), Dense(100) | 0.001 | 1000 | 20 | 0.2 | 1.4462 | 0.4955 | 1.4200 | 0.4985 | 143 |\n",
        "| Dense(500), Dense(200), Dense(100), Dense(50) | 0.001 | 1000 | 20 | 0.2 | 1.4654 | 0.4819 | 1.4353 | 0.4923 |\n",
        "| Dense(500), Dense(200), Dense(100), Dense(50) | 0.001 | 1000 | 50 | 0.2 | 1.4533 | 0.5169 | 1.4506 | 0.5166 |\n",
        "| Dense(500), Dense(200), Dense(100), Dense(50) | 0.001 | 1000 | 100 | 0.2 | 2.0430 | 0.5047 | 2.0269 | 0.5100 | 668 | Massive overfitting (traninig acc. 83%)|\n",
        "| Dense(500), Dropout(0.5), Dense(200), Dropout(0.5), Dense(100), Dropout(0.5), Dense(50) | 0.001 | 1000 | 100 | 0.2 | 1.8931 | 0.3168 | 1.8796 | 0.3247 | | Way too much regularisation |\n",
        "| Dense(500), Dropout(0.1), Dense(200), Dropout(0.1), Dense(100), Dropout(0.1), Dense(50) | 0.001 | 1000 | 100 | 0.2 | 1.4206 | 0.5299 | 1.4032 | 0.5378 | 743 | Still a bit of overfitting (training acc. 68%) |\n",
        "| Dense(500), Dropout(0.2), Dense(200), Dropout(0.2), Dense(100), Dropout(0.2), Dense(50) | 0.001 | 1000 | 100 | 0.2 | 1.3798 | 0.5190 | 1.3576 | 0.5210 | 744 | Less overfitting, perhaps a bit (training acc. 57%) |\n",
        "| Dense(500), Dropout(0.2), Dense(200), Dropout(0.2), Dense(100), Dropout(0.2), Dense(50) | 0.001 | 1000 | 300 | 0.2 | 1.4578 | 0.5177 | 1.4563 | 0.5224 | 2123 | More overfitting (training acc. 65%).  More epochs hasn't helped much |\n",
        "| Conv(16, 3), MP(2), Conv(32, 3), MP(2), Conv(64, 3), MP(2), Flatten, Dense(512) | 0.001 | 1000 | 20 | 0.2 | 1.1048 | 0.6200 | 1.1056 | 0.6125 | 624 | First attempt at convolutional network.  Doesn't look like it has converged |\n",
        "| Conv(16, 3), MP(2), Conv(32, 3), MP(2), Conv(64, 3), MP(2), Flatten, Dense(512) | 0.001 | 1000 | 50 | 0.2 | 1.0049 | 0.6623 | 1.0013 | 0.6610 | 1457 | Closer to converging, although could probably go farther.  slight overfitting (Test acc. 75%) |\n",
        "| Conv(16, 3), MP(2), Conv(32, 3), MP(2), Conv(64, 3), MP(2), Flatten, Dense(512), Dropout(0.5) | 0.001 | 1000 | 50 | 0.2 | 0.9329 | 0.6780 | 0.9345 | 0.6812 | 1523 | Dropout has decreased overfitting, still not converging |\n",
        "|Added dropout layers between convolutional layers.  Much less overfitting but not converged after 50 epochs.  Accuracy: 68% |\n",
        "| Only Dropout last (biggest) convolutional layer.  Increased acurracy to 73%, although quite a lot of overfitting. |\n",
        "| Increasing Dropout (0.2 -> 0.4) reduced overfitting but acc still 73%.  Looks like it hasn't converged yet though |\n",
        "| Increasing epochs to 100, and tweaking some hyperparms has yields an accuracy of 73.68%, takes 1h30m to train this model. |\n",
        "| Switching to GPU reduces runtime to 3m30s.  Final accuracy was 75% in this case |\n",
        "\n",
        "\n",
        "Best test accuracy - 53.8% \n",
        "Not bad for simple network without convolutions.  \n",
        "Lin, Memisevic and Konda manage to get 70% using 'linear bottleneck layers and unsuperpervised pre-training using autoencoders without hidden unit biases'.\n",
        "They also manage to achieve 78% accuracy by 'adding deformations to the training data'.\n",
        "\n",
        "\n",
        "\n",
        "\n"
      ]
    },
    {
      "cell_type": "code",
      "execution_count": null,
      "metadata": {
        "colab": {
          "base_uri": "https://localhost:8080/"
        },
        "id": "gJlzSk3pFk7J",
        "outputId": "97e3ec30-a578-4734-f538-88e3e87303fd"
      },
      "outputs": [
        {
          "data": {
            "text/plain": [
              "100"
            ]
          },
          "execution_count": 98,
          "metadata": {},
          "output_type": "execute_result"
        }
      ],
      "source": [
        "metrics=['loss', 'accuracy', 'val_loss', 'val_accuracy']\n",
        "#plot_curve(epochs, hist, metrics)\n",
        "epochs"
      ]
    }
  ],
  "metadata": {
    "colab": {
      "provenance": [],
      "toc_visible": true,
      "authorship_tag": "ABX9TyOYej4M4znSv5/4yTtPE+HZ",
      "include_colab_link": true
    },
    "kernelspec": {
      "display_name": "Python 3",
      "name": "python3"
    },
    "language_info": {
      "name": "python"
    },
    "accelerator": "GPU",
    "gpuClass": "standard"
  },
  "nbformat": 4,
  "nbformat_minor": 0
}